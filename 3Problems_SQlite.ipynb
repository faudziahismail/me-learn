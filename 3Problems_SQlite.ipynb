{
 "cells": [
  {
   "cell_type": "markdown",
   "metadata": {},
   "source": [
    "<center>\n",
    "    <img src=\"https://s3-api.us-geo.objectstorage.softlayer.net/cf-courses-data/CognitiveClass/Logos/organization_logo/organization_logo.png\" width=\"300\" alt=\"cognitiveclass.ai logo\">\n",
    "</center>\n",
    "\n",
    "# Practice Lab: Data type considerations for real world datasets\n",
    "\n",
    "Estimated time needed: 30 minutes\n",
    "\n",
    "## Objectives\n",
    "\n",
    "Using this R notebook you will:\n",
    "\n",
    "1.  Understand two real world datasets\n",
    "2.  Create tables in SQLite database while paying particular attention to data types\n",
    "3.  Load the datasets into two separate tables in a SQLite database\n",
    "4.  Practice your SQL skills in R to solve some problems\n"
   ]
  },
  {
   "cell_type": "markdown",
   "metadata": {},
   "source": [
    "# Understand the datasets\n",
    "\n",
    "To complete the assignment problems in this notebook you will be using subsetted snapshots of one dataset from Statistics Canada, and one from the Bank of Canada. The links to the prepared datasets are provided in the next section; the interested student can explore the landing pages for the source datasets as follows:\n",
    "\n",
    "1.  <a href=\"https://www150.statcan.gc.ca/t1/tbl1/en/tv.action?utm_medium=Exinfluencer&utm_source=Exinfluencer&utm_content=000026UJ&utm_term=10006555&utm_id=NA-SkillsNetwork-Channel-SkillsNetworkCoursesIBMRP0203ENSkillsNetwork890-2023-01-01&pid=3210035901\">Canadian Principal Crops (Data & Metadata)</a>\n",
    "2.  <a href=\"https://www.bankofcanada.ca/rates/exchange/daily-exchange-rates?utm_medium=Exinfluencer&utm_source=Exinfluencer&utm_content=000026UJ&utm_term=10006555&utm_id=NA-SkillsNetwork-Channel-SkillsNetworkCoursesIBMRP0203ENSkillsNetwork890-2023-01-01\">Bank of Canada daily average exchange rates</a>\n",
    "\n",
    "### 1. Canadian Principal Crops Data\n",
    "\n",
    "This dataset contains agricultural production measures for the principle crops grown in Canada, including a breakdown by province and teritory, for each year from 1908 to 2020.\n",
    "\n",
    "For this assignment you will use a preprocessed snapshot of this dataset (see next section).\n",
    "\n",
    "A detailed description of this dataset can be obtained from the StatsCan Data Portal at:\n",
    "[https://www150.statcan.gc.ca/t1/tbl1/en/tv.action?pid=3210035901](https://www150.statcan.gc.ca/t1/tbl1/en/tv.action?utm_medium=Exinfluencer&utm_source=Exinfluencer&utm_content=000026UJ&utm_term=10006555&utm_id=NA-SkillsNetwork-Channel-SkillsNetworkCoursesIBMRP0203ENSkillsNetwork890-2023-01-01&pid=3210035901&cm_mmc=Email_Newsletter-_-Developer_Ed%2BTech-_-WW_WW-_-SkillsNetwork-Courses-IBM-RP0203EN-SkillsNetwork-23863830&cm_mmca1=000026UJ&cm_mmca2=10006555&cm_mmca3=M12345678&cvosrc=email.Newsletter.M12345678&cvo_campaign=000026UJ)  \n",
    "Detailed information is included in the metadata file and as header text in the data file, which can be downloaded - look for the 'download options' link.  \n",
    "\n",
    "### 2. Bank of Canada daily average exchange rates\n",
    "\n",
    "This dataset contains the daily average exchange rates for multiple foreign currencies. Exchange rates are expressed as 1 unit of the foreign currency converted into Canadian dollars. It includes only the latest four years of data, and the rates are published once each business day by 16:30 ET.\n",
    "\n",
    "For this assignment you will use a snapshot of this dataset with only the USD-CAD exchange rates included (see next section).\n",
    "\n",
    "A brief description of this dataset and the original dataset can be obtained from the Bank of Canada Data Portal at:\n",
    "[https://www.bankofcanada.ca/rates/exchange/daily-exchange-rates/](https://www.bankofcanada.ca/rates/exchange/daily-exchange-rates?utm_medium=Exinfluencer&utm_source=Exinfluencer&utm_content=000026UJ&utm_term=10006555&utm_id=NA-SkillsNetwork-Channel-SkillsNetworkCoursesIBMRP0203ENSkillsNetwork890-2023-01-01&cm_mmc=Email_Newsletter-_-Developer_Ed%2BTech-_-WW_WW-_-SkillsNetwork-Courses-IBM-RP0203EN-SkillsNetwork-23863830&cm_mmca1=000026UJ&cm_mmca2=10006555&cm_mmca3=M12345678&cvosrc=email.Newsletter.M12345678&cvo_campaign=000026UJ)\n"
   ]
  },
  {
   "cell_type": "markdown",
   "metadata": {},
   "source": [
    "### Dataset URLs\n",
    "\n",
    "1.  Annual Crop Data: <https://cf-courses-data.s3.us.cloud-object-storage.appdomain.cloud/IBM-RP0203EN-SkillsNetwork/labs/Practice%20Assignment/Annual_Crop_Data.csv>\n",
    "\n",
    "2.  Daily FX Data: <https://cf-courses-data.s3.us.cloud-object-storage.appdomain.cloud/IBM-RP0203EN-SkillsNetwork/labs/Practice%20Assignment/Daily_FX.csv>\n",
    "\n",
    "<span style=\"color:red\">**IMPORTANT:**</span> You will be loading these datasets directly into R data frames from the URLs instead of from the StatsCan and Bank of Canada portals. The versions provided at these URLs are simplified and subsetted versions of the original datasets.\n"
   ]
  },
  {
   "cell_type": "markdown",
   "metadata": {},
   "source": [
    "### Load the csv files into dataframes and inspect them\n",
    "\n",
    "Check the datatypes and whether the data make sense given the column names. In particular, ensure the date columns are typed as \\<chr>. \n",
    "\n",
    "In R and Python, for example, date-like strings may be interpreted by I/O functions as dates by default. Normally this is fine but keep in mind it may also have unintended consequences, such as when moving data from one environment to another.\n",
    "  \n"
   ]
  },
  {
   "cell_type": "markdown",
   "metadata": {},
   "source": [
    "#### Now let's load these datasets into four separate tables.\n",
    "\n",
    "Let's first load the RSQLite package:\n"
   ]
  },
  {
   "cell_type": "code",
   "execution_count": 3,
   "metadata": {
    "tags": []
   },
   "outputs": [
    {
     "name": "stderr",
     "output_type": "stream",
     "text": [
      "also installing the dependencies ‘fastmap’, ‘bit’, ‘rlang’, ‘cachem’, ‘bit64’, ‘blob’, ‘memoise’, ‘cpp11’\n",
      "\n",
      "Updating HTML index of packages in '.Library'\n",
      "Making 'packages.html' ... done\n"
     ]
    }
   ],
   "source": [
    "install.packages(\"RSQLite\")\n"
   ]
  },
  {
   "cell_type": "code",
   "execution_count": 1,
   "metadata": {
    "tags": []
   },
   "outputs": [],
   "source": [
    "library(\"RSQLite\")"
   ]
  },
  {
   "cell_type": "markdown",
   "metadata": {},
   "source": [
    "### Connect to the database\n",
    "\n",
    "Load the RSQLite database interface package and establish a connection. \n"
   ]
  },
  {
   "cell_type": "code",
   "execution_count": 2,
   "metadata": {
    "tags": []
   },
   "outputs": [],
   "source": [
    "# write your solution here.\n",
    "conn <- dbConnect(RSQLite::SQLite(),\"FinalDB_lab4.sqlite\")"
   ]
  },
  {
   "cell_type": "markdown",
   "metadata": {},
   "source": [
    "<details>\n",
    "<summary>Click here to view/hide solution</summary>\n",
    "<p>\n",
    "\n",
    "```\n",
    "conn <- dbConnect(RSQLite::SQLite(),\"FinalDB_lab4.sqlite\")\n",
    "```\n",
    "\n",
    "</details>\n"
   ]
  },
  {
   "cell_type": "markdown",
   "metadata": {},
   "source": [
    "## Table creation steps:\n",
    "\n",
    "Use the following names for the tables: \n",
    "\n",
    "1.  **CROP_DATA**\n",
    "2.  **DAILY_FX**\n"
   ]
  },
  {
   "cell_type": "markdown",
   "metadata": {},
   "source": [
    "### Create \"CROP_DATA\" table in RSQLite.\n",
    "\n",
    "Also, check whether the table was successfully created.\n"
   ]
  },
  {
   "cell_type": "code",
   "execution_count": 5,
   "metadata": {
    "tags": []
   },
   "outputs": [
    {
     "ename": "ERROR",
     "evalue": "Error: table CROP_DATA already exists\n",
     "execution_count": 5,
     "output_type": "error",
     "traceback": [
      "Error: table CROP_DATA already exists\nTraceback:\n",
      "1. dbExecute(conn, \"CREATE TABLE CROP_DATA (\\n                                      CD_ID INTEGER NOT NULL,\\n                                      YEAR DATE NOT NULL,\\n                                      CROP_TYPE VARCHAR(20) NOT NULL,\\n                                      GEO VARCHAR(20) NOT NULL, \\n                                      SEEDED_AREA INTEGER NOT NULL,\\n                                      HARVESTED_AREA INTEGER NOT NULL,\\n                                      PRODUCTION INTEGER NOT NULL,\\n                                      AVG_YIELD INTEGER NOT NULL,\\n                                      PRIMARY KEY (CD_ID)\\n                                      )\", \n .     errors = FALSE)",
      "2. dbExecute(conn, \"CREATE TABLE CROP_DATA (\\n                                      CD_ID INTEGER NOT NULL,\\n                                      YEAR DATE NOT NULL,\\n                                      CROP_TYPE VARCHAR(20) NOT NULL,\\n                                      GEO VARCHAR(20) NOT NULL, \\n                                      SEEDED_AREA INTEGER NOT NULL,\\n                                      HARVESTED_AREA INTEGER NOT NULL,\\n                                      PRODUCTION INTEGER NOT NULL,\\n                                      AVG_YIELD INTEGER NOT NULL,\\n                                      PRIMARY KEY (CD_ID)\\n                                      )\", \n .     errors = FALSE)",
      "3. dbSendStatement(conn, statement, ...)",
      "4. dbSendStatement(conn, statement, ...)",
      "5. dbSendQuery(conn, statement, ...)",
      "6. dbSendQuery(conn, statement, ...)",
      "7. .local(conn, statement, ...)",
      "8. new(\"SQLiteResult\", sql = statement, ptr = result_create(conn@ptr, \n .     statement), conn = conn, bigint = conn@bigint)",
      "9. initialize(value, ...)",
      "10. initialize(value, ...)",
      "11. result_create(conn@ptr, statement)"
     ]
    }
   ],
   "source": [
    "#CROP_DATA:\n",
    "df1 <- dbExecute(conn, \n",
    "                    \"CREATE TABLE CROP_DATA (\n",
    "                                      CD_ID INTEGER NOT NULL,\n",
    "                                      YEAR DATE NOT NULL,\n",
    "                                      CROP_TYPE VARCHAR(20) NOT NULL,\n",
    "                                      GEO VARCHAR(20) NOT NULL, \n",
    "                                      SEEDED_AREA INTEGER NOT NULL,\n",
    "                                      HARVESTED_AREA INTEGER NOT NULL,\n",
    "                                      PRODUCTION INTEGER NOT NULL,\n",
    "                                      AVG_YIELD INTEGER NOT NULL,\n",
    "                                      PRIMARY KEY (CD_ID)\n",
    "                                      )\", \n",
    "                    errors=FALSE\n",
    "                    )\n",
    "\n",
    "    if (df1 == -1){\n",
    "        cat (\"An error has occurred.\\n\")\n",
    "        msg <- odbcGetErrMsg(conn)\n",
    "        print (msg)\n",
    "    } else {\n",
    "        cat (\"Table was created successfully.\\n\")\n",
    "    }\n"
   ]
  },
  {
   "cell_type": "markdown",
   "metadata": {},
   "source": [
    "### Create \"DAILY_FX\" table in RSQLite.\n"
   ]
  },
  {
   "cell_type": "code",
   "execution_count": 5,
   "metadata": {
    "tags": []
   },
   "outputs": [
    {
     "name": "stdout",
     "output_type": "stream",
     "text": [
      "Table was created successfully.\n"
     ]
    }
   ],
   "source": [
    "# DAILY_FX: \n",
    "# write your solution here.\n",
    "df3 <- dbExecute(conn, \"CREATE TABLE DAILY_FX (\n",
    "                                DFX_ID INTEGER NOT NULL,\n",
    "                                DATE DATE NOT NULL, \n",
    "                                FXUSDCAD FLOAT(6),\n",
    "                                PRIMARY KEY (DFX_ID)\n",
    "                                )\",\n",
    "                    errors=FALSE\n",
    "                    )\n",
    "\n",
    "    if (df3 == -1){\n",
    "        cat (\"An error has occurred.\\n\")\n",
    "        msg <- odbcGetErrMsg(conn)\n",
    "        print (msg)\n",
    "    } else {\n",
    "        cat (\"Table was created successfully.\\n\")\n",
    "    } "
   ]
  },
  {
   "cell_type": "markdown",
   "metadata": {},
   "source": [
    "<details>\n",
    "<summary>Click here to view/hide solution</summary>\n",
    "<p>\n",
    "\n",
    "```\n",
    "df3 <- dbExecute(conn, \"CREATE TABLE DAILY_FX (\n",
    "                                DFX_ID INTEGER NOT NULL,\n",
    "                                DATE DATE NOT NULL, \n",
    "                                FXUSDCAD FLOAT(6),\n",
    "                                PRIMARY KEY (DFX_ID)\n",
    "                                )\",\n",
    "                    errors=FALSE\n",
    "                    )\n",
    "\n",
    "    if (df3 == -1){\n",
    "        cat (\"An error has occurred.\\n\")\n",
    "        msg <- odbcGetErrMsg(conn)\n",
    "        print (msg)\n",
    "    } else {\n",
    "        cat (\"Table was created successfully.\\n\")\n",
    "    } \n",
    "```\n",
    "\n",
    "</details>\n"
   ]
  },
  {
   "cell_type": "markdown",
   "metadata": {},
   "source": [
    "### Load the dataframes into the SQLite Database tables you created.\n"
   ]
  },
  {
   "cell_type": "code",
   "execution_count": 55,
   "metadata": {
    "tags": []
   },
   "outputs": [
    {
     "data": {
      "text/html": [
       "<table>\n",
       "<caption>A data.frame: 6 × 8</caption>\n",
       "<thead>\n",
       "\t<tr><th></th><th scope=col>CD_ID</th><th scope=col>YEAR</th><th scope=col>CROP_TYPE</th><th scope=col>GEO</th><th scope=col>SEEDED_AREA</th><th scope=col>HARVESTED_AREA</th><th scope=col>PRODUCTION</th><th scope=col>AVG_YIELD</th></tr>\n",
       "\t<tr><th></th><th scope=col>&lt;int&gt;</th><th scope=col>&lt;chr&gt;</th><th scope=col>&lt;fct&gt;</th><th scope=col>&lt;fct&gt;</th><th scope=col>&lt;int&gt;</th><th scope=col>&lt;int&gt;</th><th scope=col>&lt;int&gt;</th><th scope=col>&lt;int&gt;</th></tr>\n",
       "</thead>\n",
       "<tbody>\n",
       "\t<tr><th scope=row>1</th><td>0</td><td>1965-12-31</td><td>Barley</td><td>Alberta     </td><td>1372000</td><td>1372000</td><td>2504000</td><td>1825</td></tr>\n",
       "\t<tr><th scope=row>2</th><td>1</td><td>1965-12-31</td><td>Barley</td><td>Canada      </td><td>2476800</td><td>2476800</td><td>4752900</td><td>1920</td></tr>\n",
       "\t<tr><th scope=row>3</th><td>2</td><td>1965-12-31</td><td>Barley</td><td>Saskatchewan</td><td> 708000</td><td> 708000</td><td>1415000</td><td>2000</td></tr>\n",
       "\t<tr><th scope=row>4</th><td>3</td><td>1965-12-31</td><td>Canola</td><td>Alberta     </td><td> 297400</td><td> 297400</td><td> 215500</td><td> 725</td></tr>\n",
       "\t<tr><th scope=row>5</th><td>4</td><td>1965-12-31</td><td>Canola</td><td>Canada      </td><td> 580700</td><td> 580700</td><td> 512600</td><td> 885</td></tr>\n",
       "\t<tr><th scope=row>6</th><td>5</td><td>1965-12-31</td><td>Canola</td><td>Saskatchewan</td><td> 224600</td><td> 224600</td><td> 242700</td><td>1080</td></tr>\n",
       "</tbody>\n",
       "</table>\n"
      ],
      "text/latex": [
       "A data.frame: 6 × 8\n",
       "\\begin{tabular}{r|llllllll}\n",
       "  & CD\\_ID & YEAR & CROP\\_TYPE & GEO & SEEDED\\_AREA & HARVESTED\\_AREA & PRODUCTION & AVG\\_YIELD\\\\\n",
       "  & <int> & <chr> & <fct> & <fct> & <int> & <int> & <int> & <int>\\\\\n",
       "\\hline\n",
       "\t1 & 0 & 1965-12-31 & Barley & Alberta      & 1372000 & 1372000 & 2504000 & 1825\\\\\n",
       "\t2 & 1 & 1965-12-31 & Barley & Canada       & 2476800 & 2476800 & 4752900 & 1920\\\\\n",
       "\t3 & 2 & 1965-12-31 & Barley & Saskatchewan &  708000 &  708000 & 1415000 & 2000\\\\\n",
       "\t4 & 3 & 1965-12-31 & Canola & Alberta      &  297400 &  297400 &  215500 &  725\\\\\n",
       "\t5 & 4 & 1965-12-31 & Canola & Canada       &  580700 &  580700 &  512600 &  885\\\\\n",
       "\t6 & 5 & 1965-12-31 & Canola & Saskatchewan &  224600 &  224600 &  242700 & 1080\\\\\n",
       "\\end{tabular}\n"
      ],
      "text/markdown": [
       "\n",
       "A data.frame: 6 × 8\n",
       "\n",
       "| <!--/--> | CD_ID &lt;int&gt; | YEAR &lt;chr&gt; | CROP_TYPE &lt;fct&gt; | GEO &lt;fct&gt; | SEEDED_AREA &lt;int&gt; | HARVESTED_AREA &lt;int&gt; | PRODUCTION &lt;int&gt; | AVG_YIELD &lt;int&gt; |\n",
       "|---|---|---|---|---|---|---|---|---|\n",
       "| 1 | 0 | 1965-12-31 | Barley | Alberta      | 1372000 | 1372000 | 2504000 | 1825 |\n",
       "| 2 | 1 | 1965-12-31 | Barley | Canada       | 2476800 | 2476800 | 4752900 | 1920 |\n",
       "| 3 | 2 | 1965-12-31 | Barley | Saskatchewan |  708000 |  708000 | 1415000 | 2000 |\n",
       "| 4 | 3 | 1965-12-31 | Canola | Alberta      |  297400 |  297400 |  215500 |  725 |\n",
       "| 5 | 4 | 1965-12-31 | Canola | Canada       |  580700 |  580700 |  512600 |  885 |\n",
       "| 6 | 5 | 1965-12-31 | Canola | Saskatchewan |  224600 |  224600 |  242700 | 1080 |\n",
       "\n"
      ],
      "text/plain": [
       "  CD_ID YEAR       CROP_TYPE GEO          SEEDED_AREA HARVESTED_AREA PRODUCTION\n",
       "1 0     1965-12-31 Barley    Alberta      1372000     1372000        2504000   \n",
       "2 1     1965-12-31 Barley    Canada       2476800     2476800        4752900   \n",
       "3 2     1965-12-31 Barley    Saskatchewan  708000      708000        1415000   \n",
       "4 3     1965-12-31 Canola    Alberta       297400      297400         215500   \n",
       "5 4     1965-12-31 Canola    Canada        580700      580700         512600   \n",
       "6 5     1965-12-31 Canola    Saskatchewan  224600      224600         242700   \n",
       "  AVG_YIELD\n",
       "1 1825     \n",
       "2 1920     \n",
       "3 2000     \n",
       "4  725     \n",
       "5  885     \n",
       "6 1080     "
      ]
     },
     "metadata": {},
     "output_type": "display_data"
    },
    {
     "data": {
      "text/html": [
       "<table>\n",
       "<caption>A data.frame: 6 × 3</caption>\n",
       "<thead>\n",
       "\t<tr><th></th><th scope=col>DFX_ID</th><th scope=col>DATE</th><th scope=col>FXUSDCAD</th></tr>\n",
       "\t<tr><th></th><th scope=col>&lt;int&gt;</th><th scope=col>&lt;chr&gt;</th><th scope=col>&lt;dbl&gt;</th></tr>\n",
       "</thead>\n",
       "<tbody>\n",
       "\t<tr><th scope=row>1</th><td>0</td><td>2017-01-03</td><td>1.3435</td></tr>\n",
       "\t<tr><th scope=row>2</th><td>1</td><td>2017-01-04</td><td>1.3315</td></tr>\n",
       "\t<tr><th scope=row>3</th><td>2</td><td>2017-01-05</td><td>1.3244</td></tr>\n",
       "\t<tr><th scope=row>4</th><td>3</td><td>2017-01-06</td><td>1.3214</td></tr>\n",
       "\t<tr><th scope=row>5</th><td>4</td><td>2017-01-09</td><td>1.3240</td></tr>\n",
       "\t<tr><th scope=row>6</th><td>5</td><td>2017-01-10</td><td>1.3213</td></tr>\n",
       "</tbody>\n",
       "</table>\n"
      ],
      "text/latex": [
       "A data.frame: 6 × 3\n",
       "\\begin{tabular}{r|lll}\n",
       "  & DFX\\_ID & DATE & FXUSDCAD\\\\\n",
       "  & <int> & <chr> & <dbl>\\\\\n",
       "\\hline\n",
       "\t1 & 0 & 2017-01-03 & 1.3435\\\\\n",
       "\t2 & 1 & 2017-01-04 & 1.3315\\\\\n",
       "\t3 & 2 & 2017-01-05 & 1.3244\\\\\n",
       "\t4 & 3 & 2017-01-06 & 1.3214\\\\\n",
       "\t5 & 4 & 2017-01-09 & 1.3240\\\\\n",
       "\t6 & 5 & 2017-01-10 & 1.3213\\\\\n",
       "\\end{tabular}\n"
      ],
      "text/markdown": [
       "\n",
       "A data.frame: 6 × 3\n",
       "\n",
       "| <!--/--> | DFX_ID &lt;int&gt; | DATE &lt;chr&gt; | FXUSDCAD &lt;dbl&gt; |\n",
       "|---|---|---|---|\n",
       "| 1 | 0 | 2017-01-03 | 1.3435 |\n",
       "| 2 | 1 | 2017-01-04 | 1.3315 |\n",
       "| 3 | 2 | 2017-01-05 | 1.3244 |\n",
       "| 4 | 3 | 2017-01-06 | 1.3214 |\n",
       "| 5 | 4 | 2017-01-09 | 1.3240 |\n",
       "| 6 | 5 | 2017-01-10 | 1.3213 |\n",
       "\n"
      ],
      "text/plain": [
       "  DFX_ID DATE       FXUSDCAD\n",
       "1 0      2017-01-03 1.3435  \n",
       "2 1      2017-01-04 1.3315  \n",
       "3 2      2017-01-05 1.3244  \n",
       "4 3      2017-01-06 1.3214  \n",
       "5 4      2017-01-09 1.3240  \n",
       "6 5      2017-01-10 1.3213  "
      ]
     },
     "metadata": {},
     "output_type": "display_data"
    }
   ],
   "source": [
    "crop_df <- read.csv('https://cf-courses-data.s3.us.cloud-object-storage.appdomain.cloud/IBM-RP0203EN-SkillsNetwork/labs/Practice%20Assignment/Annual_Crop_Data.csv', colClasses=c(YEAR=\"character\"))\n",
    "daily_df <- read.csv('https://cf-courses-data.s3.us.cloud-object-storage.appdomain.cloud/IBM-RP0203EN-SkillsNetwork/labs/Practice%20Assignment/Daily_FX.csv', colClasses=c(DATE=\"character\"))\n",
    "\n",
    "head(crop_df)\n",
    "head(daily_df)"
   ]
  },
  {
   "cell_type": "code",
   "execution_count": 39,
   "metadata": {
    "tags": []
   },
   "outputs": [],
   "source": [
    "dbWriteTable(conn, \"CROP_DATA\", crop_df, overwrite=TRUE, header = TRUE)"
   ]
  },
  {
   "cell_type": "markdown",
   "metadata": {
    "tags": []
   },
   "source": [
    "<h4>Write the table in table named DAILY_FX </h4>\n"
   ]
  },
  {
   "cell_type": "code",
   "execution_count": 40,
   "metadata": {
    "tags": []
   },
   "outputs": [],
   "source": [
    "# Use dbWriteTable function to write the csv into created table name DAILY_FX.\n",
    "dbWriteTable(conn, \"DAILY_FIX_DATA\", daily_df, overwrite=TRUE, header = TRUE)"
   ]
  },
  {
   "cell_type": "markdown",
   "metadata": {},
   "source": [
    "<details>\n",
    "<summary>Click here to view/hide solution</summary>\n",
    "<p>\n",
    "\n",
    "```\n",
    "dbWriteTable(conn, \"DAILY_FX\", daily_df, overwrite=TRUE, header = TRUE)\n",
    "```\n",
    "\n",
    "</details>\n"
   ]
  },
  {
   "cell_type": "markdown",
   "metadata": {},
   "source": [
    "### Check list of tables in the present db.\n"
   ]
  },
  {
   "cell_type": "code",
   "execution_count": 41,
   "metadata": {
    "tags": []
   },
   "outputs": [
    {
     "data": {
      "text/html": [
       "<style>\n",
       ".list-inline {list-style: none; margin:0; padding: 0}\n",
       ".list-inline>li {display: inline-block}\n",
       ".list-inline>li:not(:last-child)::after {content: \"\\00b7\"; padding: 0 .5ex}\n",
       "</style>\n",
       "<ol class=list-inline><li>'CROP_DATA'</li><li>'DAILY_FIX_DATA'</li><li>'DAILY_FX'</li></ol>\n"
      ],
      "text/latex": [
       "\\begin{enumerate*}\n",
       "\\item 'CROP\\_DATA'\n",
       "\\item 'DAILY\\_FIX\\_DATA'\n",
       "\\item 'DAILY\\_FX'\n",
       "\\end{enumerate*}\n"
      ],
      "text/markdown": [
       "1. 'CROP_DATA'\n",
       "2. 'DAILY_FIX_DATA'\n",
       "3. 'DAILY_FX'\n",
       "\n",
       "\n"
      ],
      "text/plain": [
       "[1] \"CROP_DATA\"      \"DAILY_FIX_DATA\" \"DAILY_FX\"      "
      ]
     },
     "metadata": {},
     "output_type": "display_data"
    }
   ],
   "source": [
    "# write your solution here.\n",
    "dbListTables(conn)"
   ]
  },
  {
   "cell_type": "markdown",
   "metadata": {},
   "source": [
    "<details>\n",
    "<summary>Click here to view/hide solution</summary>\n",
    "<p>\n",
    "\n",
    "```\n",
    "dbListTables(conn)\n",
    "```\n",
    "\n",
    "</details>\n"
   ]
  },
  {
   "cell_type": "markdown",
   "metadata": {},
   "source": [
    "## Now let's solve some practice problems using SQL commands:\n"
   ]
  },
  {
   "cell_type": "markdown",
   "metadata": {},
   "source": [
    "### Find the number of rows in each table.\n"
   ]
  },
  {
   "cell_type": "code",
   "execution_count": 11,
   "metadata": {
    "tags": []
   },
   "outputs": [
    {
     "data": {
      "text/html": [
       "<table>\n",
       "<caption>A data.frame: 1 × 1</caption>\n",
       "<thead>\n",
       "\t<tr><th scope=col>COUNT(CD_ID)</th></tr>\n",
       "\t<tr><th scope=col>&lt;int&gt;</th></tr>\n",
       "</thead>\n",
       "<tbody>\n",
       "\t<tr><td>672</td></tr>\n",
       "</tbody>\n",
       "</table>\n"
      ],
      "text/latex": [
       "A data.frame: 1 × 1\n",
       "\\begin{tabular}{l}\n",
       " COUNT(CD\\_ID)\\\\\n",
       " <int>\\\\\n",
       "\\hline\n",
       "\t 672\\\\\n",
       "\\end{tabular}\n"
      ],
      "text/markdown": [
       "\n",
       "A data.frame: 1 × 1\n",
       "\n",
       "| COUNT(CD_ID) &lt;int&gt; |\n",
       "|---|\n",
       "| 672 |\n",
       "\n"
      ],
      "text/plain": [
       "  COUNT(CD_ID)\n",
       "1 672         "
      ]
     },
     "metadata": {},
     "output_type": "display_data"
    }
   ],
   "source": [
    "dbGetQuery(conn, 'SELECT COUNT(CD_ID) FROM CROP_DATA')"
   ]
  },
  {
   "cell_type": "code",
   "execution_count": null,
   "metadata": {},
   "outputs": [],
   "source": [
    "# write your solution for table DAILY_FX."
   ]
  },
  {
   "cell_type": "markdown",
   "metadata": {},
   "source": [
    "<details>\n",
    "<summary>Click here to view/hide solution</summary>\n",
    "<p>\n",
    "\n",
    "```\n",
    "dbGetQuery(conn, 'SELECT COUNT(DFX_ID) FROM DAILY_FX')\n",
    "```\n",
    "\n",
    "</details>\n"
   ]
  },
  {
   "cell_type": "markdown",
   "metadata": {},
   "source": [
    "### Query and display the first 6 rows of the crop data.\n"
   ]
  },
  {
   "cell_type": "code",
   "execution_count": 46,
   "metadata": {
    "tags": []
   },
   "outputs": [
    {
     "data": {
      "text/html": [
       "<table>\n",
       "<caption>A data.frame: 6 × 8</caption>\n",
       "<thead>\n",
       "\t<tr><th scope=col>CD_ID</th><th scope=col>YEAR</th><th scope=col>CROP_TYPE</th><th scope=col>GEO</th><th scope=col>SEEDED_AREA</th><th scope=col>HARVESTED_AREA</th><th scope=col>PRODUCTION</th><th scope=col>AVG_YIELD</th></tr>\n",
       "\t<tr><th scope=col>&lt;int&gt;</th><th scope=col>&lt;chr&gt;</th><th scope=col>&lt;chr&gt;</th><th scope=col>&lt;chr&gt;</th><th scope=col>&lt;int&gt;</th><th scope=col>&lt;int&gt;</th><th scope=col>&lt;int&gt;</th><th scope=col>&lt;int&gt;</th></tr>\n",
       "</thead>\n",
       "<tbody>\n",
       "\t<tr><td>0</td><td>1965-12-31</td><td>Barley</td><td>Alberta     </td><td>1372000</td><td>1372000</td><td>2504000</td><td>1825</td></tr>\n",
       "\t<tr><td>1</td><td>1965-12-31</td><td>Barley</td><td>Canada      </td><td>2476800</td><td>2476800</td><td>4752900</td><td>1920</td></tr>\n",
       "\t<tr><td>2</td><td>1965-12-31</td><td>Barley</td><td>Saskatchewan</td><td> 708000</td><td> 708000</td><td>1415000</td><td>2000</td></tr>\n",
       "\t<tr><td>3</td><td>1965-12-31</td><td>Canola</td><td>Alberta     </td><td> 297400</td><td> 297400</td><td> 215500</td><td> 725</td></tr>\n",
       "\t<tr><td>4</td><td>1965-12-31</td><td>Canola</td><td>Canada      </td><td> 580700</td><td> 580700</td><td> 512600</td><td> 885</td></tr>\n",
       "\t<tr><td>5</td><td>1965-12-31</td><td>Canola</td><td>Saskatchewan</td><td> 224600</td><td> 224600</td><td> 242700</td><td>1080</td></tr>\n",
       "</tbody>\n",
       "</table>\n"
      ],
      "text/latex": [
       "A data.frame: 6 × 8\n",
       "\\begin{tabular}{llllllll}\n",
       " CD\\_ID & YEAR & CROP\\_TYPE & GEO & SEEDED\\_AREA & HARVESTED\\_AREA & PRODUCTION & AVG\\_YIELD\\\\\n",
       " <int> & <chr> & <chr> & <chr> & <int> & <int> & <int> & <int>\\\\\n",
       "\\hline\n",
       "\t 0 & 1965-12-31 & Barley & Alberta      & 1372000 & 1372000 & 2504000 & 1825\\\\\n",
       "\t 1 & 1965-12-31 & Barley & Canada       & 2476800 & 2476800 & 4752900 & 1920\\\\\n",
       "\t 2 & 1965-12-31 & Barley & Saskatchewan &  708000 &  708000 & 1415000 & 2000\\\\\n",
       "\t 3 & 1965-12-31 & Canola & Alberta      &  297400 &  297400 &  215500 &  725\\\\\n",
       "\t 4 & 1965-12-31 & Canola & Canada       &  580700 &  580700 &  512600 &  885\\\\\n",
       "\t 5 & 1965-12-31 & Canola & Saskatchewan &  224600 &  224600 &  242700 & 1080\\\\\n",
       "\\end{tabular}\n"
      ],
      "text/markdown": [
       "\n",
       "A data.frame: 6 × 8\n",
       "\n",
       "| CD_ID &lt;int&gt; | YEAR &lt;chr&gt; | CROP_TYPE &lt;chr&gt; | GEO &lt;chr&gt; | SEEDED_AREA &lt;int&gt; | HARVESTED_AREA &lt;int&gt; | PRODUCTION &lt;int&gt; | AVG_YIELD &lt;int&gt; |\n",
       "|---|---|---|---|---|---|---|---|\n",
       "| 0 | 1965-12-31 | Barley | Alberta      | 1372000 | 1372000 | 2504000 | 1825 |\n",
       "| 1 | 1965-12-31 | Barley | Canada       | 2476800 | 2476800 | 4752900 | 1920 |\n",
       "| 2 | 1965-12-31 | Barley | Saskatchewan |  708000 |  708000 | 1415000 | 2000 |\n",
       "| 3 | 1965-12-31 | Canola | Alberta      |  297400 |  297400 |  215500 |  725 |\n",
       "| 4 | 1965-12-31 | Canola | Canada       |  580700 |  580700 |  512600 |  885 |\n",
       "| 5 | 1965-12-31 | Canola | Saskatchewan |  224600 |  224600 |  242700 | 1080 |\n",
       "\n"
      ],
      "text/plain": [
       "  CD_ID YEAR       CROP_TYPE GEO          SEEDED_AREA HARVESTED_AREA PRODUCTION\n",
       "1 0     1965-12-31 Barley    Alberta      1372000     1372000        2504000   \n",
       "2 1     1965-12-31 Barley    Canada       2476800     2476800        4752900   \n",
       "3 2     1965-12-31 Barley    Saskatchewan  708000      708000        1415000   \n",
       "4 3     1965-12-31 Canola    Alberta       297400      297400         215500   \n",
       "5 4     1965-12-31 Canola    Canada        580700      580700         512600   \n",
       "6 5     1965-12-31 Canola    Saskatchewan  224600      224600         242700   \n",
       "  AVG_YIELD\n",
       "1 1825     \n",
       "2 1920     \n",
       "3 2000     \n",
       "4  725     \n",
       "5  885     \n",
       "6 1080     "
      ]
     },
     "metadata": {},
     "output_type": "display_data"
    }
   ],
   "source": [
    "# write your solution here.\n",
    "dbGetQuery(conn, 'SELECT* FROM CROP_DATA LIMIT 6')"
   ]
  },
  {
   "cell_type": "markdown",
   "metadata": {},
   "source": [
    "<details>\n",
    "<summary>Click here to view/hide solution</summary>\n",
    "<p>\n",
    "\n",
    "```\n",
    "dbGetQuery(conn, 'SELECT * FROM CROP_DATA LIMIT 6')\n",
    "```\n",
    "\n",
    "</details>\n"
   ]
  },
  {
   "cell_type": "markdown",
   "metadata": {},
   "source": [
    "### List the types of crops in the crop dataset.\n"
   ]
  },
  {
   "cell_type": "code",
   "execution_count": 15,
   "metadata": {
    "tags": []
   },
   "outputs": [
    {
     "data": {
      "text/html": [
       "<table>\n",
       "<caption>A data.frame: 4 × 1</caption>\n",
       "<thead>\n",
       "\t<tr><th scope=col>CROP_TYPE</th></tr>\n",
       "\t<tr><th scope=col>&lt;chr&gt;</th></tr>\n",
       "</thead>\n",
       "<tbody>\n",
       "\t<tr><td>Barley</td></tr>\n",
       "\t<tr><td>Canola</td></tr>\n",
       "\t<tr><td>Rye   </td></tr>\n",
       "\t<tr><td>Wheat </td></tr>\n",
       "</tbody>\n",
       "</table>\n"
      ],
      "text/latex": [
       "A data.frame: 4 × 1\n",
       "\\begin{tabular}{l}\n",
       " CROP\\_TYPE\\\\\n",
       " <chr>\\\\\n",
       "\\hline\n",
       "\t Barley\\\\\n",
       "\t Canola\\\\\n",
       "\t Rye   \\\\\n",
       "\t Wheat \\\\\n",
       "\\end{tabular}\n"
      ],
      "text/markdown": [
       "\n",
       "A data.frame: 4 × 1\n",
       "\n",
       "| CROP_TYPE &lt;chr&gt; |\n",
       "|---|\n",
       "| Barley |\n",
       "| Canola |\n",
       "| Rye    |\n",
       "| Wheat  |\n",
       "\n"
      ],
      "text/plain": [
       "  CROP_TYPE\n",
       "1 Barley   \n",
       "2 Canola   \n",
       "3 Rye      \n",
       "4 Wheat    "
      ]
     },
     "metadata": {},
     "output_type": "display_data"
    }
   ],
   "source": [
    "# write your solution here.\n",
    "dbGetQuery(conn, 'SELECT DISTINCT (CROP_TYPE) FROM CROP_DATA')"
   ]
  },
  {
   "cell_type": "markdown",
   "metadata": {},
   "source": [
    "<details>\n",
    "<summary>Click here to view/hide solution</summary>\n",
    "<p>\n",
    "\n",
    "```\n",
    "dbGetQuery(conn, 'SELECT DISTINCT(CROP_TYPE) FROM CROP_DATA')\n",
    "```\n",
    "\n",
    "</details>\n"
   ]
  },
  {
   "cell_type": "markdown",
   "metadata": {},
   "source": [
    "### Query and display the first 6 rows of the crop data for Rye.\n"
   ]
  },
  {
   "cell_type": "code",
   "execution_count": 17,
   "metadata": {
    "tags": []
   },
   "outputs": [
    {
     "data": {
      "text/html": [
       "<table>\n",
       "<caption>A data.frame: 6 × 8</caption>\n",
       "<thead>\n",
       "\t<tr><th scope=col>CD_ID</th><th scope=col>YEAR</th><th scope=col>CROP_TYPE</th><th scope=col>GEO</th><th scope=col>SEEDED_AREA</th><th scope=col>HARVESTED_AREA</th><th scope=col>PRODUCTION</th><th scope=col>AVG_YIELD</th></tr>\n",
       "\t<tr><th scope=col>&lt;int&gt;</th><th scope=col>&lt;chr&gt;</th><th scope=col>&lt;chr&gt;</th><th scope=col>&lt;chr&gt;</th><th scope=col>&lt;int&gt;</th><th scope=col>&lt;int&gt;</th><th scope=col>&lt;int&gt;</th><th scope=col>&lt;int&gt;</th></tr>\n",
       "</thead>\n",
       "<tbody>\n",
       "\t<tr><td> 6</td><td>1965-12-31</td><td>Rye</td><td>Alberta     </td><td> 81000</td><td> 81000</td><td>116400</td><td>1435</td></tr>\n",
       "\t<tr><td> 7</td><td>1965-12-31</td><td>Rye</td><td>Canada      </td><td>323900</td><td>323900</td><td>453400</td><td>1400</td></tr>\n",
       "\t<tr><td> 8</td><td>1965-12-31</td><td>Rye</td><td>Saskatchewan</td><td>166000</td><td>166000</td><td>224000</td><td>1350</td></tr>\n",
       "\t<tr><td>18</td><td>1966-12-31</td><td>Rye</td><td>Alberta     </td><td> 70000</td><td> 70000</td><td>109000</td><td>1555</td></tr>\n",
       "\t<tr><td>19</td><td>1966-12-31</td><td>Rye</td><td>Canada      </td><td>293400</td><td>293400</td><td>437600</td><td>1490</td></tr>\n",
       "\t<tr><td>20</td><td>1966-12-31</td><td>Rye</td><td>Saskatchewan</td><td>161000</td><td>161000</td><td>228600</td><td>1420</td></tr>\n",
       "</tbody>\n",
       "</table>\n"
      ],
      "text/latex": [
       "A data.frame: 6 × 8\n",
       "\\begin{tabular}{llllllll}\n",
       " CD\\_ID & YEAR & CROP\\_TYPE & GEO & SEEDED\\_AREA & HARVESTED\\_AREA & PRODUCTION & AVG\\_YIELD\\\\\n",
       " <int> & <chr> & <chr> & <chr> & <int> & <int> & <int> & <int>\\\\\n",
       "\\hline\n",
       "\t  6 & 1965-12-31 & Rye & Alberta      &  81000 &  81000 & 116400 & 1435\\\\\n",
       "\t  7 & 1965-12-31 & Rye & Canada       & 323900 & 323900 & 453400 & 1400\\\\\n",
       "\t  8 & 1965-12-31 & Rye & Saskatchewan & 166000 & 166000 & 224000 & 1350\\\\\n",
       "\t 18 & 1966-12-31 & Rye & Alberta      &  70000 &  70000 & 109000 & 1555\\\\\n",
       "\t 19 & 1966-12-31 & Rye & Canada       & 293400 & 293400 & 437600 & 1490\\\\\n",
       "\t 20 & 1966-12-31 & Rye & Saskatchewan & 161000 & 161000 & 228600 & 1420\\\\\n",
       "\\end{tabular}\n"
      ],
      "text/markdown": [
       "\n",
       "A data.frame: 6 × 8\n",
       "\n",
       "| CD_ID &lt;int&gt; | YEAR &lt;chr&gt; | CROP_TYPE &lt;chr&gt; | GEO &lt;chr&gt; | SEEDED_AREA &lt;int&gt; | HARVESTED_AREA &lt;int&gt; | PRODUCTION &lt;int&gt; | AVG_YIELD &lt;int&gt; |\n",
       "|---|---|---|---|---|---|---|---|\n",
       "|  6 | 1965-12-31 | Rye | Alberta      |  81000 |  81000 | 116400 | 1435 |\n",
       "|  7 | 1965-12-31 | Rye | Canada       | 323900 | 323900 | 453400 | 1400 |\n",
       "|  8 | 1965-12-31 | Rye | Saskatchewan | 166000 | 166000 | 224000 | 1350 |\n",
       "| 18 | 1966-12-31 | Rye | Alberta      |  70000 |  70000 | 109000 | 1555 |\n",
       "| 19 | 1966-12-31 | Rye | Canada       | 293400 | 293400 | 437600 | 1490 |\n",
       "| 20 | 1966-12-31 | Rye | Saskatchewan | 161000 | 161000 | 228600 | 1420 |\n",
       "\n"
      ],
      "text/plain": [
       "  CD_ID YEAR       CROP_TYPE GEO          SEEDED_AREA HARVESTED_AREA PRODUCTION\n",
       "1  6    1965-12-31 Rye       Alberta       81000       81000         116400    \n",
       "2  7    1965-12-31 Rye       Canada       323900      323900         453400    \n",
       "3  8    1965-12-31 Rye       Saskatchewan 166000      166000         224000    \n",
       "4 18    1966-12-31 Rye       Alberta       70000       70000         109000    \n",
       "5 19    1966-12-31 Rye       Canada       293400      293400         437600    \n",
       "6 20    1966-12-31 Rye       Saskatchewan 161000      161000         228600    \n",
       "  AVG_YIELD\n",
       "1 1435     \n",
       "2 1400     \n",
       "3 1350     \n",
       "4 1555     \n",
       "5 1490     \n",
       "6 1420     "
      ]
     },
     "metadata": {},
     "output_type": "display_data"
    }
   ],
   "source": [
    "# write your solution here.\n",
    "dbGetQuery(conn, \"SELECT*FROM CROP_DATA WHERE CROP_TYPE='Rye' LIMIT 6\")"
   ]
  },
  {
   "cell_type": "markdown",
   "metadata": {},
   "source": [
    "<details>\n",
    "<summary>Click here to view/hide solution</summary>\n",
    "<p>\n",
    "\n",
    "```\n",
    "dbGetQuery(conn, \"SELECT * FROM CROP_DATA WHERE CROP_TYPE='Rye' LIMIT 6\")\n",
    "```\n",
    "\n",
    "</details>\n"
   ]
  },
  {
   "cell_type": "markdown",
   "metadata": {},
   "source": [
    "### Which crops have had an average yield greater than or equal to 3000 KG per Hectare?\n"
   ]
  },
  {
   "cell_type": "code",
   "execution_count": 21,
   "metadata": {
    "tags": []
   },
   "outputs": [
    {
     "data": {
      "text/html": [
       "<table>\n",
       "<caption>A data.frame: 3 × 1</caption>\n",
       "<thead>\n",
       "\t<tr><th scope=col>CROP_TYPE</th></tr>\n",
       "\t<tr><th scope=col>&lt;chr&gt;</th></tr>\n",
       "</thead>\n",
       "<tbody>\n",
       "\t<tr><td>Barley</td></tr>\n",
       "\t<tr><td>Wheat </td></tr>\n",
       "\t<tr><td>Rye   </td></tr>\n",
       "</tbody>\n",
       "</table>\n"
      ],
      "text/latex": [
       "A data.frame: 3 × 1\n",
       "\\begin{tabular}{l}\n",
       " CROP\\_TYPE\\\\\n",
       " <chr>\\\\\n",
       "\\hline\n",
       "\t Barley\\\\\n",
       "\t Wheat \\\\\n",
       "\t Rye   \\\\\n",
       "\\end{tabular}\n"
      ],
      "text/markdown": [
       "\n",
       "A data.frame: 3 × 1\n",
       "\n",
       "| CROP_TYPE &lt;chr&gt; |\n",
       "|---|\n",
       "| Barley |\n",
       "| Wheat  |\n",
       "| Rye    |\n",
       "\n"
      ],
      "text/plain": [
       "  CROP_TYPE\n",
       "1 Barley   \n",
       "2 Wheat    \n",
       "3 Rye      "
      ]
     },
     "metadata": {},
     "output_type": "display_data"
    }
   ],
   "source": [
    "# write your solution here.\n",
    "dbGetQuery(conn, 'SELECT DISTINCT(CROP_TYPE) FROM CROP_DATA WHERE AVG_YIELD >3000' )"
   ]
  },
  {
   "cell_type": "markdown",
   "metadata": {},
   "source": [
    "<details>\n",
    "<summary>Click here to view/hide solution</summary>\n",
    "<p>\n",
    "\n",
    "```\n",
    "dbGetQuery(conn, 'SELECT DISTINCT(CROP_TYPE) \n",
    "FROM CROP_DATA \n",
    "WHERE AVG_YIELD > 3000')\n",
    "```\n",
    "\n",
    "</details>\n"
   ]
  },
  {
   "cell_type": "markdown",
   "metadata": {},
   "source": [
    "### Find the first and last dates of each table.\n"
   ]
  },
  {
   "cell_type": "code",
   "execution_count": 51,
   "metadata": {
    "tags": []
   },
   "outputs": [
    {
     "data": {
      "text/html": [
       "<table>\n",
       "<caption>A data.frame: 1 × 2</caption>\n",
       "<thead>\n",
       "\t<tr><th scope=col>FIRST_DATE</th><th scope=col>LAST_DATE</th></tr>\n",
       "\t<tr><th scope=col>&lt;chr&gt;</th><th scope=col>&lt;chr&gt;</th></tr>\n",
       "</thead>\n",
       "<tbody>\n",
       "\t<tr><td>1965-12-31</td><td>2020-12-31</td></tr>\n",
       "</tbody>\n",
       "</table>\n"
      ],
      "text/latex": [
       "A data.frame: 1 × 2\n",
       "\\begin{tabular}{ll}\n",
       " FIRST\\_DATE & LAST\\_DATE\\\\\n",
       " <chr> & <chr>\\\\\n",
       "\\hline\n",
       "\t 1965-12-31 & 2020-12-31\\\\\n",
       "\\end{tabular}\n"
      ],
      "text/markdown": [
       "\n",
       "A data.frame: 1 × 2\n",
       "\n",
       "| FIRST_DATE &lt;chr&gt; | LAST_DATE &lt;chr&gt; |\n",
       "|---|---|\n",
       "| 1965-12-31 | 2020-12-31 |\n",
       "\n"
      ],
      "text/plain": [
       "  FIRST_DATE LAST_DATE \n",
       "1 1965-12-31 2020-12-31"
      ]
     },
     "metadata": {},
     "output_type": "display_data"
    }
   ],
   "source": [
    "dbGetQuery(conn, 'SELECT min(YEAR) FIRST_DATE, max(YEAR) LAST_DATE FROM CROP_DATA')"
   ]
  },
  {
   "cell_type": "code",
   "execution_count": 56,
   "metadata": {
    "tags": []
   },
   "outputs": [
    {
     "data": {
      "text/html": [
       "<table>\n",
       "<caption>A data.frame: 1 × 2</caption>\n",
       "<thead>\n",
       "\t<tr><th scope=col>FIRST_DATE</th><th scope=col>LAST_DATE</th></tr>\n",
       "\t<tr><th scope=col>&lt;lgl&gt;</th><th scope=col>&lt;lgl&gt;</th></tr>\n",
       "</thead>\n",
       "<tbody>\n",
       "\t<tr><td>NA</td><td>NA</td></tr>\n",
       "</tbody>\n",
       "</table>\n"
      ],
      "text/latex": [
       "A data.frame: 1 × 2\n",
       "\\begin{tabular}{ll}\n",
       " FIRST\\_DATE & LAST\\_DATE\\\\\n",
       " <lgl> & <lgl>\\\\\n",
       "\\hline\n",
       "\t NA & NA\\\\\n",
       "\\end{tabular}\n"
      ],
      "text/markdown": [
       "\n",
       "A data.frame: 1 × 2\n",
       "\n",
       "| FIRST_DATE &lt;lgl&gt; | LAST_DATE &lt;lgl&gt; |\n",
       "|---|---|\n",
       "| NA | NA |\n",
       "\n"
      ],
      "text/plain": [
       "  FIRST_DATE LAST_DATE\n",
       "1 NA         NA       "
      ]
     },
     "metadata": {},
     "output_type": "display_data"
    }
   ],
   "source": [
    "# write your solution here for DAILY_FX.\n",
    "dbGetQuery(conn, 'SELECT MIN(DATE) FIRST_DATE, MAX(DATE) LAST_DATE FROM DAILY_FX')\n"
   ]
  },
  {
   "cell_type": "markdown",
   "metadata": {},
   "source": [
    "<details>\n",
    "<summary>Click here to view/hide solution</summary>\n",
    "<p>\n",
    "\n",
    "```\n",
    "dbGetQuery(conn, 'SELECT min(DATE) FIRST_DATE, max(DATE) LAST_DATE FROM DAILY_FX')\n",
    "```\n",
    "\n",
    "</details>\n"
   ]
  },
  {
   "cell_type": "markdown",
   "metadata": {},
   "source": [
    "### List the top 10 years of Wheat production in Saskatchewan in terms of harvested area.\n"
   ]
  },
  {
   "cell_type": "code",
   "execution_count": 59,
   "metadata": {
    "tags": []
   },
   "outputs": [
    {
     "data": {
      "text/html": [
       "<table>\n",
       "<caption>A data.frame: 10 × 3</caption>\n",
       "<thead>\n",
       "\t<tr><th scope=col>TOP_10_YRS</th><th scope=col>GEO</th><th scope=col>HARVESTED_AREA</th></tr>\n",
       "\t<tr><th scope=col>&lt;chr&gt;</th><th scope=col>&lt;chr&gt;</th><th scope=col>&lt;int&gt;</th></tr>\n",
       "</thead>\n",
       "<tbody>\n",
       "\t<tr><td>1986</td><td>Saskatchewan</td><td>8765400</td></tr>\n",
       "\t<tr><td>1991</td><td>Saskatchewan</td><td>8595120</td></tr>\n",
       "\t<tr><td>1983</td><td>Saskatchewan</td><td>8377000</td></tr>\n",
       "\t<tr><td>1985</td><td>Saskatchewan</td><td>8357000</td></tr>\n",
       "\t<tr><td>1990</td><td>Saskatchewan</td><td>8308200</td></tr>\n",
       "\t<tr><td>1992</td><td>Saskatchewan</td><td>8284100</td></tr>\n",
       "\t<tr><td>1987</td><td>Saskatchewan</td><td>8235400</td></tr>\n",
       "\t<tr><td>1989</td><td>Saskatchewan</td><td>8097700</td></tr>\n",
       "\t<tr><td>1984</td><td>Saskatchewan</td><td>8094000</td></tr>\n",
       "\t<tr><td>1967</td><td>Saskatchewan</td><td>7960000</td></tr>\n",
       "</tbody>\n",
       "</table>\n"
      ],
      "text/latex": [
       "A data.frame: 10 × 3\n",
       "\\begin{tabular}{lll}\n",
       " TOP\\_10\\_YRS & GEO & HARVESTED\\_AREA\\\\\n",
       " <chr> & <chr> & <int>\\\\\n",
       "\\hline\n",
       "\t 1986 & Saskatchewan & 8765400\\\\\n",
       "\t 1991 & Saskatchewan & 8595120\\\\\n",
       "\t 1983 & Saskatchewan & 8377000\\\\\n",
       "\t 1985 & Saskatchewan & 8357000\\\\\n",
       "\t 1990 & Saskatchewan & 8308200\\\\\n",
       "\t 1992 & Saskatchewan & 8284100\\\\\n",
       "\t 1987 & Saskatchewan & 8235400\\\\\n",
       "\t 1989 & Saskatchewan & 8097700\\\\\n",
       "\t 1984 & Saskatchewan & 8094000\\\\\n",
       "\t 1967 & Saskatchewan & 7960000\\\\\n",
       "\\end{tabular}\n"
      ],
      "text/markdown": [
       "\n",
       "A data.frame: 10 × 3\n",
       "\n",
       "| TOP_10_YRS &lt;chr&gt; | GEO &lt;chr&gt; | HARVESTED_AREA &lt;int&gt; |\n",
       "|---|---|---|\n",
       "| 1986 | Saskatchewan | 8765400 |\n",
       "| 1991 | Saskatchewan | 8595120 |\n",
       "| 1983 | Saskatchewan | 8377000 |\n",
       "| 1985 | Saskatchewan | 8357000 |\n",
       "| 1990 | Saskatchewan | 8308200 |\n",
       "| 1992 | Saskatchewan | 8284100 |\n",
       "| 1987 | Saskatchewan | 8235400 |\n",
       "| 1989 | Saskatchewan | 8097700 |\n",
       "| 1984 | Saskatchewan | 8094000 |\n",
       "| 1967 | Saskatchewan | 7960000 |\n",
       "\n"
      ],
      "text/plain": [
       "   TOP_10_YRS GEO          HARVESTED_AREA\n",
       "1  1986       Saskatchewan 8765400       \n",
       "2  1991       Saskatchewan 8595120       \n",
       "3  1983       Saskatchewan 8377000       \n",
       "4  1985       Saskatchewan 8357000       \n",
       "5  1990       Saskatchewan 8308200       \n",
       "6  1992       Saskatchewan 8284100       \n",
       "7  1987       Saskatchewan 8235400       \n",
       "8  1989       Saskatchewan 8097700       \n",
       "9  1984       Saskatchewan 8094000       \n",
       "10 1967       Saskatchewan 7960000       "
      ]
     },
     "metadata": {},
     "output_type": "display_data"
    }
   ],
   "source": [
    "dbGetQuery(conn, \"SELECT strftime('%Y',YEAR) AS TOP_10_YRS, GEO, HARVESTED_AREA \n",
    "    FROM CROP_DATA \n",
    "    WHERE CROP_TYPE='Wheat' AND \n",
    "          GEO='Saskatchewan'\n",
    "    ORDER BY HARVESTED_AREA DESC\n",
    "    LIMIT 10\")"
   ]
  },
  {
   "cell_type": "markdown",
   "metadata": {},
   "source": [
    "### How many years did Barley yield at least 2000 KG per Hectare in Canada?\n"
   ]
  },
  {
   "cell_type": "code",
   "execution_count": 3,
   "metadata": {
    "tags": []
   },
   "outputs": [
    {
     "data": {
      "text/html": [
       "<table>\n",
       "<caption>A data.frame: 1 × 1</caption>\n",
       "<thead>\n",
       "\t<tr><th scope=col>bARLEY_YRS_ABOVE_2000KG</th></tr>\n",
       "\t<tr><th scope=col>&lt;int&gt;</th></tr>\n",
       "</thead>\n",
       "<tbody>\n",
       "\t<tr><td>4</td></tr>\n",
       "</tbody>\n",
       "</table>\n"
      ],
      "text/latex": [
       "A data.frame: 1 × 1\n",
       "\\begin{tabular}{l}\n",
       " bARLEY\\_YRS\\_ABOVE\\_2000KG\\\\\n",
       " <int>\\\\\n",
       "\\hline\n",
       "\t 4\\\\\n",
       "\\end{tabular}\n"
      ],
      "text/markdown": [
       "\n",
       "A data.frame: 1 × 1\n",
       "\n",
       "| bARLEY_YRS_ABOVE_2000KG &lt;int&gt; |\n",
       "|---|\n",
       "| 4 |\n",
       "\n"
      ],
      "text/plain": [
       "  bARLEY_YRS_ABOVE_2000KG\n",
       "1 4                      "
      ]
     },
     "metadata": {},
     "output_type": "display_data"
    }
   ],
   "source": [
    "# write your solution here.\n",
    "dbGetQuery(conn, \"SELECT COUNT(DISTINCT(YEAR)) AS bARLEY_YRS_ABOVE_2000KG FROM CROP_DATA WHERE AVG_YIELD <2000 AND CROP_TYPE='Barley' AND Geo='Canada'\")\n",
    "           \n",
    "           "
   ]
  },
  {
   "cell_type": "markdown",
   "metadata": {},
   "source": [
    "<details>\n",
    "<summary>Click here to view/hide solution</summary>\n",
    "<p>\n",
    "\n",
    "```\n",
    "dbGetQuery(conn, \"SELECT COUNT(DISTINCT(YEAR)) AS BLY_YRS_ABOVE_2MTPH\n",
    "    FROM CROP_DATA \n",
    "    WHERE AVG_YIELD > 2000 AND \n",
    "          CROP_TYPE='Barley' AND \n",
    "          GEO='Canada' \")\n",
    "```\n",
    "\n",
    "</details>\n"
   ]
  },
  {
   "cell_type": "markdown",
   "metadata": {},
   "source": [
    "### How much farm land was seeeded with Barley in Alberta but not harvested each year since the year 2000?\n",
    "\n",
    "Express your answer as a percentage of seeded area. What assumption might be implied in reporting this calculation?\n"
   ]
  },
  {
   "cell_type": "code",
   "execution_count": 5,
   "metadata": {
    "tags": []
   },
   "outputs": [
    {
     "data": {
      "text/html": [
       "<table>\n",
       "<caption>A data.frame: 21 × 6</caption>\n",
       "<thead>\n",
       "\t<tr><th scope=col>YEAR</th><th scope=col>GEO</th><th scope=col>CROP_TYPE</th><th scope=col>SEEDED_AREA</th><th scope=col>HARVESTED_AREA</th><th scope=col>PCT_UNHARVESTED_AREA</th></tr>\n",
       "\t<tr><th scope=col>&lt;chr&gt;</th><th scope=col>&lt;chr&gt;</th><th scope=col>&lt;chr&gt;</th><th scope=col>&lt;int&gt;</th><th scope=col>&lt;int&gt;</th><th scope=col>&lt;int&gt;</th></tr>\n",
       "</thead>\n",
       "<tbody>\n",
       "\t<tr><td>2000</td><td>Alberta</td><td>Barley</td><td>2185300</td><td>1740100</td><td>20</td></tr>\n",
       "\t<tr><td>2001</td><td>Alberta</td><td>Barley</td><td>1983000</td><td>1618700</td><td>18</td></tr>\n",
       "\t<tr><td>2002</td><td>Alberta</td><td>Barley</td><td>2169100</td><td>1127000</td><td>48</td></tr>\n",
       "\t<tr><td>2003</td><td>Alberta</td><td>Barley</td><td>2144800</td><td>1788700</td><td>16</td></tr>\n",
       "\t<tr><td>2004</td><td>Alberta</td><td>Barley</td><td>1910100</td><td>1598500</td><td>16</td></tr>\n",
       "\t<tr><td>2005</td><td>Alberta</td><td>Barley</td><td>1709800</td><td>1456900</td><td>14</td></tr>\n",
       "\t<tr><td>2006</td><td>Alberta</td><td>Barley</td><td>1657100</td><td>1375900</td><td>16</td></tr>\n",
       "\t<tr><td>2007</td><td>Alberta</td><td>Barley</td><td>1962700</td><td>1728000</td><td>11</td></tr>\n",
       "\t<tr><td>2008</td><td>Alberta</td><td>Barley</td><td>1679400</td><td>1517600</td><td> 9</td></tr>\n",
       "\t<tr><td>2009</td><td>Alberta</td><td>Barley</td><td>1602600</td><td>1226200</td><td>23</td></tr>\n",
       "\t<tr><td>2010</td><td>Alberta</td><td>Barley</td><td>1509500</td><td>1264600</td><td>16</td></tr>\n",
       "\t<tr><td>2011</td><td>Alberta</td><td>Barley</td><td>1461000</td><td>1295000</td><td>11</td></tr>\n",
       "\t<tr><td>2012</td><td>Alberta</td><td>Barley</td><td>1537800</td><td>1384000</td><td>10</td></tr>\n",
       "\t<tr><td>2013</td><td>Alberta</td><td>Barley</td><td>1497300</td><td>1363800</td><td> 8</td></tr>\n",
       "\t<tr><td>2014</td><td>Alberta</td><td>Barley</td><td>1315200</td><td>1157400</td><td>11</td></tr>\n",
       "\t<tr><td>2015</td><td>Alberta</td><td>Barley</td><td>1416400</td><td>1167500</td><td>17</td></tr>\n",
       "\t<tr><td>2016</td><td>Alberta</td><td>Barley</td><td>1381600</td><td>1076500</td><td>22</td></tr>\n",
       "\t<tr><td>2017</td><td>Alberta</td><td>Barley</td><td>1153400</td><td>1011700</td><td>12</td></tr>\n",
       "\t<tr><td>2018</td><td>Alberta</td><td>Barley</td><td>1260200</td><td>1111600</td><td>11</td></tr>\n",
       "\t<tr><td>2019</td><td>Alberta</td><td>Barley</td><td>1441900</td><td>1272700</td><td>11</td></tr>\n",
       "\t<tr><td>2020</td><td>Alberta</td><td>Barley</td><td>1481800</td><td>1326200</td><td>10</td></tr>\n",
       "</tbody>\n",
       "</table>\n"
      ],
      "text/latex": [
       "A data.frame: 21 × 6\n",
       "\\begin{tabular}{llllll}\n",
       " YEAR & GEO & CROP\\_TYPE & SEEDED\\_AREA & HARVESTED\\_AREA & PCT\\_UNHARVESTED\\_AREA\\\\\n",
       " <chr> & <chr> & <chr> & <int> & <int> & <int>\\\\\n",
       "\\hline\n",
       "\t 2000 & Alberta & Barley & 2185300 & 1740100 & 20\\\\\n",
       "\t 2001 & Alberta & Barley & 1983000 & 1618700 & 18\\\\\n",
       "\t 2002 & Alberta & Barley & 2169100 & 1127000 & 48\\\\\n",
       "\t 2003 & Alberta & Barley & 2144800 & 1788700 & 16\\\\\n",
       "\t 2004 & Alberta & Barley & 1910100 & 1598500 & 16\\\\\n",
       "\t 2005 & Alberta & Barley & 1709800 & 1456900 & 14\\\\\n",
       "\t 2006 & Alberta & Barley & 1657100 & 1375900 & 16\\\\\n",
       "\t 2007 & Alberta & Barley & 1962700 & 1728000 & 11\\\\\n",
       "\t 2008 & Alberta & Barley & 1679400 & 1517600 &  9\\\\\n",
       "\t 2009 & Alberta & Barley & 1602600 & 1226200 & 23\\\\\n",
       "\t 2010 & Alberta & Barley & 1509500 & 1264600 & 16\\\\\n",
       "\t 2011 & Alberta & Barley & 1461000 & 1295000 & 11\\\\\n",
       "\t 2012 & Alberta & Barley & 1537800 & 1384000 & 10\\\\\n",
       "\t 2013 & Alberta & Barley & 1497300 & 1363800 &  8\\\\\n",
       "\t 2014 & Alberta & Barley & 1315200 & 1157400 & 11\\\\\n",
       "\t 2015 & Alberta & Barley & 1416400 & 1167500 & 17\\\\\n",
       "\t 2016 & Alberta & Barley & 1381600 & 1076500 & 22\\\\\n",
       "\t 2017 & Alberta & Barley & 1153400 & 1011700 & 12\\\\\n",
       "\t 2018 & Alberta & Barley & 1260200 & 1111600 & 11\\\\\n",
       "\t 2019 & Alberta & Barley & 1441900 & 1272700 & 11\\\\\n",
       "\t 2020 & Alberta & Barley & 1481800 & 1326200 & 10\\\\\n",
       "\\end{tabular}\n"
      ],
      "text/markdown": [
       "\n",
       "A data.frame: 21 × 6\n",
       "\n",
       "| YEAR &lt;chr&gt; | GEO &lt;chr&gt; | CROP_TYPE &lt;chr&gt; | SEEDED_AREA &lt;int&gt; | HARVESTED_AREA &lt;int&gt; | PCT_UNHARVESTED_AREA &lt;int&gt; |\n",
       "|---|---|---|---|---|---|\n",
       "| 2000 | Alberta | Barley | 2185300 | 1740100 | 20 |\n",
       "| 2001 | Alberta | Barley | 1983000 | 1618700 | 18 |\n",
       "| 2002 | Alberta | Barley | 2169100 | 1127000 | 48 |\n",
       "| 2003 | Alberta | Barley | 2144800 | 1788700 | 16 |\n",
       "| 2004 | Alberta | Barley | 1910100 | 1598500 | 16 |\n",
       "| 2005 | Alberta | Barley | 1709800 | 1456900 | 14 |\n",
       "| 2006 | Alberta | Barley | 1657100 | 1375900 | 16 |\n",
       "| 2007 | Alberta | Barley | 1962700 | 1728000 | 11 |\n",
       "| 2008 | Alberta | Barley | 1679400 | 1517600 |  9 |\n",
       "| 2009 | Alberta | Barley | 1602600 | 1226200 | 23 |\n",
       "| 2010 | Alberta | Barley | 1509500 | 1264600 | 16 |\n",
       "| 2011 | Alberta | Barley | 1461000 | 1295000 | 11 |\n",
       "| 2012 | Alberta | Barley | 1537800 | 1384000 | 10 |\n",
       "| 2013 | Alberta | Barley | 1497300 | 1363800 |  8 |\n",
       "| 2014 | Alberta | Barley | 1315200 | 1157400 | 11 |\n",
       "| 2015 | Alberta | Barley | 1416400 | 1167500 | 17 |\n",
       "| 2016 | Alberta | Barley | 1381600 | 1076500 | 22 |\n",
       "| 2017 | Alberta | Barley | 1153400 | 1011700 | 12 |\n",
       "| 2018 | Alberta | Barley | 1260200 | 1111600 | 11 |\n",
       "| 2019 | Alberta | Barley | 1441900 | 1272700 | 11 |\n",
       "| 2020 | Alberta | Barley | 1481800 | 1326200 | 10 |\n",
       "\n"
      ],
      "text/plain": [
       "   YEAR GEO     CROP_TYPE SEEDED_AREA HARVESTED_AREA PCT_UNHARVESTED_AREA\n",
       "1  2000 Alberta Barley    2185300     1740100        20                  \n",
       "2  2001 Alberta Barley    1983000     1618700        18                  \n",
       "3  2002 Alberta Barley    2169100     1127000        48                  \n",
       "4  2003 Alberta Barley    2144800     1788700        16                  \n",
       "5  2004 Alberta Barley    1910100     1598500        16                  \n",
       "6  2005 Alberta Barley    1709800     1456900        14                  \n",
       "7  2006 Alberta Barley    1657100     1375900        16                  \n",
       "8  2007 Alberta Barley    1962700     1728000        11                  \n",
       "9  2008 Alberta Barley    1679400     1517600         9                  \n",
       "10 2009 Alberta Barley    1602600     1226200        23                  \n",
       "11 2010 Alberta Barley    1509500     1264600        16                  \n",
       "12 2011 Alberta Barley    1461000     1295000        11                  \n",
       "13 2012 Alberta Barley    1537800     1384000        10                  \n",
       "14 2013 Alberta Barley    1497300     1363800         8                  \n",
       "15 2014 Alberta Barley    1315200     1157400        11                  \n",
       "16 2015 Alberta Barley    1416400     1167500        17                  \n",
       "17 2016 Alberta Barley    1381600     1076500        22                  \n",
       "18 2017 Alberta Barley    1153400     1011700        12                  \n",
       "19 2018 Alberta Barley    1260200     1111600        11                  \n",
       "20 2019 Alberta Barley    1441900     1272700        11                  \n",
       "21 2020 Alberta Barley    1481800     1326200        10                  "
      ]
     },
     "metadata": {},
     "output_type": "display_data"
    }
   ],
   "source": [
    "\n",
    "dbGetQuery(conn, \"SELECT strftime('%Y',YEAR) AS YEAR, GEO, CROP_TYPE,\n",
    "            SEEDED_AREA, HARVESTED_AREA, \n",
    "            100*(SEEDED_AREA-HARVESTED_AREA)/SEEDED_AREA AS PCT_UNHARVESTED_AREA\n",
    "            FROM CROP_DATA WHERE YEAR >= 2000 AND\n",
    "            GEO = 'Alberta' AND CROP_TYPE = 'Barley'\"\n",
    "          )# write your solution here.\n"
   ]
  },
  {
   "cell_type": "markdown",
   "metadata": {},
   "source": [
    "<details>\n",
    "<summary>Click here to view/hide solution</summary>\n",
    "<p>\n",
    "\n",
    "```\n",
    "dbGetQuery(conn, \"SELECT strftime('%Y',YEAR) AS YEAR, GEO, CROP_TYPE,\n",
    "            SEEDED_AREA, HARVESTED_AREA, \n",
    "            100*(SEEDED_AREA-HARVESTED_AREA)/SEEDED_AREA AS PCT_UNHARVESTED_AREA\n",
    "            FROM CROP_DATA WHERE YEAR >= 2000 AND\n",
    "            GEO = 'Alberta' AND CROP_TYPE = 'Barley'\")\n",
    "```\n",
    "\n",
    "</details>\n"
   ]
  },
  {
   "cell_type": "markdown",
   "metadata": {},
   "source": [
    "### Over the last 3 calendar years of data, what was the average value of the Canadian dollar relative to the USD?\n"
   ]
  },
  {
   "cell_type": "code",
   "execution_count": 58,
   "metadata": {
    "tags": []
   },
   "outputs": [
    {
     "data": {
      "text/html": [
       "<table>\n",
       "<caption>A data.frame: 1 × 2</caption>\n",
       "<thead>\n",
       "\t<tr><th scope=col>AS_OF_DATE</th><th scope=col>FX_DAILY_AVG_CAD</th></tr>\n",
       "\t<tr><th scope=col>&lt;lgl&gt;</th><th scope=col>&lt;lgl&gt;</th></tr>\n",
       "</thead>\n",
       "<tbody>\n",
       "\t<tr><td>NA</td><td>NA</td></tr>\n",
       "</tbody>\n",
       "</table>\n"
      ],
      "text/latex": [
       "A data.frame: 1 × 2\n",
       "\\begin{tabular}{ll}\n",
       " AS\\_OF\\_DATE & FX\\_DAILY\\_AVG\\_CAD\\\\\n",
       " <lgl> & <lgl>\\\\\n",
       "\\hline\n",
       "\t NA & NA\\\\\n",
       "\\end{tabular}\n"
      ],
      "text/markdown": [
       "\n",
       "A data.frame: 1 × 2\n",
       "\n",
       "| AS_OF_DATE &lt;lgl&gt; | FX_DAILY_AVG_CAD &lt;lgl&gt; |\n",
       "|---|---|\n",
       "| NA | NA |\n",
       "\n"
      ],
      "text/plain": [
       "  AS_OF_DATE FX_DAILY_AVG_CAD\n",
       "1 NA         NA              "
      ]
     },
     "metadata": {},
     "output_type": "display_data"
    }
   ],
   "source": [
    "dbGetQuery(conn, \"SELECT MIN(DATE) AS AS_OF_DATE, \n",
    "            AVG(FXUSDCAD) AS FX_DAILY_AVG_CAD \n",
    "    FROM  DAILY_FX\n",
    "    WHERE DATE >= (SELECT MAX(DATE) - 3 YEARS FROM DAILY_FX)\")"
   ]
  },
  {
   "cell_type": "markdown",
   "metadata": {},
   "source": [
    "<details>\n",
    "<summary>Click here to view/hide solution</summary>\n",
    "<p>\n",
    "\n",
    "```\n",
    "dbGetQuery(conn, \"SELECT MIN(DATE) AS AS_OF_DATE, \n",
    "            AVG(FXUSDCAD) AS FX_DAILY_AVG_CAD \n",
    "    FROM  DAILY_FX\n",
    "    WHERE DATE >= (SELECT MAX(DATE) - 3 YEARS FROM DAILY_FX)\")\n",
    "```\n",
    "\n",
    "</details>\n"
   ]
  },
  {
   "cell_type": "markdown",
   "metadata": {},
   "source": [
    "### Use an implicit inner join to create a view of the crop data with an FX column included.\n",
    "\n",
    "For simplicity, just use the FX values from December for each year.\n"
   ]
  },
  {
   "cell_type": "code",
   "execution_count": 57,
   "metadata": {
    "tags": []
   },
   "outputs": [
    {
     "data": {
      "text/html": [
       "<table>\n",
       "<caption>A data.frame: 0 × 9</caption>\n",
       "<thead>\n",
       "\t<tr><th scope=col>CD_ID</th><th scope=col>YEAR</th><th scope=col>CROP_TYPE</th><th scope=col>GEO</th><th scope=col>SEEDED_AREA</th><th scope=col>HARVESTED_AREA</th><th scope=col>PRODUCTION</th><th scope=col>AVG_YIELD</th><th scope=col>FXUSDCAD</th></tr>\n",
       "\t<tr><th scope=col>&lt;int&gt;</th><th scope=col>&lt;chr&gt;</th><th scope=col>&lt;chr&gt;</th><th scope=col>&lt;chr&gt;</th><th scope=col>&lt;int&gt;</th><th scope=col>&lt;int&gt;</th><th scope=col>&lt;int&gt;</th><th scope=col>&lt;int&gt;</th><th scope=col>&lt;dbl&gt;</th></tr>\n",
       "</thead>\n",
       "<tbody>\n",
       "</tbody>\n",
       "</table>\n"
      ],
      "text/latex": [
       "A data.frame: 0 × 9\n",
       "\\begin{tabular}{lllllllll}\n",
       " CD\\_ID & YEAR & CROP\\_TYPE & GEO & SEEDED\\_AREA & HARVESTED\\_AREA & PRODUCTION & AVG\\_YIELD & FXUSDCAD\\\\\n",
       " <int> & <chr> & <chr> & <chr> & <int> & <int> & <int> & <int> & <dbl>\\\\\n",
       "\\hline\n",
       "\\end{tabular}\n"
      ],
      "text/markdown": [
       "\n",
       "A data.frame: 0 × 9\n",
       "\n",
       "| CD_ID &lt;int&gt; | YEAR &lt;chr&gt; | CROP_TYPE &lt;chr&gt; | GEO &lt;chr&gt; | SEEDED_AREA &lt;int&gt; | HARVESTED_AREA &lt;int&gt; | PRODUCTION &lt;int&gt; | AVG_YIELD &lt;int&gt; | FXUSDCAD &lt;dbl&gt; |\n",
       "|---|---|---|---|---|---|---|---|---|\n",
       "\n"
      ],
      "text/plain": [
       "     CD_ID YEAR CROP_TYPE GEO SEEDED_AREA HARVESTED_AREA PRODUCTION AVG_YIELD\n",
       "     FXUSDCAD"
      ]
     },
     "metadata": {},
     "output_type": "display_data"
    }
   ],
   "source": [
    "dbGetQuery(conn, \"SELECT CD_ID,YEAR ,CROP_TYPE, GEO, SEEDED_AREA, HARVESTED_AREA, PRODUCTION, AVG_YIELD, FXUSDCAD  \n",
    "    FROM CROP_DATA, DAILY_FX \n",
    "    WHERE strftime('%Y',CROP_DATA.YEAR) = strftime('%Y',DAILY_FX.DATE) and strftime('%m', CROP_DATA.YEAR) = strftime('%m', DAILY_FX.DATE) LIMIT 5\")"
   ]
  },
  {
   "cell_type": "markdown",
   "metadata": {},
   "source": [
    "<details><summary>Click here for the hint(s)</summary>\n",
    "\n",
    "```R\n",
    "To get the year use: strftime('%Y',CROP_DATA.YEAR) and strftime('%Y',DAILY_FX.DATE)\n",
    "\n",
    "To get the month use: strftime('%m', CROP_DATA.YEAR) and strftime('%m', DAILY_FX.DATE)\n",
    "```\n"
   ]
  },
  {
   "cell_type": "markdown",
   "metadata": {},
   "source": [
    "<details><summary>Click here for the solution</summary>\n",
    "\n",
    "```R\n",
    "dbGetQuery(conn, \"SELECT CD_ID,YEAR ,CROP_TYPE, GEO, SEEDED_AREA, HARVESTED_AREA, PRODUCTION, AVG_YIELD, FXUSDCAD  \n",
    "    FROM CROP_DATA, DAILY_FX \n",
    "    WHERE strftime('%Y',CROP_DATA.YEAR) = strftime('%Y',DAILY_FX.DATE) and strftime('%m', CROP_DATA.YEAR) = strftime('%m', DAILY_FX.DATE) LIMIT 5\")\n",
    "```\n"
   ]
  },
  {
   "cell_type": "markdown",
   "metadata": {},
   "source": [
    "## Author(s)\n",
    "\n",
    "<h4> Jeff Grossman </h4>\n",
    "\n",
    "## Contributor(s)\n",
    "\n",
    "<h4> Rav Ahuja </h4>\n",
    "<h4> D.M.NAIDU </h4>\n",
    "\n",
    "## Change log\n",
    "\n",
    "| Date       | Version | Changed by    | Change Description                                                                    |\n",
    "| ---------- | ------- | ------------- | ------------------------------------------------------------------------------------- |\n",
    "| 2022-03-03  | 0.4    | D.M.NAIDU     | Converted intial version to RSQLite                                                   |\n",
    "| 2021-03-12 | 0.3     | Jeff Grossman | Cleaned up content for production                                                     |\n",
    "| 2021-03-10 | 0.2     | Jeff Grossman | Added introductory and intermediate level problems and removed some advanced problems |\n",
    "| 2021-03-04 | 0.1     | Jeff Grossman | Started content creation                                                              |\n",
    "|            |         |               |                                                                                       |\n",
    "\n",
    "## <h3 align=\"center\"> © IBM Corporation 2022. All rights reserved. <h3/>\n"
   ]
  }
 ],
 "metadata": {
  "kernelspec": {
   "display_name": "R",
   "language": "R",
   "name": "conda-env-r-r"
  },
  "language_info": {
   "codemirror_mode": "r",
   "file_extension": ".r",
   "mimetype": "text/x-r-source",
   "name": "R",
   "pygments_lexer": "r",
   "version": "3.5.1"
  }
 },
 "nbformat": 4,
 "nbformat_minor": 4
}
