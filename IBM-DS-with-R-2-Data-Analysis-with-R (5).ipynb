{
 "cells": [
  {
   "cell_type": "markdown",
   "metadata": {},
   "source": [
    "<center><img src=\"https://cf-courses-data.s3.us.cloud-object-storage.appdomain.cloud/assets/logos/SN_web_lightmode.png\" width=\"300\"></center><br/>\n",
    "\n",
    "# Assignment: Notebook for Peer Assignment\n",
    "\n",
    "Estimated time needed: 60 minutes\n"
   ]
  },
  {
   "cell_type": "markdown",
   "metadata": {},
   "source": [
    "# Assignment Scenario\n",
    "\n",
    "Congratulations! You have just been hired by a US Weather forecast firm as a data scientist.\n",
    "\n",
    "The company is considering the weather condition to help predict the possibility of precipitations, which involves using various local climatological variables, including temperature, wind speed, humidity, dew point, and pressure. The data you will be handling was collected by a NOAA weather station located at the John F. Kennedy International Airport in Queens, New York.\n",
    "\n",
    "Your task is to provide a high level analysis of weather data in JFK Airport. Your stakeholders want to understand the current and historical record of precipitations based on different variables. For now they are mainly interested in a macro-view of JFK Airport Weather, and how it relates to the possibility to rain because it will affect flight delays and etc.\n"
   ]
  },
  {
   "cell_type": "markdown",
   "metadata": {},
   "source": [
    "# Introduction\n",
    "\n",
    "This project relates to the NOAA Weather Dataset - JFK Airport (New York). The original dataset contains 114,546 hourly observations of 12 local climatological variables (such as temperature and wind speed) collected at JFK airport. This dataset can be obtained for free from the IBM Developer [Data Asset Exchange](https://developer.ibm.com/exchanges/data/all/jfk-weather-data/). \n",
    "\n",
    "For this project, you will be using a subset dataset, which contains 5727 rows (about 5% or original rows) and 9 columns. The end goal will be to predict the precipitation using some of the available features. In this project, you will practice reading data files, preprocessing data, creating models, improving models and evaluating them to ultimately choose the best model.\n",
    "\n"
   ]
  },
  {
   "cell_type": "markdown",
   "metadata": {},
   "source": [
    "\n",
    "## Table of Contents:\n",
    "\n",
    "Using this R notebook you will complete **10 tasks**:\n",
    "* [0. Import Modules](#cell0)\n",
    "* [1. Download and Unzip NOAA Weather Dataset](#cell1)\n",
    "* [2. Read Dataset into Project](#cell2)\n",
    "* [3. Select Subset of Columns](#cell3)\n",
    "* [4. Clean Up Columns](#cell4)\n",
    "* [5. Convert Columns to Numerical Types](#cell5)\n",
    "* [6. Rename Columns](#cell6)\n",
    "* [7. Exploratory Data Analysis](#cell7)\n",
    "* [8. Linear Regression](#cell8)\n",
    "* [9. Improve the Model](#cell9)\n",
    "* [10. Find Best Model](#cell10)\n",
    "\n",
    "\n",
    "<a id=\"cell0\"></a>\n",
    "## 0. Import required modules\n",
    "\n",
    "Tidymodels is a collection of packages that use tidyverse principles to easily do the entire modeling process from preprocessing initial data, to creating a model, to tunning hyperparameters. The tidymodels packages can be used to produce high quality statistical and machine learning models. Our Jupyter notebook platforms have a built-in Tidyverse, Tidymodels and rlang packages so we do not need to install these packages prior to loading library. However, if you decide to run this lab on your RStudio Desktop locally on your machine, you can remove the commented lines of code to install these packages before loading.\n",
    " \n"
   ]
  },
  {
   "cell_type": "code",
   "execution_count": 2,
   "metadata": {
    "tags": []
   },
   "outputs": [
    {
     "name": "stderr",
     "output_type": "stream",
     "text": [
      "Updating HTML index of packages in '.Library'\n",
      "Making 'packages.html' ... done\n",
      "Warning message:\n",
      "“dependencies ‘recipes’, ‘rsample’ are not available”also installing the dependencies ‘pillar’, ‘patchwork’, ‘broom’, ‘dials’, ‘dplyr’, ‘hardhat’, ‘infer’, ‘parsnip’, ‘purrr’, ‘tibble’, ‘tidyr’, ‘tune’, ‘workflows’, ‘workflowsets’, ‘yardstick’\n",
      "\n",
      "Warning message in install.packages(\"tidymodels\"):\n",
      "“installation of package ‘pillar’ had non-zero exit status”Warning message in install.packages(\"tidymodels\"):\n",
      "“installation of package ‘patchwork’ had non-zero exit status”Warning message in install.packages(\"tidymodels\"):\n",
      "“installation of package ‘purrr’ had non-zero exit status”Warning message in install.packages(\"tidymodels\"):\n",
      "“installation of package ‘tibble’ had non-zero exit status”Warning message in install.packages(\"tidymodels\"):\n",
      "“installation of package ‘dplyr’ had non-zero exit status”Warning message in install.packages(\"tidymodels\"):\n",
      "“installation of package ‘hardhat’ had non-zero exit status”Warning message in install.packages(\"tidymodels\"):\n",
      "“installation of package ‘dials’ had non-zero exit status”Warning message in install.packages(\"tidymodels\"):\n",
      "“installation of package ‘tidyr’ had non-zero exit status”Warning message in install.packages(\"tidymodels\"):\n",
      "“installation of package ‘yardstick’ had non-zero exit status”Warning message in install.packages(\"tidymodels\"):\n",
      "“installation of package ‘broom’ had non-zero exit status”Warning message in install.packages(\"tidymodels\"):\n",
      "“installation of package ‘parsnip’ had non-zero exit status”Warning message in install.packages(\"tidymodels\"):\n",
      "“installation of package ‘infer’ had non-zero exit status”Warning message in install.packages(\"tidymodels\"):\n",
      "“installation of package ‘workflows’ had non-zero exit status”Warning message in install.packages(\"tidymodels\"):\n",
      "“installation of package ‘tune’ had non-zero exit status”Warning message in install.packages(\"tidymodels\"):\n",
      "“installation of package ‘workflowsets’ had non-zero exit status”Warning message in install.packages(\"tidymodels\"):\n",
      "“installation of package ‘tidymodels’ had non-zero exit status”Updating HTML index of packages in '.Library'\n",
      "Making 'packages.html' ... done\n"
     ]
    }
   ],
   "source": [
    "# Install tidymodels if you haven't done so\n",
    "install.packages(\"rlang\")\n",
    "install.packages(\"tidymodels\")"
   ]
  },
  {
   "cell_type": "markdown",
   "metadata": {},
   "source": [
    "**Note: After installing the packages, restart the kernel. Without installing the packages again, load them. Tidyverse and Tidymodels will be the two main packages you will use.**\n"
   ]
  },
  {
   "cell_type": "code",
   "execution_count": 2,
   "metadata": {
    "tags": []
   },
   "outputs": [
    {
     "name": "stderr",
     "output_type": "stream",
     "text": [
      "── Attaching packages ────────────────────────────────────── tidymodels 0.1.0 ──\n",
      "✔ broom     0.5.6      ✔ recipes   0.1.12\n",
      "✔ dials     0.0.6      ✔ rsample   0.0.5 \n",
      "✔ dplyr     0.8.5      ✔ tibble    3.0.1 \n",
      "✔ ggplot2   3.3.0      ✔ tune      0.1.0 \n",
      "✔ infer     0.5.1      ✔ workflows 0.1.1 \n",
      "✔ parsnip   0.1.0      ✔ yardstick 0.0.6 \n",
      "✔ purrr     0.3.4      \n",
      "── Conflicts ───────────────────────────────────────── tidymodels_conflicts() ──\n",
      "✖ purrr::discard()  masks scales::discard()\n",
      "✖ dplyr::filter()   masks stats::filter()\n",
      "✖ dplyr::lag()      masks stats::lag()\n",
      "✖ ggplot2::margin() masks dials::margin()\n",
      "✖ recipes::step()   masks stats::step()\n",
      "── Attaching packages ─────────────────────────────────────── tidyverse 1.3.0 ──\n",
      "✔ readr   1.3.1     ✔ forcats 0.5.0\n",
      "✔ stringr 1.4.0     \n",
      "── Conflicts ────────────────────────────────────────── tidyverse_conflicts() ──\n",
      "✖ readr::col_factor() masks scales::col_factor()\n",
      "✖ purrr::discard()    masks scales::discard()\n",
      "✖ dplyr::filter()     masks stats::filter()\n",
      "✖ stringr::fixed()    masks recipes::fixed()\n",
      "✖ dplyr::lag()        masks stats::lag()\n",
      "✖ ggplot2::margin()   masks dials::margin()\n",
      "✖ readr::spec()       masks yardstick::spec()\n"
     ]
    }
   ],
   "source": [
    "# Library for modeling\n",
    "library(tidymodels)\n",
    "\n",
    "# Load tidyverse\n",
    "library(tidyverse)\n",
    "library(readr)"
   ]
  },
  {
   "cell_type": "markdown",
   "metadata": {},
   "source": [
    "\n",
    "### Understand the Dataset\n",
    "\n",
    "The original NOAA JFK dataset contains 114,546 hourly observations of various local climatological variables (including temperature, wind speed, humidity, dew point, and pressure). \n",
    "\n",
    "In this project you will use a sample dataset, which is around 293 KB. [Link to the sample dataset](https://dax-cdn.cdn.appdomain.cloud/dax-noaa-weather-data-jfk-airport/1.1.4/noaa-weather-sample-data.tar.gz).\n",
    "\n",
    "The sample contains 5727 rows (about 5% or original rows) and 9 columns, which are:\n",
    "- DATE\n",
    "- HOURLYDewPointTempF\n",
    "- HOURLYRelativeHumidity\n",
    "- HOURLYDRYBULBTEMPF\n",
    "- HOURLYWETBULBTEMPF\n",
    "- HOURLYPrecip\n",
    "- HOURLYWindSpeed\n",
    "- HOURLYSeaLevelPressure\n",
    "- HOURLYStationPressure\n",
    "\n",
    "The original dataset is much bigger. Feel free to explore the original dataset. [Link to the original dataset.](https://dax-cdn.cdn.appdomain.cloud/dax-noaa-weather-data-jfk-airport/1.1.4/noaa_weather.html) \n",
    "\n",
    "For more information about the dataset, checkout the [preview](https://dax-cdn.cdn.appdomain.cloud/dax-noaa-weather-data-jfk-airport/1.1.4/data-preview/index.html?_ga=2.176781478.281508226.1616293518-1509963377.1616117067&cm_mc_uid=90945889198916153255549&cm_mc_sid_50200000=64650651616293516933) of NOAA Weather - JFK Airport.\n"
   ]
  },
  {
   "cell_type": "markdown",
   "metadata": {},
   "source": [
    "<a id=\"cell1\"></a>\n",
    "\n",
    "## 1. Download NOAA Weather Dataset\n",
    "\n",
    "Use the `download.file()` function to download the sample dataset from the URL below.\n",
    "\n",
    "URL = 'https://dax-cdn.cdn.appdomain.cloud/dax-noaa-weather-data-jfk-airport/1.1.4/noaa-weather-sample-data.tar.gz'\n"
   ]
  },
  {
   "cell_type": "code",
   "execution_count": 3,
   "metadata": {
    "tags": []
   },
   "outputs": [],
   "source": [
    "url <- \"https://dax-cdn.cdn.appdomain.cloud/dax-noaa-weather-data-jfk-airport/1.1.4/noaa-weather-sample-data.tar.gz\"\n",
    "download.file(url, destfile = \"noaa-weather-sample-data.tar.gz\")\n"
   ]
  },
  {
   "cell_type": "markdown",
   "metadata": {},
   "source": [
    "Untar the zipped file.\n"
   ]
  },
  {
   "cell_type": "code",
   "execution_count": 4,
   "metadata": {
    "tags": []
   },
   "outputs": [
    {
     "name": "stderr",
     "output_type": "stream",
     "text": [
      "Warning message in untar2(tarfile, files, list, exdir, restore_times):\n",
      "“using pax extended headers”"
     ]
    }
   ],
   "source": [
    "untar(\"noaa-weather-sample-data.tar.gz\", tar=\"internal\")"
   ]
  },
  {
   "cell_type": "markdown",
   "metadata": {},
   "source": [
    "<a id=\"cell2\"></a>\n",
    "## 2. Extract and Read into Project\n",
    "We start by reading in the raw dataset. You should specify the file name as \"noaa-weather-sample-data/jfk_weather_sample.csv\".\n"
   ]
  },
  {
   "cell_type": "code",
   "execution_count": 5,
   "metadata": {
    "tags": []
   },
   "outputs": [
    {
     "name": "stderr",
     "output_type": "stream",
     "text": [
      "Parsed with column specification:\n",
      "cols(\n",
      "  DATE = col_datetime(format = \"\"),\n",
      "  HOURLYDewPointTempF = col_double(),\n",
      "  HOURLYRelativeHumidity = col_double(),\n",
      "  HOURLYDRYBULBTEMPF = col_double(),\n",
      "  HOURLYWETBULBTEMPF = col_double(),\n",
      "  HOURLYPrecip = col_character(),\n",
      "  HOURLYWindSpeed = col_double(),\n",
      "  HOURLYSeaLevelPressure = col_double(),\n",
      "  HOURLYStationPressure = col_double()\n",
      ")\n",
      "Warning message:\n",
      "“1 parsing failure.\n",
      " row                 col               expected actual                                              file\n",
      "1443 HOURLYDewPointTempF no trailing characters      s 'noaa-weather-sample-data/jfk_weather_sample.csv'\n",
      "”"
     ]
    }
   ],
   "source": [
    "weather_data <- read_csv(\"noaa-weather-sample-data/jfk_weather_sample.csv\")"
   ]
  },
  {
   "cell_type": "markdown",
   "metadata": {},
   "source": [
    "Next, display the first few rows of the dataframe.\n"
   ]
  },
  {
   "cell_type": "code",
   "execution_count": 6,
   "metadata": {
    "tags": []
   },
   "outputs": [
    {
     "data": {
      "text/html": [
       "<table>\n",
       "<caption>A tibble: 6 × 9</caption>\n",
       "<thead>\n",
       "\t<tr><th scope=col>DATE</th><th scope=col>HOURLYDewPointTempF</th><th scope=col>HOURLYRelativeHumidity</th><th scope=col>HOURLYDRYBULBTEMPF</th><th scope=col>HOURLYWETBULBTEMPF</th><th scope=col>HOURLYPrecip</th><th scope=col>HOURLYWindSpeed</th><th scope=col>HOURLYSeaLevelPressure</th><th scope=col>HOURLYStationPressure</th></tr>\n",
       "\t<tr><th scope=col>&lt;dttm&gt;</th><th scope=col>&lt;dbl&gt;</th><th scope=col>&lt;dbl&gt;</th><th scope=col>&lt;dbl&gt;</th><th scope=col>&lt;dbl&gt;</th><th scope=col>&lt;chr&gt;</th><th scope=col>&lt;dbl&gt;</th><th scope=col>&lt;dbl&gt;</th><th scope=col>&lt;dbl&gt;</th></tr>\n",
       "</thead>\n",
       "<tbody>\n",
       "\t<tr><td>2015-07-25 13:51:00</td><td>60</td><td>46</td><td>83</td><td>68</td><td>0.00</td><td>13</td><td>30.01</td><td>29.99</td></tr>\n",
       "\t<tr><td>2016-11-18 23:51:00</td><td>34</td><td>48</td><td>53</td><td>44</td><td>0.00</td><td> 6</td><td>30.05</td><td>30.03</td></tr>\n",
       "\t<tr><td>2013-01-06 08:51:00</td><td>33</td><td>89</td><td>36</td><td>35</td><td>0.00</td><td>13</td><td>30.14</td><td>30.12</td></tr>\n",
       "\t<tr><td>2011-01-27 16:51:00</td><td>18</td><td>48</td><td>36</td><td>30</td><td>0.00</td><td>14</td><td>29.82</td><td>29.80</td></tr>\n",
       "\t<tr><td>2015-01-03 12:16:00</td><td>27</td><td>61</td><td>39</td><td>34</td><td>T   </td><td>11</td><td>   NA</td><td>30.50</td></tr>\n",
       "\t<tr><td>2013-02-15 20:51:00</td><td>35</td><td>79</td><td>41</td><td>38</td><td>0.00</td><td> 6</td><td>29.94</td><td>29.92</td></tr>\n",
       "</tbody>\n",
       "</table>\n"
      ],
      "text/latex": [
       "A tibble: 6 × 9\n",
       "\\begin{tabular}{lllllllll}\n",
       " DATE & HOURLYDewPointTempF & HOURLYRelativeHumidity & HOURLYDRYBULBTEMPF & HOURLYWETBULBTEMPF & HOURLYPrecip & HOURLYWindSpeed & HOURLYSeaLevelPressure & HOURLYStationPressure\\\\\n",
       " <dttm> & <dbl> & <dbl> & <dbl> & <dbl> & <chr> & <dbl> & <dbl> & <dbl>\\\\\n",
       "\\hline\n",
       "\t 2015-07-25 13:51:00 & 60 & 46 & 83 & 68 & 0.00 & 13 & 30.01 & 29.99\\\\\n",
       "\t 2016-11-18 23:51:00 & 34 & 48 & 53 & 44 & 0.00 &  6 & 30.05 & 30.03\\\\\n",
       "\t 2013-01-06 08:51:00 & 33 & 89 & 36 & 35 & 0.00 & 13 & 30.14 & 30.12\\\\\n",
       "\t 2011-01-27 16:51:00 & 18 & 48 & 36 & 30 & 0.00 & 14 & 29.82 & 29.80\\\\\n",
       "\t 2015-01-03 12:16:00 & 27 & 61 & 39 & 34 & T    & 11 &    NA & 30.50\\\\\n",
       "\t 2013-02-15 20:51:00 & 35 & 79 & 41 & 38 & 0.00 &  6 & 29.94 & 29.92\\\\\n",
       "\\end{tabular}\n"
      ],
      "text/markdown": [
       "\n",
       "A tibble: 6 × 9\n",
       "\n",
       "| DATE &lt;dttm&gt; | HOURLYDewPointTempF &lt;dbl&gt; | HOURLYRelativeHumidity &lt;dbl&gt; | HOURLYDRYBULBTEMPF &lt;dbl&gt; | HOURLYWETBULBTEMPF &lt;dbl&gt; | HOURLYPrecip &lt;chr&gt; | HOURLYWindSpeed &lt;dbl&gt; | HOURLYSeaLevelPressure &lt;dbl&gt; | HOURLYStationPressure &lt;dbl&gt; |\n",
       "|---|---|---|---|---|---|---|---|---|\n",
       "| 2015-07-25 13:51:00 | 60 | 46 | 83 | 68 | 0.00 | 13 | 30.01 | 29.99 |\n",
       "| 2016-11-18 23:51:00 | 34 | 48 | 53 | 44 | 0.00 |  6 | 30.05 | 30.03 |\n",
       "| 2013-01-06 08:51:00 | 33 | 89 | 36 | 35 | 0.00 | 13 | 30.14 | 30.12 |\n",
       "| 2011-01-27 16:51:00 | 18 | 48 | 36 | 30 | 0.00 | 14 | 29.82 | 29.80 |\n",
       "| 2015-01-03 12:16:00 | 27 | 61 | 39 | 34 | T    | 11 |    NA | 30.50 |\n",
       "| 2013-02-15 20:51:00 | 35 | 79 | 41 | 38 | 0.00 |  6 | 29.94 | 29.92 |\n",
       "\n"
      ],
      "text/plain": [
       "  DATE                HOURLYDewPointTempF HOURLYRelativeHumidity\n",
       "1 2015-07-25 13:51:00 60                  46                    \n",
       "2 2016-11-18 23:51:00 34                  48                    \n",
       "3 2013-01-06 08:51:00 33                  89                    \n",
       "4 2011-01-27 16:51:00 18                  48                    \n",
       "5 2015-01-03 12:16:00 27                  61                    \n",
       "6 2013-02-15 20:51:00 35                  79                    \n",
       "  HOURLYDRYBULBTEMPF HOURLYWETBULBTEMPF HOURLYPrecip HOURLYWindSpeed\n",
       "1 83                 68                 0.00         13             \n",
       "2 53                 44                 0.00          6             \n",
       "3 36                 35                 0.00         13             \n",
       "4 36                 30                 0.00         14             \n",
       "5 39                 34                 T            11             \n",
       "6 41                 38                 0.00          6             \n",
       "  HOURLYSeaLevelPressure HOURLYStationPressure\n",
       "1 30.01                  29.99                \n",
       "2 30.05                  30.03                \n",
       "3 30.14                  30.12                \n",
       "4 29.82                  29.80                \n",
       "5    NA                  30.50                \n",
       "6 29.94                  29.92                "
      ]
     },
     "metadata": {},
     "output_type": "display_data"
    }
   ],
   "source": [
    "head(weather_data)"
   ]
  },
  {
   "cell_type": "markdown",
   "metadata": {},
   "source": [
    "Also, take a `glimpse` of the dataset to see the different column data types and make sure it is the correct subset dataset with about 5700 rows and 9 columns.\n"
   ]
  },
  {
   "cell_type": "code",
   "execution_count": 7,
   "metadata": {
    "tags": []
   },
   "outputs": [
    {
     "name": "stdout",
     "output_type": "stream",
     "text": [
      "Rows: 5,727\n",
      "Columns: 9\n",
      "$ DATE                   <dttm> 2015-07-25 13:51:00, 2016-11-18 23:51:00, 201…\n",
      "$ HOURLYDewPointTempF    <dbl> 60, 34, 33, 18, 27, 35, 4, 14, 51, 71, 76, 19,…\n",
      "$ HOURLYRelativeHumidity <dbl> 46, 48, 89, 48, 61, 79, 51, 65, 90, 94, 79, 37…\n",
      "$ HOURLYDRYBULBTEMPF     <dbl> 83, 53, 36, 36, 39, 41, 19, 24, 54, 73, 83, 44…\n",
      "$ HOURLYWETBULBTEMPF     <dbl> 68, 44, 35, 30, 34, 38, 15, 21, 52, 72, 78, 35…\n",
      "$ HOURLYPrecip           <chr> \"0.00\", \"0.00\", \"0.00\", \"0.00\", \"T\", \"0.00\", \"…\n",
      "$ HOURLYWindSpeed        <dbl> 13, 6, 13, 14, 11, 6, 0, 11, 11, 5, 21, 7, 17,…\n",
      "$ HOURLYSeaLevelPressure <dbl> 30.01, 30.05, 30.14, 29.82, NA, 29.94, 30.42, …\n",
      "$ HOURLYStationPressure  <dbl> 29.99, 30.03, 30.12, 29.80, 30.50, 29.92, 30.4…\n"
     ]
    }
   ],
   "source": [
    "glimpse(weather_data)\n"
   ]
  },
  {
   "cell_type": "markdown",
   "metadata": {},
   "source": [
    "<a id=\"cell3\"></a>\n",
    "## 3. Select Subset of Columns\n",
    "\n",
    "The end goal of this project will be to predict `HOURLYprecip` (precipitation) using a few other variables. Before you can do this, you first need to preprocess the dataset. Section 3 to section 6 focuses on preprocessing.\n",
    "\n",
    "The first step in preprocessing is to select a subset of data columns and inspect the column types.\n",
    "\n",
    "The key columns that we will explore in this project are:\n",
    "- HOURLYRelativeHumidity\n",
    "- HOURLYDRYBULBTEMPF\n",
    "- HOURLYPrecip\n",
    "- HOURLYWindSpeed\n",
    "- HOURLYStationPressure\n",
    "\n",
    "Data Glossary:\n",
    "- 'HOURLYRelativeHumidity' is the relative humidity given to the nearest whole percentage.\n",
    "- 'HOURLYDRYBULBTEMPF' is the dry-bulb temperature and is commonly used as the standard air temperature reported. It is given here in whole degrees Fahrenheit.\n",
    "- 'HOURLYPrecip' is the amount of precipitation in inches to hundredths over the past hour. For certain automated stations, precipitation will be reported at sub-hourly intervals (e.g. every 15 or 20 minutes) as an accumulated amount of all precipitation within the preceding hour. A “T” indicates a trace amount of precipitation.\n",
    "- 'HOURLYWindSpeed' is the speed of the wind at the time of observation given in miles per hour (mph).\n",
    "- 'HOURLYStationPressure' is the atmospheric pressure observed at the station during the time of observation. Given in inches of Mercury (in Hg).\n",
    "\n",
    "`Select` those five columns and store the modified dataframe as a new variable.\n"
   ]
  },
  {
   "cell_type": "code",
   "execution_count": 8,
   "metadata": {
    "tags": []
   },
   "outputs": [],
   "source": [
    "newweather_data <-weather_data %>% select('HOURLYRelativeHumidity','HOURLYDRYBULBTEMPF','HOURLYPrecip','HOURLYWindSpeed',\n",
    "                                'HOURLYStationPressure')\n",
    "\n"
   ]
  },
  {
   "cell_type": "markdown",
   "metadata": {},
   "source": [
    "Show the first 10 rows of this new dataframe.\n"
   ]
  },
  {
   "cell_type": "code",
   "execution_count": 9,
   "metadata": {
    "tags": []
   },
   "outputs": [
    {
     "data": {
      "text/html": [
       "<table>\n",
       "<caption>A tibble: 10 × 5</caption>\n",
       "<thead>\n",
       "\t<tr><th scope=col>HOURLYRelativeHumidity</th><th scope=col>HOURLYDRYBULBTEMPF</th><th scope=col>HOURLYPrecip</th><th scope=col>HOURLYWindSpeed</th><th scope=col>HOURLYStationPressure</th></tr>\n",
       "\t<tr><th scope=col>&lt;dbl&gt;</th><th scope=col>&lt;dbl&gt;</th><th scope=col>&lt;chr&gt;</th><th scope=col>&lt;dbl&gt;</th><th scope=col>&lt;dbl&gt;</th></tr>\n",
       "</thead>\n",
       "<tbody>\n",
       "\t<tr><td>46</td><td>83</td><td>0.00</td><td>13</td><td>29.99</td></tr>\n",
       "\t<tr><td>48</td><td>53</td><td>0.00</td><td> 6</td><td>30.03</td></tr>\n",
       "\t<tr><td>89</td><td>36</td><td>0.00</td><td>13</td><td>30.12</td></tr>\n",
       "\t<tr><td>48</td><td>36</td><td>0.00</td><td>14</td><td>29.80</td></tr>\n",
       "\t<tr><td>61</td><td>39</td><td>T   </td><td>11</td><td>30.50</td></tr>\n",
       "\t<tr><td>79</td><td>41</td><td>0.00</td><td> 6</td><td>29.92</td></tr>\n",
       "\t<tr><td>51</td><td>19</td><td>0.00</td><td> 0</td><td>30.40</td></tr>\n",
       "\t<tr><td>65</td><td>24</td><td>0.00</td><td>11</td><td>30.35</td></tr>\n",
       "\t<tr><td>90</td><td>54</td><td>0.06</td><td>11</td><td>30.03</td></tr>\n",
       "\t<tr><td>94</td><td>73</td><td>NA  </td><td> 5</td><td>29.91</td></tr>\n",
       "</tbody>\n",
       "</table>\n"
      ],
      "text/latex": [
       "A tibble: 10 × 5\n",
       "\\begin{tabular}{lllll}\n",
       " HOURLYRelativeHumidity & HOURLYDRYBULBTEMPF & HOURLYPrecip & HOURLYWindSpeed & HOURLYStationPressure\\\\\n",
       " <dbl> & <dbl> & <chr> & <dbl> & <dbl>\\\\\n",
       "\\hline\n",
       "\t 46 & 83 & 0.00 & 13 & 29.99\\\\\n",
       "\t 48 & 53 & 0.00 &  6 & 30.03\\\\\n",
       "\t 89 & 36 & 0.00 & 13 & 30.12\\\\\n",
       "\t 48 & 36 & 0.00 & 14 & 29.80\\\\\n",
       "\t 61 & 39 & T    & 11 & 30.50\\\\\n",
       "\t 79 & 41 & 0.00 &  6 & 29.92\\\\\n",
       "\t 51 & 19 & 0.00 &  0 & 30.40\\\\\n",
       "\t 65 & 24 & 0.00 & 11 & 30.35\\\\\n",
       "\t 90 & 54 & 0.06 & 11 & 30.03\\\\\n",
       "\t 94 & 73 & NA   &  5 & 29.91\\\\\n",
       "\\end{tabular}\n"
      ],
      "text/markdown": [
       "\n",
       "A tibble: 10 × 5\n",
       "\n",
       "| HOURLYRelativeHumidity &lt;dbl&gt; | HOURLYDRYBULBTEMPF &lt;dbl&gt; | HOURLYPrecip &lt;chr&gt; | HOURLYWindSpeed &lt;dbl&gt; | HOURLYStationPressure &lt;dbl&gt; |\n",
       "|---|---|---|---|---|\n",
       "| 46 | 83 | 0.00 | 13 | 29.99 |\n",
       "| 48 | 53 | 0.00 |  6 | 30.03 |\n",
       "| 89 | 36 | 0.00 | 13 | 30.12 |\n",
       "| 48 | 36 | 0.00 | 14 | 29.80 |\n",
       "| 61 | 39 | T    | 11 | 30.50 |\n",
       "| 79 | 41 | 0.00 |  6 | 29.92 |\n",
       "| 51 | 19 | 0.00 |  0 | 30.40 |\n",
       "| 65 | 24 | 0.00 | 11 | 30.35 |\n",
       "| 90 | 54 | 0.06 | 11 | 30.03 |\n",
       "| 94 | 73 | NA   |  5 | 29.91 |\n",
       "\n"
      ],
      "text/plain": [
       "   HOURLYRelativeHumidity HOURLYDRYBULBTEMPF HOURLYPrecip HOURLYWindSpeed\n",
       "1  46                     83                 0.00         13             \n",
       "2  48                     53                 0.00          6             \n",
       "3  89                     36                 0.00         13             \n",
       "4  48                     36                 0.00         14             \n",
       "5  61                     39                 T            11             \n",
       "6  79                     41                 0.00          6             \n",
       "7  51                     19                 0.00          0             \n",
       "8  65                     24                 0.00         11             \n",
       "9  90                     54                 0.06         11             \n",
       "10 94                     73                 NA            5             \n",
       "   HOURLYStationPressure\n",
       "1  29.99                \n",
       "2  30.03                \n",
       "3  30.12                \n",
       "4  29.80                \n",
       "5  30.50                \n",
       "6  29.92                \n",
       "7  30.40                \n",
       "8  30.35                \n",
       "9  30.03                \n",
       "10 29.91                "
      ]
     },
     "metadata": {},
     "output_type": "display_data"
    }
   ],
   "source": [
    "head(newweather_data, n=10)"
   ]
  },
  {
   "cell_type": "markdown",
   "metadata": {},
   "source": [
    "<a id=\"cell4\"></a>\n",
    "## 4. Clean Up Columns\n",
    "\n",
    "From the dataframe preview above, we can see that the column `HOURLYPrecip` - which is the hourly measure of precipitation levels - contains both `NA` and `T` values. `T` specifies *trace amounts of precipitation* (meaning essentially no precipitation), while `NA` means *not available*, and is used to denote missing values. Additionally, some values also have \"s\" at the end of them, indicating that the precipitation was snow. \n",
    "\n",
    "Inspect the unique values present in the column `HOURLYPrecip` (with `unique(dataframe$column)`) to see these values.\n"
   ]
  },
  {
   "cell_type": "code",
   "execution_count": 10,
   "metadata": {
    "tags": []
   },
   "outputs": [
    {
     "data": {
      "text/html": [
       "<style>\n",
       ".list-inline {list-style: none; margin:0; padding: 0}\n",
       ".list-inline>li {display: inline-block}\n",
       ".list-inline>li:not(:last-child)::after {content: \"\\00b7\"; padding: 0 .5ex}\n",
       "</style>\n",
       "<ol class=list-inline><li>'0.00'</li><li>'T'</li><li>'0.06'</li><li>NA</li><li>'0.03'</li><li>'0.02'</li><li>'0.08'</li><li>'0.01'</li><li>'0.07'</li><li>'0.16'</li><li>'0.09'</li><li>'0.22'</li><li>'0.02s'</li><li>'0.24'</li><li>'0.18'</li><li>'0.05'</li><li>'0.04'</li><li>'0.09s'</li><li>'0.11'</li><li>'0.14'</li><li>'0.25'</li><li>'0.10'</li><li>'0.01s'</li><li>'0.58'</li><li>'0.12'</li><li>'0.13'</li><li>'0.46'</li><li>'1.07'</li><li>'1.19'</li><li>'0.34'</li><li>'0.20'</li><li>'0.36s'</li><li>'0.42'</li><li>'0.17'</li><li>'0.27'</li><li>'0.35'</li><li>'0.31'</li><li>'0.33'</li><li>'0.23'</li><li>'0.26'</li><li>'0.28'</li><li>'0.75'</li><li>'0.19'</li><li>'0.36'</li><li>'0.03s'</li><li>'0.07s'</li><li>'0.54'</li><li>'0.59'</li><li>'0.21'</li></ol>\n"
      ],
      "text/latex": [
       "\\begin{enumerate*}\n",
       "\\item '0.00'\n",
       "\\item 'T'\n",
       "\\item '0.06'\n",
       "\\item NA\n",
       "\\item '0.03'\n",
       "\\item '0.02'\n",
       "\\item '0.08'\n",
       "\\item '0.01'\n",
       "\\item '0.07'\n",
       "\\item '0.16'\n",
       "\\item '0.09'\n",
       "\\item '0.22'\n",
       "\\item '0.02s'\n",
       "\\item '0.24'\n",
       "\\item '0.18'\n",
       "\\item '0.05'\n",
       "\\item '0.04'\n",
       "\\item '0.09s'\n",
       "\\item '0.11'\n",
       "\\item '0.14'\n",
       "\\item '0.25'\n",
       "\\item '0.10'\n",
       "\\item '0.01s'\n",
       "\\item '0.58'\n",
       "\\item '0.12'\n",
       "\\item '0.13'\n",
       "\\item '0.46'\n",
       "\\item '1.07'\n",
       "\\item '1.19'\n",
       "\\item '0.34'\n",
       "\\item '0.20'\n",
       "\\item '0.36s'\n",
       "\\item '0.42'\n",
       "\\item '0.17'\n",
       "\\item '0.27'\n",
       "\\item '0.35'\n",
       "\\item '0.31'\n",
       "\\item '0.33'\n",
       "\\item '0.23'\n",
       "\\item '0.26'\n",
       "\\item '0.28'\n",
       "\\item '0.75'\n",
       "\\item '0.19'\n",
       "\\item '0.36'\n",
       "\\item '0.03s'\n",
       "\\item '0.07s'\n",
       "\\item '0.54'\n",
       "\\item '0.59'\n",
       "\\item '0.21'\n",
       "\\end{enumerate*}\n"
      ],
      "text/markdown": [
       "1. '0.00'\n",
       "2. 'T'\n",
       "3. '0.06'\n",
       "4. NA\n",
       "5. '0.03'\n",
       "6. '0.02'\n",
       "7. '0.08'\n",
       "8. '0.01'\n",
       "9. '0.07'\n",
       "10. '0.16'\n",
       "11. '0.09'\n",
       "12. '0.22'\n",
       "13. '0.02s'\n",
       "14. '0.24'\n",
       "15. '0.18'\n",
       "16. '0.05'\n",
       "17. '0.04'\n",
       "18. '0.09s'\n",
       "19. '0.11'\n",
       "20. '0.14'\n",
       "21. '0.25'\n",
       "22. '0.10'\n",
       "23. '0.01s'\n",
       "24. '0.58'\n",
       "25. '0.12'\n",
       "26. '0.13'\n",
       "27. '0.46'\n",
       "28. '1.07'\n",
       "29. '1.19'\n",
       "30. '0.34'\n",
       "31. '0.20'\n",
       "32. '0.36s'\n",
       "33. '0.42'\n",
       "34. '0.17'\n",
       "35. '0.27'\n",
       "36. '0.35'\n",
       "37. '0.31'\n",
       "38. '0.33'\n",
       "39. '0.23'\n",
       "40. '0.26'\n",
       "41. '0.28'\n",
       "42. '0.75'\n",
       "43. '0.19'\n",
       "44. '0.36'\n",
       "45. '0.03s'\n",
       "46. '0.07s'\n",
       "47. '0.54'\n",
       "48. '0.59'\n",
       "49. '0.21'\n",
       "\n",
       "\n"
      ],
      "text/plain": [
       " [1] \"0.00\"  \"T\"     \"0.06\"  NA      \"0.03\"  \"0.02\"  \"0.08\"  \"0.01\"  \"0.07\" \n",
       "[10] \"0.16\"  \"0.09\"  \"0.22\"  \"0.02s\" \"0.24\"  \"0.18\"  \"0.05\"  \"0.04\"  \"0.09s\"\n",
       "[19] \"0.11\"  \"0.14\"  \"0.25\"  \"0.10\"  \"0.01s\" \"0.58\"  \"0.12\"  \"0.13\"  \"0.46\" \n",
       "[28] \"1.07\"  \"1.19\"  \"0.34\"  \"0.20\"  \"0.36s\" \"0.42\"  \"0.17\"  \"0.27\"  \"0.35\" \n",
       "[37] \"0.31\"  \"0.33\"  \"0.23\"  \"0.26\"  \"0.28\"  \"0.75\"  \"0.19\"  \"0.36\"  \"0.03s\"\n",
       "[46] \"0.07s\" \"0.54\"  \"0.59\"  \"0.21\" "
      ]
     },
     "metadata": {},
     "output_type": "display_data"
    }
   ],
   "source": [
    "unique(newweather_data$HOURLYPrecip)"
   ]
  },
  {
   "cell_type": "markdown",
   "metadata": {},
   "source": [
    "Having characters in values (like the \"T\" and \"s\" that you see in the unique values) will cause problems when you create a model because values for precipitation should be numerical. So you need to fix these values that have characters. \n",
    "\n",
    "Now, for the column `HOURLYPrecip`:\n",
    "1. Replace all the `T` values with \"0.0\" and \n",
    "2. Remove \"s\" from values like \"0.02s\". In R, you can use the method `str_remove(column, pattern = \"s$\")` to remove the character \"s\" from the end of values. The \"$\" tells R to match to the end of values. The `pattern` is a regex pattern. Look at [here](https://www.rdocumentation.org/packages/stringi/versions/1.5.3/topics/about_search_regex) for more information about regex and matching to strings in R.\n",
    "\n",
    "Remember that you can use `tidyverse`'s  `mutate()` to update columns.\n",
    "\n",
    "You can check your work by checking if unique values of `HOURLYPrecip` still contain any `T` or `s`. Store the modified dataframe as a new variable.\n"
   ]
  },
  {
   "cell_type": "code",
   "execution_count": 11,
   "metadata": {
    "tags": []
   },
   "outputs": [
    {
     "data": {
      "text/html": [
       "<style>\n",
       ".list-inline {list-style: none; margin:0; padding: 0}\n",
       ".list-inline>li {display: inline-block}\n",
       ".list-inline>li:not(:last-child)::after {content: \"\\00b7\"; padding: 0 .5ex}\n",
       "</style>\n",
       "<ol class=list-inline><li>'0.00'</li><li>'0'</li><li>'0.06'</li><li>'0.03'</li><li>'0.02'</li><li>'0.08'</li><li>'0.01'</li><li>'0.07'</li><li>'0.16'</li><li>'0.09'</li><li>'0.22'</li><li>'0.24'</li><li>'0.18'</li><li>'0.05'</li><li>'0.04'</li><li>'0.11'</li><li>'0.14'</li><li>'0.25'</li><li>'0.10'</li><li>'0.58'</li><li>'0.12'</li><li>'0.13'</li><li>'0.46'</li><li>'1.07'</li><li>'1.19'</li><li>'0.34'</li><li>'0.20'</li><li>'0.36'</li><li>'0.42'</li><li>'0.17'</li><li>'0.27'</li><li>'0.35'</li><li>'0.31'</li><li>'0.33'</li><li>'0.23'</li><li>'0.26'</li><li>'0.28'</li><li>'0.75'</li><li>'0.19'</li><li>'0.54'</li><li>'0.59'</li><li>'0.21'</li></ol>\n"
      ],
      "text/latex": [
       "\\begin{enumerate*}\n",
       "\\item '0.00'\n",
       "\\item '0'\n",
       "\\item '0.06'\n",
       "\\item '0.03'\n",
       "\\item '0.02'\n",
       "\\item '0.08'\n",
       "\\item '0.01'\n",
       "\\item '0.07'\n",
       "\\item '0.16'\n",
       "\\item '0.09'\n",
       "\\item '0.22'\n",
       "\\item '0.24'\n",
       "\\item '0.18'\n",
       "\\item '0.05'\n",
       "\\item '0.04'\n",
       "\\item '0.11'\n",
       "\\item '0.14'\n",
       "\\item '0.25'\n",
       "\\item '0.10'\n",
       "\\item '0.58'\n",
       "\\item '0.12'\n",
       "\\item '0.13'\n",
       "\\item '0.46'\n",
       "\\item '1.07'\n",
       "\\item '1.19'\n",
       "\\item '0.34'\n",
       "\\item '0.20'\n",
       "\\item '0.36'\n",
       "\\item '0.42'\n",
       "\\item '0.17'\n",
       "\\item '0.27'\n",
       "\\item '0.35'\n",
       "\\item '0.31'\n",
       "\\item '0.33'\n",
       "\\item '0.23'\n",
       "\\item '0.26'\n",
       "\\item '0.28'\n",
       "\\item '0.75'\n",
       "\\item '0.19'\n",
       "\\item '0.54'\n",
       "\\item '0.59'\n",
       "\\item '0.21'\n",
       "\\end{enumerate*}\n"
      ],
      "text/markdown": [
       "1. '0.00'\n",
       "2. '0'\n",
       "3. '0.06'\n",
       "4. '0.03'\n",
       "5. '0.02'\n",
       "6. '0.08'\n",
       "7. '0.01'\n",
       "8. '0.07'\n",
       "9. '0.16'\n",
       "10. '0.09'\n",
       "11. '0.22'\n",
       "12. '0.24'\n",
       "13. '0.18'\n",
       "14. '0.05'\n",
       "15. '0.04'\n",
       "16. '0.11'\n",
       "17. '0.14'\n",
       "18. '0.25'\n",
       "19. '0.10'\n",
       "20. '0.58'\n",
       "21. '0.12'\n",
       "22. '0.13'\n",
       "23. '0.46'\n",
       "24. '1.07'\n",
       "25. '1.19'\n",
       "26. '0.34'\n",
       "27. '0.20'\n",
       "28. '0.36'\n",
       "29. '0.42'\n",
       "30. '0.17'\n",
       "31. '0.27'\n",
       "32. '0.35'\n",
       "33. '0.31'\n",
       "34. '0.33'\n",
       "35. '0.23'\n",
       "36. '0.26'\n",
       "37. '0.28'\n",
       "38. '0.75'\n",
       "39. '0.19'\n",
       "40. '0.54'\n",
       "41. '0.59'\n",
       "42. '0.21'\n",
       "\n",
       "\n"
      ],
      "text/plain": [
       " [1] \"0.00\" \"0\"    \"0.06\" \"0.03\" \"0.02\" \"0.08\" \"0.01\" \"0.07\" \"0.16\" \"0.09\"\n",
       "[11] \"0.22\" \"0.24\" \"0.18\" \"0.05\" \"0.04\" \"0.11\" \"0.14\" \"0.25\" \"0.10\" \"0.58\"\n",
       "[21] \"0.12\" \"0.13\" \"0.46\" \"1.07\" \"1.19\" \"0.34\" \"0.20\" \"0.36\" \"0.42\" \"0.17\"\n",
       "[31] \"0.27\" \"0.35\" \"0.31\" \"0.33\" \"0.23\" \"0.26\" \"0.28\" \"0.75\" \"0.19\" \"0.54\"\n",
       "[41] \"0.59\" \"0.21\""
      ]
     },
     "metadata": {},
     "output_type": "display_data"
    }
   ],
   "source": [
    "newweather_data$HOURLYPrecip[newweather_data$HOURLYPrecip == \"T\"] <- 0 \n",
    "\n",
    "newweather_data$HOURLYPrecip <- str_remove(newweather_data$HOURLYPrecip, pattern = \"s$\")\n",
    "\n",
    "\n",
    "# subset with complete.cases to get rid of rows with missing values\n",
    "newweather_data2 <- newweather_data[complete.cases(newweather_data), ]\n",
    "\n",
    "# Replace NAs\n",
    "newweather_data2 <- newweather_data2 %>% replace_na(list(HOURLYRelativeHumidity = 0,\n",
    "                                                           HOURLYDRYBULBTEMPF = 0,\n",
    "                                                           HOURLYPrecip = 0,\n",
    "                                                           HOURLYWindSpeed = 0,\n",
    "                                                           HOURLYStationPressure = 0))\n",
    "\n",
    "   \n",
    "\n",
    "unique(newweather_data2$HOURLYPrecip)"
   ]
  },
  {
   "cell_type": "markdown",
   "metadata": {},
   "source": [
    "<a id=\"cell5\"></a>\n",
    "## 5. Convert Columns to Numerical Types\n",
    "Now that you have removed the characters in the `HOURLYPrecip` column, you can safely covert the column to a numeric type.\n",
    "\n",
    "First, check the types of the columns. You will notice that all are `dbl` (double or numeric) except for `HOURLYPrecip`, which is `chr` (character or string). Use the `glimpse` function from Tidyverse.\n"
   ]
  },
  {
   "cell_type": "code",
   "execution_count": 12,
   "metadata": {
    "tags": []
   },
   "outputs": [
    {
     "name": "stdout",
     "output_type": "stream",
     "text": [
      "Rows: 4,063\n",
      "Columns: 5\n",
      "$ HOURLYRelativeHumidity <dbl> 46, 48, 89, 48, 61, 79, 51, 65, 90, 37, 72, 47…\n",
      "$ HOURLYDRYBULBTEMPF     <dbl> 83, 53, 36, 36, 39, 41, 19, 24, 54, 44, 57, 78…\n",
      "$ HOURLYPrecip           <chr> \"0.00\", \"0.00\", \"0.00\", \"0.00\", \"0\", \"0.00\", \"…\n",
      "$ HOURLYWindSpeed        <dbl> 13, 6, 13, 14, 11, 6, 0, 11, 11, 7, 17, 8, 3, …\n",
      "$ HOURLYStationPressure  <dbl> 29.99, 30.03, 30.12, 29.80, 30.50, 29.92, 30.4…\n"
     ]
    }
   ],
   "source": [
    "glimpse(newweather_data2)"
   ]
  },
  {
   "cell_type": "markdown",
   "metadata": {},
   "source": [
    "Convert `HOURLYPrecip` to the `numeric` type and store the cleaned dataframe as a new variable.\n"
   ]
  },
  {
   "cell_type": "code",
   "execution_count": 13,
   "metadata": {
    "tags": []
   },
   "outputs": [],
   "source": [
    "newweather_data2$HOURLYPrecip <- (as.numeric(newweather_data2$HOURLYPrecip))"
   ]
  },
  {
   "cell_type": "markdown",
   "metadata": {},
   "source": [
    "We can now see that all fields have numerical data type.\n"
   ]
  },
  {
   "cell_type": "code",
   "execution_count": 14,
   "metadata": {
    "tags": []
   },
   "outputs": [
    {
     "name": "stdout",
     "output_type": "stream",
     "text": [
      "Rows: 4,063\n",
      "Columns: 5\n",
      "$ HOURLYRelativeHumidity <dbl> 46, 48, 89, 48, 61, 79, 51, 65, 90, 37, 72, 47…\n",
      "$ HOURLYDRYBULBTEMPF     <dbl> 83, 53, 36, 36, 39, 41, 19, 24, 54, 44, 57, 78…\n",
      "$ HOURLYPrecip           <dbl> 0.00, 0.00, 0.00, 0.00, 0.00, 0.00, 0.00, 0.00…\n",
      "$ HOURLYWindSpeed        <dbl> 13, 6, 13, 14, 11, 6, 0, 11, 11, 7, 17, 8, 3, …\n",
      "$ HOURLYStationPressure  <dbl> 29.99, 30.03, 30.12, 29.80, 30.50, 29.92, 30.4…\n"
     ]
    }
   ],
   "source": [
    "glimpse(newweather_data2)\n"
   ]
  },
  {
   "cell_type": "markdown",
   "metadata": {},
   "source": [
    "<a id=\"cell6\"></a>\n",
    "## 6. Rename Columns\n",
    "Let's rename the following columns as:\n",
    "- 'HOURLYRelativeHumidity' to 'relative_humidity'\n",
    "- 'HOURLYDRYBULBTEMPF' to 'dry_bulb_temp_f'\n",
    "- 'HOURLYPrecip' to 'precip'\n",
    "- 'HOURLYWindSpeed' to 'wind_speed'\n",
    "- 'HOURLYStationPressure' to 'station_pressure'\n",
    "\n",
    "You can use `dplyr::rename()`. Then, store the final dataframe as a new variable.\n"
   ]
  },
  {
   "cell_type": "code",
   "execution_count": 15,
   "metadata": {
    "tags": []
   },
   "outputs": [
    {
     "data": {
      "text/html": [
       "<table>\n",
       "<caption>A tibble: 6 × 5</caption>\n",
       "<thead>\n",
       "\t<tr><th scope=col>relative_humidity</th><th scope=col>dry_bulb_temp_f</th><th scope=col>precip</th><th scope=col>wind_speed</th><th scope=col>station_pressure</th></tr>\n",
       "\t<tr><th scope=col>&lt;dbl&gt;</th><th scope=col>&lt;dbl&gt;</th><th scope=col>&lt;dbl&gt;</th><th scope=col>&lt;dbl&gt;</th><th scope=col>&lt;dbl&gt;</th></tr>\n",
       "</thead>\n",
       "<tbody>\n",
       "\t<tr><td>46</td><td>83</td><td>0</td><td>13</td><td>29.99</td></tr>\n",
       "\t<tr><td>48</td><td>53</td><td>0</td><td> 6</td><td>30.03</td></tr>\n",
       "\t<tr><td>89</td><td>36</td><td>0</td><td>13</td><td>30.12</td></tr>\n",
       "\t<tr><td>48</td><td>36</td><td>0</td><td>14</td><td>29.80</td></tr>\n",
       "\t<tr><td>61</td><td>39</td><td>0</td><td>11</td><td>30.50</td></tr>\n",
       "\t<tr><td>79</td><td>41</td><td>0</td><td> 6</td><td>29.92</td></tr>\n",
       "</tbody>\n",
       "</table>\n"
      ],
      "text/latex": [
       "A tibble: 6 × 5\n",
       "\\begin{tabular}{lllll}\n",
       " relative\\_humidity & dry\\_bulb\\_temp\\_f & precip & wind\\_speed & station\\_pressure\\\\\n",
       " <dbl> & <dbl> & <dbl> & <dbl> & <dbl>\\\\\n",
       "\\hline\n",
       "\t 46 & 83 & 0 & 13 & 29.99\\\\\n",
       "\t 48 & 53 & 0 &  6 & 30.03\\\\\n",
       "\t 89 & 36 & 0 & 13 & 30.12\\\\\n",
       "\t 48 & 36 & 0 & 14 & 29.80\\\\\n",
       "\t 61 & 39 & 0 & 11 & 30.50\\\\\n",
       "\t 79 & 41 & 0 &  6 & 29.92\\\\\n",
       "\\end{tabular}\n"
      ],
      "text/markdown": [
       "\n",
       "A tibble: 6 × 5\n",
       "\n",
       "| relative_humidity &lt;dbl&gt; | dry_bulb_temp_f &lt;dbl&gt; | precip &lt;dbl&gt; | wind_speed &lt;dbl&gt; | station_pressure &lt;dbl&gt; |\n",
       "|---|---|---|---|---|\n",
       "| 46 | 83 | 0 | 13 | 29.99 |\n",
       "| 48 | 53 | 0 |  6 | 30.03 |\n",
       "| 89 | 36 | 0 | 13 | 30.12 |\n",
       "| 48 | 36 | 0 | 14 | 29.80 |\n",
       "| 61 | 39 | 0 | 11 | 30.50 |\n",
       "| 79 | 41 | 0 |  6 | 29.92 |\n",
       "\n"
      ],
      "text/plain": [
       "  relative_humidity dry_bulb_temp_f precip wind_speed station_pressure\n",
       "1 46                83              0      13         29.99           \n",
       "2 48                53              0       6         30.03           \n",
       "3 89                36              0      13         30.12           \n",
       "4 48                36              0      14         29.80           \n",
       "5 61                39              0      11         30.50           \n",
       "6 79                41              0       6         29.92           "
      ]
     },
     "metadata": {},
     "output_type": "display_data"
    }
   ],
   "source": [
    "\n",
    "newweather_data2 <- rename(newweather_data2, 'relative_humidity'='HOURLYRelativeHumidity')\n",
    "newweather_data2 <- rename(newweather_data2 ,'dry_bulb_temp_f'='HOURLYDRYBULBTEMPF' )\n",
    "newweather_data2 <-rename(newweather_data2 ,'precip'='HOURLYPrecip')\n",
    "\n",
    "newweather_data2 <- rename(newweather_data2 , 'wind_speed'='HOURLYWindSpeed' )\n",
    "newweather_data2 <- rename(newweather_data2 ,'station_pressure' ='HOURLYStationPressure')\n",
    "\n",
    "newweather_data3 <- newweather_data2\n",
    "\n",
    "head(newweather_data3)\n",
    "\n",
    "\n"
   ]
  },
  {
   "cell_type": "markdown",
   "metadata": {},
   "source": [
    "<a id=\"cell7\"></a>\n",
    "## 7. Exploratory Data Analysis\n",
    "Now that you have finished preprocessing the dataset, you can can start exploring the columns more.\n",
    "\n",
    "First, split the data into a training and testing set. Splitting a dataset is done randomly, so to have reproducible results set the seed = 1234. Also, use 80% of the data for training.\n"
   ]
  },
  {
   "cell_type": "code",
   "execution_count": 16,
   "metadata": {
    "tags": []
   },
   "outputs": [],
   "source": [
    "\n",
    "#setting seed\n",
    "set.seed(1234)\n",
    "\n",
    "weatherdata_split <- initial_split(newweather_data3, prop = 0.8)\n",
    "train_data <- training(weatherdata_split)\n",
    "test_data <- testing(weatherdata_split)"
   ]
  },
  {
   "cell_type": "markdown",
   "metadata": {},
   "source": [
    "Next, looking at just the **training set**, plot histograms or box plots of the variables (`relative_humidity`, `dry_bulb_temp_f`, `precip`, `wind_speed`,  `station_pressure`) for an intial look of their distributions using `tidyverse`'s `ggplot`. Leave the testing set as is because it is good practice to not see the testing set until evaluating the final model.\n"
   ]
  },
  {
   "cell_type": "code",
   "execution_count": 17,
   "metadata": {
    "tags": []
   },
   "outputs": [
    {
     "data": {},
     "metadata": {},
     "output_type": "display_data"
    },
    {
     "data": {},
     "metadata": {},
     "output_type": "display_data"
    },
    {
     "data": {
      "image/png": "[encoded data removed]",
      "text/plain": [
       "plot without title"
      ]
     },
     "metadata": {},
     "output_type": "display_data",
     "source": "R display func"
    },
    {
     "data": {},
     "metadata": {},
     "output_type": "display_data"
    },
    {
     "data": {
      "image/png": "[encoded data removed]",
      "text/plain": [
       "plot without title"
      ]
     },
     "metadata": {},
     "output_type": "display_data",
     "source": "R display func"
    },
    {
     "data": {},
     "metadata": {},
     "output_type": "display_data"
    },
    {
     "data": {
      "image/png": "[encoded data removed]",
      "text/plain": [
       "plot without title"
      ]
     },
     "metadata": {},
     "output_type": "display_data",
     "source": "R display func"
    },
    {
     "data": {},
     "metadata": {},
     "output_type": "display_data"
    },
    {
     "data": {
      "image/png": "[encoded data removed]",
      "text/plain": [
       "plot without title"
      ]
     },
     "metadata": {},
     "output_type": "display_data",
     "source": "R display func"
    },
    {
     "data": {
      "image/png": "[encoded data removed]",
      "text/plain": [
       "plot without title"
      ]
     },
     "metadata": {},
     "output_type": "display_data",
     "source": "R display func"
    }
   ],
   "source": [
    "#Histogram for relative_humidity\n",
    "ggplot(data = newweather_data3, aes(x = relative_humidity)) +\n",
    "geom_histogram(color = \"black\", fill = \"magenta\", bins = 30)\n",
    "\n",
    "#Histogram for dry_bulb_temp_f\n",
    "ggplot(data = newweather_data3, aes(x = dry_bulb_temp_f)) +\n",
    "geom_histogram(color = \"black\", fill = \"yellow\", bins = 30)\n",
    "\n",
    "#Histogram for precip\n",
    "ggplot(data = newweather_data3, aes(x = precip)) +\n",
    "geom_histogram(color = \"black\", fill = \"blue\", bins = 30)\n",
    "\n",
    "#Histogram for wind_speed\n",
    "ggplot(data = newweather_data3, aes(x = wind_speed)) +\n",
    "geom_histogram(color = \"black\", fill = \"green\", bins = 30)\n",
    "\n",
    "#Histogram for station_pressure\n",
    "ggplot(data = newweather_data3, aes(x = station_pressure)) +\n",
    "geom_histogram(color = \"black\", fill = \"orange\", bins = 30)"
   ]
  },
  {
   "cell_type": "markdown",
   "metadata": {},
   "source": [
    "<a id=\"cell8\"></a>\n",
    "## 8. Linear Regression \n",
    "After exploring the dataset more, you are now ready to start creating models to predict the precipitation (`precip`).\n",
    "\n",
    "Create simple linear regression models where `precip` is the response variable and each of `relative_humidity`, `dry_bulb_temp_f`,`wind_speed` or `station_pressure` will be a predictor variable, e.g. `precip ~ relative_humidity`, `precip ~ dry_bulb_temp_f`, etc. for a total of four simple models. \n",
    "Additionally, visualize each simple model with a scatter plot.\n"
   ]
  },
  {
   "cell_type": "code",
   "execution_count": 18,
   "metadata": {
    "tags": []
   },
   "outputs": [
    {
     "name": "stderr",
     "output_type": "stream",
     "text": [
      "`geom_smooth()` using formula 'y ~ x'\n"
     ]
    },
    {
     "data": {},
     "metadata": {},
     "output_type": "display_data"
    },
    {
     "data": {
      "image/png": "[encoded data removed]",
      "text/plain": [
       "plot without title"
      ]
     },
     "metadata": {},
     "output_type": "display_data",
     "source": "R display func"
    }
   ],
   "source": [
    "model1 <- lm(precip ~ relative_humidity , data = newweather_data3 )\n",
    "ggplot(newweather_data3, aes(x=relative_humidity, y=precip)) + \n",
    "  geom_point() + stat_smooth(method = \"lm\", col =\"magenta\")"
   ]
  },
  {
   "cell_type": "code",
   "execution_count": 19,
   "metadata": {
    "tags": []
   },
   "outputs": [
    {
     "name": "stderr",
     "output_type": "stream",
     "text": [
      "`geom_smooth()` using formula 'y ~ x'\n"
     ]
    },
    {
     "data": {},
     "metadata": {},
     "output_type": "display_data"
    },
    {
     "data": {
      "image/png": "[encoded data removed]",
      "text/plain": [
       "plot without title"
      ]
     },
     "metadata": {},
     "output_type": "display_data",
     "source": "R display func"
    }
   ],
   "source": [
    "model2 <- lm(precip ~ dry_bulb_temp_f  , data = newweather_data3 )\n",
    "ggplot(newweather_data3, aes(x=dry_bulb_temp_f, y=precip)) + \n",
    "  geom_point() + stat_smooth(method = \"lm\", col =\"green\")"
   ]
  },
  {
   "cell_type": "code",
   "execution_count": 20,
   "metadata": {
    "tags": []
   },
   "outputs": [
    {
     "name": "stderr",
     "output_type": "stream",
     "text": [
      "`geom_smooth()` using formula 'y ~ x'\n"
     ]
    },
    {
     "data": {},
     "metadata": {},
     "output_type": "display_data"
    },
    {
     "data": {
      "image/png": "[encoded data removed]",
      "text/plain": [
       "plot without title"
      ]
     },
     "metadata": {},
     "output_type": "display_data",
     "source": "R display func"
    }
   ],
   "source": [
    "model3 <- lm(precip ~ wind_speed , data = newweather_data3 )\n",
    "ggplot(newweather_data3, aes(x=wind_speed, y=precip)) + \n",
    "  geom_point() + stat_smooth(method = \"lm\", col =\"purple\")"
   ]
  },
  {
   "cell_type": "code",
   "execution_count": 21,
   "metadata": {
    "tags": []
   },
   "outputs": [
    {
     "name": "stderr",
     "output_type": "stream",
     "text": [
      "`geom_smooth()` using formula 'y ~ x'\n"
     ]
    },
    {
     "data": {},
     "metadata": {},
     "output_type": "display_data"
    },
    {
     "data": {
      "image/png": "[encoded data removed]",
      "text/plain": [
       "plot without title"
      ]
     },
     "metadata": {},
     "output_type": "display_data",
     "source": "R display func"
    }
   ],
   "source": [
    "model4 <- lm(precip ~ station_pressure , data = newweather_data3 )\n",
    "ggplot(newweather_data3, aes(x=station_pressure, y=precip)) + \n",
    "  geom_point() + stat_smooth(method = \"lm\", col =\"orange\")"
   ]
  },
  {
   "cell_type": "markdown",
   "metadata": {},
   "source": [
    "<a id=\"cell9\"></a>\n",
    "## 9. Improve the Model\n",
    "Now, try improving the simple models you created in the previous section. \n",
    "\n",
    "Create at least two more models, each model should use at least one of the different techniques:\n",
    "1. Add more features/predictors\n",
    "2. Add regularization (L1, L2 or a mix)\n",
    "3. Add a polynomial component\n",
    "\n",
    "Also, for each of the models you create, check the model performance using the **training set** and a metric like MSE, RMSE, or R-squared.\n",
    "\n",
    "Consider using `tidymodels` if you choose to add regularization and tune lambda.\n"
   ]
  },
  {
   "cell_type": "code",
   "execution_count": 22,
   "metadata": {
    "tags": []
   },
   "outputs": [
    {
     "data": {
      "text/html": [
       "<table>\n",
       "<caption>A tibble: 246 × 5</caption>\n",
       "<thead>\n",
       "\t<tr><th scope=col>term</th><th scope=col>step</th><th scope=col>estimate</th><th scope=col>lambda</th><th scope=col>dev.ratio</th></tr>\n",
       "\t<tr><th scope=col>&lt;chr&gt;</th><th scope=col>&lt;dbl&gt;</th><th scope=col>&lt;dbl&gt;</th><th scope=col>&lt;dbl&gt;</th><th scope=col>&lt;dbl&gt;</th></tr>\n",
       "</thead>\n",
       "<tbody>\n",
       "\t<tr><td>(Intercept)      </td><td> 1</td><td> 6.693325e-03</td><td>0.016599197</td><td>0.000000000</td></tr>\n",
       "\t<tr><td>(Intercept)      </td><td> 2</td><td> 4.611716e-03</td><td>0.015124570</td><td>0.005330902</td></tr>\n",
       "\t<tr><td>relative_humidity</td><td> 2</td><td> 3.158604e-05</td><td>0.015124570</td><td>0.005330902</td></tr>\n",
       "\t<tr><td>(Intercept)      </td><td> 3</td><td> 2.661856e-03</td><td>0.013780945</td><td>0.009944233</td></tr>\n",
       "\t<tr><td>relative_humidity</td><td> 3</td><td> 6.117295e-05</td><td>0.013780945</td><td>0.009944233</td></tr>\n",
       "\t<tr><td>(Intercept)      </td><td> 4</td><td> 8.392719e-04</td><td>0.012556684</td><td>0.013923911</td></tr>\n",
       "\t<tr><td>relative_humidity</td><td> 4</td><td> 8.882860e-05</td><td>0.012556684</td><td>0.013923911</td></tr>\n",
       "\t<tr><td>(Intercept)      </td><td> 5</td><td>-8.609744e-04</td><td>0.011441183</td><td>0.017346782</td></tr>\n",
       "\t<tr><td>relative_humidity</td><td> 5</td><td> 1.146279e-04</td><td>0.011441183</td><td>0.017346782</td></tr>\n",
       "\t<tr><td>(Intercept)      </td><td> 6</td><td>-2.444166e-03</td><td>0.010424780</td><td>0.020282599</td></tr>\n",
       "\t<tr><td>relative_humidity</td><td> 6</td><td> 1.386510e-04</td><td>0.010424780</td><td>0.020282599</td></tr>\n",
       "\t<tr><td>(Intercept)      </td><td> 7</td><td> 3.940492e-04</td><td>0.009498671</td><td>0.022924904</td></tr>\n",
       "\t<tr><td>relative_humidity</td><td> 7</td><td> 1.605711e-04</td><td>0.009498671</td><td>0.022924904</td></tr>\n",
       "\t<tr><td>station_pressure </td><td> 7</td><td>-1.427879e-04</td><td>0.009498671</td><td>0.022924904</td></tr>\n",
       "\t<tr><td>(Intercept)      </td><td> 8</td><td> 3.683741e-02</td><td>0.008654835</td><td>0.026156005</td></tr>\n",
       "\t<tr><td>relative_humidity</td><td> 8</td><td> 1.776461e-04</td><td>0.008654835</td><td>0.026156005</td></tr>\n",
       "\t<tr><td>station_pressure </td><td> 8</td><td>-1.395318e-03</td><td>0.008654835</td><td>0.026156005</td></tr>\n",
       "\t<tr><td>(Intercept)      </td><td> 9</td><td> 6.453579e-02</td><td>0.007885964</td><td>0.029480396</td></tr>\n",
       "\t<tr><td>relative_humidity</td><td> 9</td><td> 1.954618e-04</td><td>0.007885964</td><td>0.029480396</td></tr>\n",
       "\t<tr><td>wind_speed       </td><td> 9</td><td> 2.222242e-05</td><td>0.007885964</td><td>0.029480396</td></tr>\n",
       "\t<tr><td>station_pressure </td><td> 9</td><td>-2.366334e-03</td><td>0.007885964</td><td>0.029480396</td></tr>\n",
       "\t<tr><td>(Intercept)      </td><td>10</td><td> 7.907938e-02</td><td>0.007185396</td><td>0.033316743</td></tr>\n",
       "\t<tr><td>relative_humidity</td><td>10</td><td> 2.157267e-04</td><td>0.007185396</td><td>0.033316743</td></tr>\n",
       "\t<tr><td>wind_speed       </td><td>10</td><td> 8.290542e-05</td><td>0.007185396</td><td>0.033316743</td></tr>\n",
       "\t<tr><td>station_pressure </td><td>10</td><td>-2.918719e-03</td><td>0.007185396</td><td>0.033316743</td></tr>\n",
       "\t<tr><td>(Intercept)      </td><td>11</td><td> 9.207433e-02</td><td>0.006547065</td><td>0.036573506</td></tr>\n",
       "\t<tr><td>relative_humidity</td><td>11</td><td> 2.345508e-04</td><td>0.006547065</td><td>0.036573506</td></tr>\n",
       "\t<tr><td>wind_speed       </td><td>11</td><td> 1.393063e-04</td><td>0.006547065</td><td>0.036573506</td></tr>\n",
       "\t<tr><td>station_pressure </td><td>11</td><td>-3.414685e-03</td><td>0.006547065</td><td>0.036573506</td></tr>\n",
       "\t<tr><td>(Intercept)      </td><td>12</td><td> 1.036785e-01</td><td>0.005965442</td><td>0.039334036</td></tr>\n",
       "\t<tr><td>⋮</td><td>⋮</td><td>⋮</td><td>⋮</td><td>⋮</td></tr>\n",
       "\t<tr><td>(Intercept)      </td><td>56</td><td> 2.001264e-01</td><td>9.950957e-05</td><td>0.05399510</td></tr>\n",
       "\t<tr><td>relative_humidity</td><td>56</td><td> 4.472205e-04</td><td>9.950957e-05</td><td>0.05399510</td></tr>\n",
       "\t<tr><td>dry_bulb_temp_f  </td><td>56</td><td> 5.699009e-06</td><td>9.950957e-05</td><td>0.05399510</td></tr>\n",
       "\t<tr><td>wind_speed       </td><td>56</td><td> 7.822247e-04</td><td>9.950957e-05</td><td>0.05399510</td></tr>\n",
       "\t<tr><td>station_pressure </td><td>56</td><td>-7.738367e-03</td><td>9.950957e-05</td><td>0.05399510</td></tr>\n",
       "\t<tr><td>(Intercept)      </td><td>57</td><td> 2.000381e-01</td><td>9.066942e-05</td><td>0.05399619</td></tr>\n",
       "\t<tr><td>relative_humidity</td><td>57</td><td> 4.475577e-04</td><td>9.066942e-05</td><td>0.05399619</td></tr>\n",
       "\t<tr><td>dry_bulb_temp_f  </td><td>57</td><td> 5.990071e-06</td><td>9.066942e-05</td><td>0.05399619</td></tr>\n",
       "\t<tr><td>wind_speed       </td><td>57</td><td> 7.834253e-04</td><td>9.066942e-05</td><td>0.05399619</td></tr>\n",
       "\t<tr><td>station_pressure </td><td>57</td><td>-7.737155e-03</td><td>9.066942e-05</td><td>0.05399619</td></tr>\n",
       "\t<tr><td>(Intercept)      </td><td>58</td><td> 1.999574e-01</td><td>8.261460e-05</td><td>0.05399709</td></tr>\n",
       "\t<tr><td>relative_humidity</td><td>58</td><td> 4.478651e-04</td><td>8.261460e-05</td><td>0.05399709</td></tr>\n",
       "\t<tr><td>dry_bulb_temp_f  </td><td>58</td><td> 6.255363e-06</td><td>8.261460e-05</td><td>0.05399709</td></tr>\n",
       "\t<tr><td>wind_speed       </td><td>58</td><td> 7.845196e-04</td><td>8.261460e-05</td><td>0.05399709</td></tr>\n",
       "\t<tr><td>station_pressure </td><td>58</td><td>-7.736045e-03</td><td>8.261460e-05</td><td>0.05399709</td></tr>\n",
       "\t<tr><td>(Intercept)      </td><td>59</td><td> 1.998837e-01</td><td>7.527534e-05</td><td>0.05399784</td></tr>\n",
       "\t<tr><td>relative_humidity</td><td>59</td><td> 4.481452e-04</td><td>7.527534e-05</td><td>0.05399784</td></tr>\n",
       "\t<tr><td>dry_bulb_temp_f  </td><td>59</td><td> 6.497160e-06</td><td>7.527534e-05</td><td>0.05399784</td></tr>\n",
       "\t<tr><td>wind_speed       </td><td>59</td><td> 7.855171e-04</td><td>7.527534e-05</td><td>0.05399784</td></tr>\n",
       "\t<tr><td>station_pressure </td><td>59</td><td>-7.735027e-03</td><td>7.527534e-05</td><td>0.05399784</td></tr>\n",
       "\t<tr><td>(Intercept)      </td><td>60</td><td> 1.998164e-01</td><td>6.858809e-05</td><td>0.05399847</td></tr>\n",
       "\t<tr><td>relative_humidity</td><td>60</td><td> 4.484005e-04</td><td>6.858809e-05</td><td>0.05399847</td></tr>\n",
       "\t<tr><td>dry_bulb_temp_f  </td><td>60</td><td> 6.717537e-06</td><td>6.858809e-05</td><td>0.05399847</td></tr>\n",
       "\t<tr><td>wind_speed       </td><td>60</td><td> 7.864263e-04</td><td>6.858809e-05</td><td>0.05399847</td></tr>\n",
       "\t<tr><td>station_pressure </td><td>60</td><td>-7.734095e-03</td><td>6.858809e-05</td><td>0.05399847</td></tr>\n",
       "\t<tr><td>(Intercept)      </td><td>61</td><td> 1.997549e-01</td><td>6.249491e-05</td><td>0.05399899</td></tr>\n",
       "\t<tr><td>relative_humidity</td><td>61</td><td> 4.486332e-04</td><td>6.249491e-05</td><td>0.05399899</td></tr>\n",
       "\t<tr><td>dry_bulb_temp_f  </td><td>61</td><td> 6.918386e-06</td><td>6.249491e-05</td><td>0.05399899</td></tr>\n",
       "\t<tr><td>wind_speed       </td><td>61</td><td> 7.872549e-04</td><td>6.249491e-05</td><td>0.05399899</td></tr>\n",
       "\t<tr><td>station_pressure </td><td>61</td><td>-7.733241e-03</td><td>6.249491e-05</td><td>0.05399899</td></tr>\n",
       "</tbody>\n",
       "</table>\n"
      ],
      "text/latex": [
       "A tibble: 246 × 5\n",
       "\\begin{tabular}{lllll}\n",
       " term & step & estimate & lambda & dev.ratio\\\\\n",
       " <chr> & <dbl> & <dbl> & <dbl> & <dbl>\\\\\n",
       "\\hline\n",
       "\t (Intercept)       &  1 &  6.693325e-03 & 0.016599197 & 0.000000000\\\\\n",
       "\t (Intercept)       &  2 &  4.611716e-03 & 0.015124570 & 0.005330902\\\\\n",
       "\t relative\\_humidity &  2 &  3.158604e-05 & 0.015124570 & 0.005330902\\\\\n",
       "\t (Intercept)       &  3 &  2.661856e-03 & 0.013780945 & 0.009944233\\\\\n",
       "\t relative\\_humidity &  3 &  6.117295e-05 & 0.013780945 & 0.009944233\\\\\n",
       "\t (Intercept)       &  4 &  8.392719e-04 & 0.012556684 & 0.013923911\\\\\n",
       "\t relative\\_humidity &  4 &  8.882860e-05 & 0.012556684 & 0.013923911\\\\\n",
       "\t (Intercept)       &  5 & -8.609744e-04 & 0.011441183 & 0.017346782\\\\\n",
       "\t relative\\_humidity &  5 &  1.146279e-04 & 0.011441183 & 0.017346782\\\\\n",
       "\t (Intercept)       &  6 & -2.444166e-03 & 0.010424780 & 0.020282599\\\\\n",
       "\t relative\\_humidity &  6 &  1.386510e-04 & 0.010424780 & 0.020282599\\\\\n",
       "\t (Intercept)       &  7 &  3.940492e-04 & 0.009498671 & 0.022924904\\\\\n",
       "\t relative\\_humidity &  7 &  1.605711e-04 & 0.009498671 & 0.022924904\\\\\n",
       "\t station\\_pressure  &  7 & -1.427879e-04 & 0.009498671 & 0.022924904\\\\\n",
       "\t (Intercept)       &  8 &  3.683741e-02 & 0.008654835 & 0.026156005\\\\\n",
       "\t relative\\_humidity &  8 &  1.776461e-04 & 0.008654835 & 0.026156005\\\\\n",
       "\t station\\_pressure  &  8 & -1.395318e-03 & 0.008654835 & 0.026156005\\\\\n",
       "\t (Intercept)       &  9 &  6.453579e-02 & 0.007885964 & 0.029480396\\\\\n",
       "\t relative\\_humidity &  9 &  1.954618e-04 & 0.007885964 & 0.029480396\\\\\n",
       "\t wind\\_speed        &  9 &  2.222242e-05 & 0.007885964 & 0.029480396\\\\\n",
       "\t station\\_pressure  &  9 & -2.366334e-03 & 0.007885964 & 0.029480396\\\\\n",
       "\t (Intercept)       & 10 &  7.907938e-02 & 0.007185396 & 0.033316743\\\\\n",
       "\t relative\\_humidity & 10 &  2.157267e-04 & 0.007185396 & 0.033316743\\\\\n",
       "\t wind\\_speed        & 10 &  8.290542e-05 & 0.007185396 & 0.033316743\\\\\n",
       "\t station\\_pressure  & 10 & -2.918719e-03 & 0.007185396 & 0.033316743\\\\\n",
       "\t (Intercept)       & 11 &  9.207433e-02 & 0.006547065 & 0.036573506\\\\\n",
       "\t relative\\_humidity & 11 &  2.345508e-04 & 0.006547065 & 0.036573506\\\\\n",
       "\t wind\\_speed        & 11 &  1.393063e-04 & 0.006547065 & 0.036573506\\\\\n",
       "\t station\\_pressure  & 11 & -3.414685e-03 & 0.006547065 & 0.036573506\\\\\n",
       "\t (Intercept)       & 12 &  1.036785e-01 & 0.005965442 & 0.039334036\\\\\n",
       "\t ⋮ & ⋮ & ⋮ & ⋮ & ⋮\\\\\n",
       "\t (Intercept)       & 56 &  2.001264e-01 & 9.950957e-05 & 0.05399510\\\\\n",
       "\t relative\\_humidity & 56 &  4.472205e-04 & 9.950957e-05 & 0.05399510\\\\\n",
       "\t dry\\_bulb\\_temp\\_f   & 56 &  5.699009e-06 & 9.950957e-05 & 0.05399510\\\\\n",
       "\t wind\\_speed        & 56 &  7.822247e-04 & 9.950957e-05 & 0.05399510\\\\\n",
       "\t station\\_pressure  & 56 & -7.738367e-03 & 9.950957e-05 & 0.05399510\\\\\n",
       "\t (Intercept)       & 57 &  2.000381e-01 & 9.066942e-05 & 0.05399619\\\\\n",
       "\t relative\\_humidity & 57 &  4.475577e-04 & 9.066942e-05 & 0.05399619\\\\\n",
       "\t dry\\_bulb\\_temp\\_f   & 57 &  5.990071e-06 & 9.066942e-05 & 0.05399619\\\\\n",
       "\t wind\\_speed        & 57 &  7.834253e-04 & 9.066942e-05 & 0.05399619\\\\\n",
       "\t station\\_pressure  & 57 & -7.737155e-03 & 9.066942e-05 & 0.05399619\\\\\n",
       "\t (Intercept)       & 58 &  1.999574e-01 & 8.261460e-05 & 0.05399709\\\\\n",
       "\t relative\\_humidity & 58 &  4.478651e-04 & 8.261460e-05 & 0.05399709\\\\\n",
       "\t dry\\_bulb\\_temp\\_f   & 58 &  6.255363e-06 & 8.261460e-05 & 0.05399709\\\\\n",
       "\t wind\\_speed        & 58 &  7.845196e-04 & 8.261460e-05 & 0.05399709\\\\\n",
       "\t station\\_pressure  & 58 & -7.736045e-03 & 8.261460e-05 & 0.05399709\\\\\n",
       "\t (Intercept)       & 59 &  1.998837e-01 & 7.527534e-05 & 0.05399784\\\\\n",
       "\t relative\\_humidity & 59 &  4.481452e-04 & 7.527534e-05 & 0.05399784\\\\\n",
       "\t dry\\_bulb\\_temp\\_f   & 59 &  6.497160e-06 & 7.527534e-05 & 0.05399784\\\\\n",
       "\t wind\\_speed        & 59 &  7.855171e-04 & 7.527534e-05 & 0.05399784\\\\\n",
       "\t station\\_pressure  & 59 & -7.735027e-03 & 7.527534e-05 & 0.05399784\\\\\n",
       "\t (Intercept)       & 60 &  1.998164e-01 & 6.858809e-05 & 0.05399847\\\\\n",
       "\t relative\\_humidity & 60 &  4.484005e-04 & 6.858809e-05 & 0.05399847\\\\\n",
       "\t dry\\_bulb\\_temp\\_f   & 60 &  6.717537e-06 & 6.858809e-05 & 0.05399847\\\\\n",
       "\t wind\\_speed        & 60 &  7.864263e-04 & 6.858809e-05 & 0.05399847\\\\\n",
       "\t station\\_pressure  & 60 & -7.734095e-03 & 6.858809e-05 & 0.05399847\\\\\n",
       "\t (Intercept)       & 61 &  1.997549e-01 & 6.249491e-05 & 0.05399899\\\\\n",
       "\t relative\\_humidity & 61 &  4.486332e-04 & 6.249491e-05 & 0.05399899\\\\\n",
       "\t dry\\_bulb\\_temp\\_f   & 61 &  6.918386e-06 & 6.249491e-05 & 0.05399899\\\\\n",
       "\t wind\\_speed        & 61 &  7.872549e-04 & 6.249491e-05 & 0.05399899\\\\\n",
       "\t station\\_pressure  & 61 & -7.733241e-03 & 6.249491e-05 & 0.05399899\\\\\n",
       "\\end{tabular}\n"
      ],
      "text/markdown": [
       "\n",
       "A tibble: 246 × 5\n",
       "\n",
       "| term &lt;chr&gt; | step &lt;dbl&gt; | estimate &lt;dbl&gt; | lambda &lt;dbl&gt; | dev.ratio &lt;dbl&gt; |\n",
       "|---|---|---|---|---|\n",
       "| (Intercept)       |  1 |  6.693325e-03 | 0.016599197 | 0.000000000 |\n",
       "| (Intercept)       |  2 |  4.611716e-03 | 0.015124570 | 0.005330902 |\n",
       "| relative_humidity |  2 |  3.158604e-05 | 0.015124570 | 0.005330902 |\n",
       "| (Intercept)       |  3 |  2.661856e-03 | 0.013780945 | 0.009944233 |\n",
       "| relative_humidity |  3 |  6.117295e-05 | 0.013780945 | 0.009944233 |\n",
       "| (Intercept)       |  4 |  8.392719e-04 | 0.012556684 | 0.013923911 |\n",
       "| relative_humidity |  4 |  8.882860e-05 | 0.012556684 | 0.013923911 |\n",
       "| (Intercept)       |  5 | -8.609744e-04 | 0.011441183 | 0.017346782 |\n",
       "| relative_humidity |  5 |  1.146279e-04 | 0.011441183 | 0.017346782 |\n",
       "| (Intercept)       |  6 | -2.444166e-03 | 0.010424780 | 0.020282599 |\n",
       "| relative_humidity |  6 |  1.386510e-04 | 0.010424780 | 0.020282599 |\n",
       "| (Intercept)       |  7 |  3.940492e-04 | 0.009498671 | 0.022924904 |\n",
       "| relative_humidity |  7 |  1.605711e-04 | 0.009498671 | 0.022924904 |\n",
       "| station_pressure  |  7 | -1.427879e-04 | 0.009498671 | 0.022924904 |\n",
       "| (Intercept)       |  8 |  3.683741e-02 | 0.008654835 | 0.026156005 |\n",
       "| relative_humidity |  8 |  1.776461e-04 | 0.008654835 | 0.026156005 |\n",
       "| station_pressure  |  8 | -1.395318e-03 | 0.008654835 | 0.026156005 |\n",
       "| (Intercept)       |  9 |  6.453579e-02 | 0.007885964 | 0.029480396 |\n",
       "| relative_humidity |  9 |  1.954618e-04 | 0.007885964 | 0.029480396 |\n",
       "| wind_speed        |  9 |  2.222242e-05 | 0.007885964 | 0.029480396 |\n",
       "| station_pressure  |  9 | -2.366334e-03 | 0.007885964 | 0.029480396 |\n",
       "| (Intercept)       | 10 |  7.907938e-02 | 0.007185396 | 0.033316743 |\n",
       "| relative_humidity | 10 |  2.157267e-04 | 0.007185396 | 0.033316743 |\n",
       "| wind_speed        | 10 |  8.290542e-05 | 0.007185396 | 0.033316743 |\n",
       "| station_pressure  | 10 | -2.918719e-03 | 0.007185396 | 0.033316743 |\n",
       "| (Intercept)       | 11 |  9.207433e-02 | 0.006547065 | 0.036573506 |\n",
       "| relative_humidity | 11 |  2.345508e-04 | 0.006547065 | 0.036573506 |\n",
       "| wind_speed        | 11 |  1.393063e-04 | 0.006547065 | 0.036573506 |\n",
       "| station_pressure  | 11 | -3.414685e-03 | 0.006547065 | 0.036573506 |\n",
       "| (Intercept)       | 12 |  1.036785e-01 | 0.005965442 | 0.039334036 |\n",
       "| ⋮ | ⋮ | ⋮ | ⋮ | ⋮ |\n",
       "| (Intercept)       | 56 |  2.001264e-01 | 9.950957e-05 | 0.05399510 |\n",
       "| relative_humidity | 56 |  4.472205e-04 | 9.950957e-05 | 0.05399510 |\n",
       "| dry_bulb_temp_f   | 56 |  5.699009e-06 | 9.950957e-05 | 0.05399510 |\n",
       "| wind_speed        | 56 |  7.822247e-04 | 9.950957e-05 | 0.05399510 |\n",
       "| station_pressure  | 56 | -7.738367e-03 | 9.950957e-05 | 0.05399510 |\n",
       "| (Intercept)       | 57 |  2.000381e-01 | 9.066942e-05 | 0.05399619 |\n",
       "| relative_humidity | 57 |  4.475577e-04 | 9.066942e-05 | 0.05399619 |\n",
       "| dry_bulb_temp_f   | 57 |  5.990071e-06 | 9.066942e-05 | 0.05399619 |\n",
       "| wind_speed        | 57 |  7.834253e-04 | 9.066942e-05 | 0.05399619 |\n",
       "| station_pressure  | 57 | -7.737155e-03 | 9.066942e-05 | 0.05399619 |\n",
       "| (Intercept)       | 58 |  1.999574e-01 | 8.261460e-05 | 0.05399709 |\n",
       "| relative_humidity | 58 |  4.478651e-04 | 8.261460e-05 | 0.05399709 |\n",
       "| dry_bulb_temp_f   | 58 |  6.255363e-06 | 8.261460e-05 | 0.05399709 |\n",
       "| wind_speed        | 58 |  7.845196e-04 | 8.261460e-05 | 0.05399709 |\n",
       "| station_pressure  | 58 | -7.736045e-03 | 8.261460e-05 | 0.05399709 |\n",
       "| (Intercept)       | 59 |  1.998837e-01 | 7.527534e-05 | 0.05399784 |\n",
       "| relative_humidity | 59 |  4.481452e-04 | 7.527534e-05 | 0.05399784 |\n",
       "| dry_bulb_temp_f   | 59 |  6.497160e-06 | 7.527534e-05 | 0.05399784 |\n",
       "| wind_speed        | 59 |  7.855171e-04 | 7.527534e-05 | 0.05399784 |\n",
       "| station_pressure  | 59 | -7.735027e-03 | 7.527534e-05 | 0.05399784 |\n",
       "| (Intercept)       | 60 |  1.998164e-01 | 6.858809e-05 | 0.05399847 |\n",
       "| relative_humidity | 60 |  4.484005e-04 | 6.858809e-05 | 0.05399847 |\n",
       "| dry_bulb_temp_f   | 60 |  6.717537e-06 | 6.858809e-05 | 0.05399847 |\n",
       "| wind_speed        | 60 |  7.864263e-04 | 6.858809e-05 | 0.05399847 |\n",
       "| station_pressure  | 60 | -7.734095e-03 | 6.858809e-05 | 0.05399847 |\n",
       "| (Intercept)       | 61 |  1.997549e-01 | 6.249491e-05 | 0.05399899 |\n",
       "| relative_humidity | 61 |  4.486332e-04 | 6.249491e-05 | 0.05399899 |\n",
       "| dry_bulb_temp_f   | 61 |  6.918386e-06 | 6.249491e-05 | 0.05399899 |\n",
       "| wind_speed        | 61 |  7.872549e-04 | 6.249491e-05 | 0.05399899 |\n",
       "| station_pressure  | 61 | -7.733241e-03 | 6.249491e-05 | 0.05399899 |\n",
       "\n"
      ],
      "text/plain": [
       "    term              step estimate      lambda       dev.ratio  \n",
       "1   (Intercept)        1    6.693325e-03 0.016599197  0.000000000\n",
       "2   (Intercept)        2    4.611716e-03 0.015124570  0.005330902\n",
       "3   relative_humidity  2    3.158604e-05 0.015124570  0.005330902\n",
       "4   (Intercept)        3    2.661856e-03 0.013780945  0.009944233\n",
       "5   relative_humidity  3    6.117295e-05 0.013780945  0.009944233\n",
       "6   (Intercept)        4    8.392719e-04 0.012556684  0.013923911\n",
       "7   relative_humidity  4    8.882860e-05 0.012556684  0.013923911\n",
       "8   (Intercept)        5   -8.609744e-04 0.011441183  0.017346782\n",
       "9   relative_humidity  5    1.146279e-04 0.011441183  0.017346782\n",
       "10  (Intercept)        6   -2.444166e-03 0.010424780  0.020282599\n",
       "11  relative_humidity  6    1.386510e-04 0.010424780  0.020282599\n",
       "12  (Intercept)        7    3.940492e-04 0.009498671  0.022924904\n",
       "13  relative_humidity  7    1.605711e-04 0.009498671  0.022924904\n",
       "14  station_pressure   7   -1.427879e-04 0.009498671  0.022924904\n",
       "15  (Intercept)        8    3.683741e-02 0.008654835  0.026156005\n",
       "16  relative_humidity  8    1.776461e-04 0.008654835  0.026156005\n",
       "17  station_pressure   8   -1.395318e-03 0.008654835  0.026156005\n",
       "18  (Intercept)        9    6.453579e-02 0.007885964  0.029480396\n",
       "19  relative_humidity  9    1.954618e-04 0.007885964  0.029480396\n",
       "20  wind_speed         9    2.222242e-05 0.007885964  0.029480396\n",
       "21  station_pressure   9   -2.366334e-03 0.007885964  0.029480396\n",
       "22  (Intercept)       10    7.907938e-02 0.007185396  0.033316743\n",
       "23  relative_humidity 10    2.157267e-04 0.007185396  0.033316743\n",
       "24  wind_speed        10    8.290542e-05 0.007185396  0.033316743\n",
       "25  station_pressure  10   -2.918719e-03 0.007185396  0.033316743\n",
       "26  (Intercept)       11    9.207433e-02 0.006547065  0.036573506\n",
       "27  relative_humidity 11    2.345508e-04 0.006547065  0.036573506\n",
       "28  wind_speed        11    1.393063e-04 0.006547065  0.036573506\n",
       "29  station_pressure  11   -3.414685e-03 0.006547065  0.036573506\n",
       "30  (Intercept)       12    1.036785e-01 0.005965442  0.039334036\n",
       "⋮   ⋮                 ⋮    ⋮             ⋮            ⋮          \n",
       "217 (Intercept)       56    2.001264e-01 9.950957e-05 0.05399510 \n",
       "218 relative_humidity 56    4.472205e-04 9.950957e-05 0.05399510 \n",
       "219 dry_bulb_temp_f   56    5.699009e-06 9.950957e-05 0.05399510 \n",
       "220 wind_speed        56    7.822247e-04 9.950957e-05 0.05399510 \n",
       "221 station_pressure  56   -7.738367e-03 9.950957e-05 0.05399510 \n",
       "222 (Intercept)       57    2.000381e-01 9.066942e-05 0.05399619 \n",
       "223 relative_humidity 57    4.475577e-04 9.066942e-05 0.05399619 \n",
       "224 dry_bulb_temp_f   57    5.990071e-06 9.066942e-05 0.05399619 \n",
       "225 wind_speed        57    7.834253e-04 9.066942e-05 0.05399619 \n",
       "226 station_pressure  57   -7.737155e-03 9.066942e-05 0.05399619 \n",
       "227 (Intercept)       58    1.999574e-01 8.261460e-05 0.05399709 \n",
       "228 relative_humidity 58    4.478651e-04 8.261460e-05 0.05399709 \n",
       "229 dry_bulb_temp_f   58    6.255363e-06 8.261460e-05 0.05399709 \n",
       "230 wind_speed        58    7.845196e-04 8.261460e-05 0.05399709 \n",
       "231 station_pressure  58   -7.736045e-03 8.261460e-05 0.05399709 \n",
       "232 (Intercept)       59    1.998837e-01 7.527534e-05 0.05399784 \n",
       "233 relative_humidity 59    4.481452e-04 7.527534e-05 0.05399784 \n",
       "234 dry_bulb_temp_f   59    6.497160e-06 7.527534e-05 0.05399784 \n",
       "235 wind_speed        59    7.855171e-04 7.527534e-05 0.05399784 \n",
       "236 station_pressure  59   -7.735027e-03 7.527534e-05 0.05399784 \n",
       "237 (Intercept)       60    1.998164e-01 6.858809e-05 0.05399847 \n",
       "238 relative_humidity 60    4.484005e-04 6.858809e-05 0.05399847 \n",
       "239 dry_bulb_temp_f   60    6.717537e-06 6.858809e-05 0.05399847 \n",
       "240 wind_speed        60    7.864263e-04 6.858809e-05 0.05399847 \n",
       "241 station_pressure  60   -7.734095e-03 6.858809e-05 0.05399847 \n",
       "242 (Intercept)       61    1.997549e-01 6.249491e-05 0.05399899 \n",
       "243 relative_humidity 61    4.486332e-04 6.249491e-05 0.05399899 \n",
       "244 dry_bulb_temp_f   61    6.918386e-06 6.249491e-05 0.05399899 \n",
       "245 wind_speed        61    7.872549e-04 6.249491e-05 0.05399899 \n",
       "246 station_pressure  61   -7.733241e-03 6.249491e-05 0.05399899 "
      ]
     },
     "metadata": {},
     "output_type": "display_data"
    },
    {
     "data": {
      "text/html": [
       "<table>\n",
       "<caption>A tibble: 1 × 3</caption>\n",
       "<thead>\n",
       "\t<tr><th scope=col>.metric</th><th scope=col>.estimator</th><th scope=col>.estimate</th></tr>\n",
       "\t<tr><th scope=col>&lt;chr&gt;</th><th scope=col>&lt;chr&gt;</th><th scope=col>&lt;dbl&gt;</th></tr>\n",
       "</thead>\n",
       "<tbody>\n",
       "\t<tr><td>rmse</td><td>standard</td><td>0.04337058</td></tr>\n",
       "</tbody>\n",
       "</table>\n"
      ],
      "text/latex": [
       "A tibble: 1 × 3\n",
       "\\begin{tabular}{lll}\n",
       " .metric & .estimator & .estimate\\\\\n",
       " <chr> & <chr> & <dbl>\\\\\n",
       "\\hline\n",
       "\t rmse & standard & 0.04337058\\\\\n",
       "\\end{tabular}\n"
      ],
      "text/markdown": [
       "\n",
       "A tibble: 1 × 3\n",
       "\n",
       "| .metric &lt;chr&gt; | .estimator &lt;chr&gt; | .estimate &lt;dbl&gt; |\n",
       "|---|---|---|\n",
       "| rmse | standard | 0.04337058 |\n",
       "\n"
      ],
      "text/plain": [
       "  .metric .estimator .estimate \n",
       "1 rmse    standard   0.04337058"
      ]
     },
     "metadata": {},
     "output_type": "display_data"
    }
   ],
   "source": [
    "#Create first improved model-mix regression\n",
    "weatherrecipe <- recipe(precip~., data=train_data)\n",
    "ridge_spec <- linear_reg(penalty=0.1, mixture= 0.5) %>%\n",
    "set_engine(\"glmnet\")\n",
    "\n",
    "ridge_wf<-workflow() %>% add_recipe(weatherrecipe)\n",
    "\n",
    "\n",
    "ridge_fit <- ridge_wf%>%\n",
    "add_model(ridge_spec)%>%\n",
    "fit(data=train_data)\n",
    "\n",
    "ridge_fit%>%\n",
    "pull_workflow_fit() %>% \n",
    "tidy()\n",
    "\n",
    "# check model performance\n",
    "train_results <- ridge_fit %>% predict(new_data=train_data)%>%\n",
    "                    mutate(truth=train_data$precip)\n",
    "ridgefit_value <- rmse(train_results, truth =truth, estimate=.pred)\n",
    "ridgefit_value"
   ]
  },
  {
   "cell_type": "code",
   "execution_count": 23,
   "metadata": {
    "collapsed": true,
    "jupyter": {
     "outputs_hidden": true
    },
    "tags": []
   },
   "outputs": [
    {
     "data": {
      "text/html": [
       "<table>\n",
       "<caption>A tibble: 246 × 5</caption>\n",
       "<thead>\n",
       "\t<tr><th scope=col>term</th><th scope=col>step</th><th scope=col>estimate</th><th scope=col>lambda</th><th scope=col>dev.ratio</th></tr>\n",
       "\t<tr><th scope=col>&lt;chr&gt;</th><th scope=col>&lt;dbl&gt;</th><th scope=col>&lt;dbl&gt;</th><th scope=col>&lt;dbl&gt;</th><th scope=col>&lt;dbl&gt;</th></tr>\n",
       "</thead>\n",
       "<tbody>\n",
       "\t<tr><td>(Intercept)      </td><td> 1</td><td> 6.693325e-03</td><td>0.016599197</td><td>0.000000000</td></tr>\n",
       "\t<tr><td>(Intercept)      </td><td> 2</td><td> 4.611716e-03</td><td>0.015124570</td><td>0.005330902</td></tr>\n",
       "\t<tr><td>relative_humidity</td><td> 2</td><td> 3.158604e-05</td><td>0.015124570</td><td>0.005330902</td></tr>\n",
       "\t<tr><td>(Intercept)      </td><td> 3</td><td> 2.661856e-03</td><td>0.013780945</td><td>0.009944233</td></tr>\n",
       "\t<tr><td>relative_humidity</td><td> 3</td><td> 6.117295e-05</td><td>0.013780945</td><td>0.009944233</td></tr>\n",
       "\t<tr><td>(Intercept)      </td><td> 4</td><td> 8.392719e-04</td><td>0.012556684</td><td>0.013923911</td></tr>\n",
       "\t<tr><td>relative_humidity</td><td> 4</td><td> 8.882860e-05</td><td>0.012556684</td><td>0.013923911</td></tr>\n",
       "\t<tr><td>(Intercept)      </td><td> 5</td><td>-8.609744e-04</td><td>0.011441183</td><td>0.017346782</td></tr>\n",
       "\t<tr><td>relative_humidity</td><td> 5</td><td> 1.146279e-04</td><td>0.011441183</td><td>0.017346782</td></tr>\n",
       "\t<tr><td>(Intercept)      </td><td> 6</td><td>-2.444166e-03</td><td>0.010424780</td><td>0.020282599</td></tr>\n",
       "\t<tr><td>relative_humidity</td><td> 6</td><td> 1.386510e-04</td><td>0.010424780</td><td>0.020282599</td></tr>\n",
       "\t<tr><td>(Intercept)      </td><td> 7</td><td> 3.940492e-04</td><td>0.009498671</td><td>0.022924904</td></tr>\n",
       "\t<tr><td>relative_humidity</td><td> 7</td><td> 1.605711e-04</td><td>0.009498671</td><td>0.022924904</td></tr>\n",
       "\t<tr><td>station_pressure </td><td> 7</td><td>-1.427879e-04</td><td>0.009498671</td><td>0.022924904</td></tr>\n",
       "\t<tr><td>(Intercept)      </td><td> 8</td><td> 3.683741e-02</td><td>0.008654835</td><td>0.026156005</td></tr>\n",
       "\t<tr><td>relative_humidity</td><td> 8</td><td> 1.776461e-04</td><td>0.008654835</td><td>0.026156005</td></tr>\n",
       "\t<tr><td>station_pressure </td><td> 8</td><td>-1.395318e-03</td><td>0.008654835</td><td>0.026156005</td></tr>\n",
       "\t<tr><td>(Intercept)      </td><td> 9</td><td> 6.453579e-02</td><td>0.007885964</td><td>0.029480396</td></tr>\n",
       "\t<tr><td>relative_humidity</td><td> 9</td><td> 1.954618e-04</td><td>0.007885964</td><td>0.029480396</td></tr>\n",
       "\t<tr><td>wind_speed       </td><td> 9</td><td> 2.222242e-05</td><td>0.007885964</td><td>0.029480396</td></tr>\n",
       "\t<tr><td>station_pressure </td><td> 9</td><td>-2.366334e-03</td><td>0.007885964</td><td>0.029480396</td></tr>\n",
       "\t<tr><td>(Intercept)      </td><td>10</td><td> 7.907938e-02</td><td>0.007185396</td><td>0.033316743</td></tr>\n",
       "\t<tr><td>relative_humidity</td><td>10</td><td> 2.157267e-04</td><td>0.007185396</td><td>0.033316743</td></tr>\n",
       "\t<tr><td>wind_speed       </td><td>10</td><td> 8.290542e-05</td><td>0.007185396</td><td>0.033316743</td></tr>\n",
       "\t<tr><td>station_pressure </td><td>10</td><td>-2.918719e-03</td><td>0.007185396</td><td>0.033316743</td></tr>\n",
       "\t<tr><td>(Intercept)      </td><td>11</td><td> 9.207433e-02</td><td>0.006547065</td><td>0.036573506</td></tr>\n",
       "\t<tr><td>relative_humidity</td><td>11</td><td> 2.345508e-04</td><td>0.006547065</td><td>0.036573506</td></tr>\n",
       "\t<tr><td>wind_speed       </td><td>11</td><td> 1.393063e-04</td><td>0.006547065</td><td>0.036573506</td></tr>\n",
       "\t<tr><td>station_pressure </td><td>11</td><td>-3.414685e-03</td><td>0.006547065</td><td>0.036573506</td></tr>\n",
       "\t<tr><td>(Intercept)      </td><td>12</td><td> 1.036785e-01</td><td>0.005965442</td><td>0.039334036</td></tr>\n",
       "\t<tr><td>⋮</td><td>⋮</td><td>⋮</td><td>⋮</td><td>⋮</td></tr>\n",
       "\t<tr><td>(Intercept)      </td><td>56</td><td> 2.001264e-01</td><td>9.950957e-05</td><td>0.05399510</td></tr>\n",
       "\t<tr><td>relative_humidity</td><td>56</td><td> 4.472205e-04</td><td>9.950957e-05</td><td>0.05399510</td></tr>\n",
       "\t<tr><td>dry_bulb_temp_f  </td><td>56</td><td> 5.699009e-06</td><td>9.950957e-05</td><td>0.05399510</td></tr>\n",
       "\t<tr><td>wind_speed       </td><td>56</td><td> 7.822247e-04</td><td>9.950957e-05</td><td>0.05399510</td></tr>\n",
       "\t<tr><td>station_pressure </td><td>56</td><td>-7.738367e-03</td><td>9.950957e-05</td><td>0.05399510</td></tr>\n",
       "\t<tr><td>(Intercept)      </td><td>57</td><td> 2.000381e-01</td><td>9.066942e-05</td><td>0.05399619</td></tr>\n",
       "\t<tr><td>relative_humidity</td><td>57</td><td> 4.475577e-04</td><td>9.066942e-05</td><td>0.05399619</td></tr>\n",
       "\t<tr><td>dry_bulb_temp_f  </td><td>57</td><td> 5.990071e-06</td><td>9.066942e-05</td><td>0.05399619</td></tr>\n",
       "\t<tr><td>wind_speed       </td><td>57</td><td> 7.834253e-04</td><td>9.066942e-05</td><td>0.05399619</td></tr>\n",
       "\t<tr><td>station_pressure </td><td>57</td><td>-7.737155e-03</td><td>9.066942e-05</td><td>0.05399619</td></tr>\n",
       "\t<tr><td>(Intercept)      </td><td>58</td><td> 1.999574e-01</td><td>8.261460e-05</td><td>0.05399709</td></tr>\n",
       "\t<tr><td>relative_humidity</td><td>58</td><td> 4.478651e-04</td><td>8.261460e-05</td><td>0.05399709</td></tr>\n",
       "\t<tr><td>dry_bulb_temp_f  </td><td>58</td><td> 6.255363e-06</td><td>8.261460e-05</td><td>0.05399709</td></tr>\n",
       "\t<tr><td>wind_speed       </td><td>58</td><td> 7.845196e-04</td><td>8.261460e-05</td><td>0.05399709</td></tr>\n",
       "\t<tr><td>station_pressure </td><td>58</td><td>-7.736045e-03</td><td>8.261460e-05</td><td>0.05399709</td></tr>\n",
       "\t<tr><td>(Intercept)      </td><td>59</td><td> 1.998837e-01</td><td>7.527534e-05</td><td>0.05399784</td></tr>\n",
       "\t<tr><td>relative_humidity</td><td>59</td><td> 4.481452e-04</td><td>7.527534e-05</td><td>0.05399784</td></tr>\n",
       "\t<tr><td>dry_bulb_temp_f  </td><td>59</td><td> 6.497160e-06</td><td>7.527534e-05</td><td>0.05399784</td></tr>\n",
       "\t<tr><td>wind_speed       </td><td>59</td><td> 7.855171e-04</td><td>7.527534e-05</td><td>0.05399784</td></tr>\n",
       "\t<tr><td>station_pressure </td><td>59</td><td>-7.735027e-03</td><td>7.527534e-05</td><td>0.05399784</td></tr>\n",
       "\t<tr><td>(Intercept)      </td><td>60</td><td> 1.998164e-01</td><td>6.858809e-05</td><td>0.05399847</td></tr>\n",
       "\t<tr><td>relative_humidity</td><td>60</td><td> 4.484005e-04</td><td>6.858809e-05</td><td>0.05399847</td></tr>\n",
       "\t<tr><td>dry_bulb_temp_f  </td><td>60</td><td> 6.717537e-06</td><td>6.858809e-05</td><td>0.05399847</td></tr>\n",
       "\t<tr><td>wind_speed       </td><td>60</td><td> 7.864263e-04</td><td>6.858809e-05</td><td>0.05399847</td></tr>\n",
       "\t<tr><td>station_pressure </td><td>60</td><td>-7.734095e-03</td><td>6.858809e-05</td><td>0.05399847</td></tr>\n",
       "\t<tr><td>(Intercept)      </td><td>61</td><td> 1.997549e-01</td><td>6.249491e-05</td><td>0.05399899</td></tr>\n",
       "\t<tr><td>relative_humidity</td><td>61</td><td> 4.486332e-04</td><td>6.249491e-05</td><td>0.05399899</td></tr>\n",
       "\t<tr><td>dry_bulb_temp_f  </td><td>61</td><td> 6.918386e-06</td><td>6.249491e-05</td><td>0.05399899</td></tr>\n",
       "\t<tr><td>wind_speed       </td><td>61</td><td> 7.872549e-04</td><td>6.249491e-05</td><td>0.05399899</td></tr>\n",
       "\t<tr><td>station_pressure </td><td>61</td><td>-7.733241e-03</td><td>6.249491e-05</td><td>0.05399899</td></tr>\n",
       "</tbody>\n",
       "</table>\n"
      ],
      "text/latex": [
       "A tibble: 246 × 5\n",
       "\\begin{tabular}{lllll}\n",
       " term & step & estimate & lambda & dev.ratio\\\\\n",
       " <chr> & <dbl> & <dbl> & <dbl> & <dbl>\\\\\n",
       "\\hline\n",
       "\t (Intercept)       &  1 &  6.693325e-03 & 0.016599197 & 0.000000000\\\\\n",
       "\t (Intercept)       &  2 &  4.611716e-03 & 0.015124570 & 0.005330902\\\\\n",
       "\t relative\\_humidity &  2 &  3.158604e-05 & 0.015124570 & 0.005330902\\\\\n",
       "\t (Intercept)       &  3 &  2.661856e-03 & 0.013780945 & 0.009944233\\\\\n",
       "\t relative\\_humidity &  3 &  6.117295e-05 & 0.013780945 & 0.009944233\\\\\n",
       "\t (Intercept)       &  4 &  8.392719e-04 & 0.012556684 & 0.013923911\\\\\n",
       "\t relative\\_humidity &  4 &  8.882860e-05 & 0.012556684 & 0.013923911\\\\\n",
       "\t (Intercept)       &  5 & -8.609744e-04 & 0.011441183 & 0.017346782\\\\\n",
       "\t relative\\_humidity &  5 &  1.146279e-04 & 0.011441183 & 0.017346782\\\\\n",
       "\t (Intercept)       &  6 & -2.444166e-03 & 0.010424780 & 0.020282599\\\\\n",
       "\t relative\\_humidity &  6 &  1.386510e-04 & 0.010424780 & 0.020282599\\\\\n",
       "\t (Intercept)       &  7 &  3.940492e-04 & 0.009498671 & 0.022924904\\\\\n",
       "\t relative\\_humidity &  7 &  1.605711e-04 & 0.009498671 & 0.022924904\\\\\n",
       "\t station\\_pressure  &  7 & -1.427879e-04 & 0.009498671 & 0.022924904\\\\\n",
       "\t (Intercept)       &  8 &  3.683741e-02 & 0.008654835 & 0.026156005\\\\\n",
       "\t relative\\_humidity &  8 &  1.776461e-04 & 0.008654835 & 0.026156005\\\\\n",
       "\t station\\_pressure  &  8 & -1.395318e-03 & 0.008654835 & 0.026156005\\\\\n",
       "\t (Intercept)       &  9 &  6.453579e-02 & 0.007885964 & 0.029480396\\\\\n",
       "\t relative\\_humidity &  9 &  1.954618e-04 & 0.007885964 & 0.029480396\\\\\n",
       "\t wind\\_speed        &  9 &  2.222242e-05 & 0.007885964 & 0.029480396\\\\\n",
       "\t station\\_pressure  &  9 & -2.366334e-03 & 0.007885964 & 0.029480396\\\\\n",
       "\t (Intercept)       & 10 &  7.907938e-02 & 0.007185396 & 0.033316743\\\\\n",
       "\t relative\\_humidity & 10 &  2.157267e-04 & 0.007185396 & 0.033316743\\\\\n",
       "\t wind\\_speed        & 10 &  8.290542e-05 & 0.007185396 & 0.033316743\\\\\n",
       "\t station\\_pressure  & 10 & -2.918719e-03 & 0.007185396 & 0.033316743\\\\\n",
       "\t (Intercept)       & 11 &  9.207433e-02 & 0.006547065 & 0.036573506\\\\\n",
       "\t relative\\_humidity & 11 &  2.345508e-04 & 0.006547065 & 0.036573506\\\\\n",
       "\t wind\\_speed        & 11 &  1.393063e-04 & 0.006547065 & 0.036573506\\\\\n",
       "\t station\\_pressure  & 11 & -3.414685e-03 & 0.006547065 & 0.036573506\\\\\n",
       "\t (Intercept)       & 12 &  1.036785e-01 & 0.005965442 & 0.039334036\\\\\n",
       "\t ⋮ & ⋮ & ⋮ & ⋮ & ⋮\\\\\n",
       "\t (Intercept)       & 56 &  2.001264e-01 & 9.950957e-05 & 0.05399510\\\\\n",
       "\t relative\\_humidity & 56 &  4.472205e-04 & 9.950957e-05 & 0.05399510\\\\\n",
       "\t dry\\_bulb\\_temp\\_f   & 56 &  5.699009e-06 & 9.950957e-05 & 0.05399510\\\\\n",
       "\t wind\\_speed        & 56 &  7.822247e-04 & 9.950957e-05 & 0.05399510\\\\\n",
       "\t station\\_pressure  & 56 & -7.738367e-03 & 9.950957e-05 & 0.05399510\\\\\n",
       "\t (Intercept)       & 57 &  2.000381e-01 & 9.066942e-05 & 0.05399619\\\\\n",
       "\t relative\\_humidity & 57 &  4.475577e-04 & 9.066942e-05 & 0.05399619\\\\\n",
       "\t dry\\_bulb\\_temp\\_f   & 57 &  5.990071e-06 & 9.066942e-05 & 0.05399619\\\\\n",
       "\t wind\\_speed        & 57 &  7.834253e-04 & 9.066942e-05 & 0.05399619\\\\\n",
       "\t station\\_pressure  & 57 & -7.737155e-03 & 9.066942e-05 & 0.05399619\\\\\n",
       "\t (Intercept)       & 58 &  1.999574e-01 & 8.261460e-05 & 0.05399709\\\\\n",
       "\t relative\\_humidity & 58 &  4.478651e-04 & 8.261460e-05 & 0.05399709\\\\\n",
       "\t dry\\_bulb\\_temp\\_f   & 58 &  6.255363e-06 & 8.261460e-05 & 0.05399709\\\\\n",
       "\t wind\\_speed        & 58 &  7.845196e-04 & 8.261460e-05 & 0.05399709\\\\\n",
       "\t station\\_pressure  & 58 & -7.736045e-03 & 8.261460e-05 & 0.05399709\\\\\n",
       "\t (Intercept)       & 59 &  1.998837e-01 & 7.527534e-05 & 0.05399784\\\\\n",
       "\t relative\\_humidity & 59 &  4.481452e-04 & 7.527534e-05 & 0.05399784\\\\\n",
       "\t dry\\_bulb\\_temp\\_f   & 59 &  6.497160e-06 & 7.527534e-05 & 0.05399784\\\\\n",
       "\t wind\\_speed        & 59 &  7.855171e-04 & 7.527534e-05 & 0.05399784\\\\\n",
       "\t station\\_pressure  & 59 & -7.735027e-03 & 7.527534e-05 & 0.05399784\\\\\n",
       "\t (Intercept)       & 60 &  1.998164e-01 & 6.858809e-05 & 0.05399847\\\\\n",
       "\t relative\\_humidity & 60 &  4.484005e-04 & 6.858809e-05 & 0.05399847\\\\\n",
       "\t dry\\_bulb\\_temp\\_f   & 60 &  6.717537e-06 & 6.858809e-05 & 0.05399847\\\\\n",
       "\t wind\\_speed        & 60 &  7.864263e-04 & 6.858809e-05 & 0.05399847\\\\\n",
       "\t station\\_pressure  & 60 & -7.734095e-03 & 6.858809e-05 & 0.05399847\\\\\n",
       "\t (Intercept)       & 61 &  1.997549e-01 & 6.249491e-05 & 0.05399899\\\\\n",
       "\t relative\\_humidity & 61 &  4.486332e-04 & 6.249491e-05 & 0.05399899\\\\\n",
       "\t dry\\_bulb\\_temp\\_f   & 61 &  6.918386e-06 & 6.249491e-05 & 0.05399899\\\\\n",
       "\t wind\\_speed        & 61 &  7.872549e-04 & 6.249491e-05 & 0.05399899\\\\\n",
       "\t station\\_pressure  & 61 & -7.733241e-03 & 6.249491e-05 & 0.05399899\\\\\n",
       "\\end{tabular}\n"
      ],
      "text/markdown": [
       "\n",
       "A tibble: 246 × 5\n",
       "\n",
       "| term &lt;chr&gt; | step &lt;dbl&gt; | estimate &lt;dbl&gt; | lambda &lt;dbl&gt; | dev.ratio &lt;dbl&gt; |\n",
       "|---|---|---|---|---|\n",
       "| (Intercept)       |  1 |  6.693325e-03 | 0.016599197 | 0.000000000 |\n",
       "| (Intercept)       |  2 |  4.611716e-03 | 0.015124570 | 0.005330902 |\n",
       "| relative_humidity |  2 |  3.158604e-05 | 0.015124570 | 0.005330902 |\n",
       "| (Intercept)       |  3 |  2.661856e-03 | 0.013780945 | 0.009944233 |\n",
       "| relative_humidity |  3 |  6.117295e-05 | 0.013780945 | 0.009944233 |\n",
       "| (Intercept)       |  4 |  8.392719e-04 | 0.012556684 | 0.013923911 |\n",
       "| relative_humidity |  4 |  8.882860e-05 | 0.012556684 | 0.013923911 |\n",
       "| (Intercept)       |  5 | -8.609744e-04 | 0.011441183 | 0.017346782 |\n",
       "| relative_humidity |  5 |  1.146279e-04 | 0.011441183 | 0.017346782 |\n",
       "| (Intercept)       |  6 | -2.444166e-03 | 0.010424780 | 0.020282599 |\n",
       "| relative_humidity |  6 |  1.386510e-04 | 0.010424780 | 0.020282599 |\n",
       "| (Intercept)       |  7 |  3.940492e-04 | 0.009498671 | 0.022924904 |\n",
       "| relative_humidity |  7 |  1.605711e-04 | 0.009498671 | 0.022924904 |\n",
       "| station_pressure  |  7 | -1.427879e-04 | 0.009498671 | 0.022924904 |\n",
       "| (Intercept)       |  8 |  3.683741e-02 | 0.008654835 | 0.026156005 |\n",
       "| relative_humidity |  8 |  1.776461e-04 | 0.008654835 | 0.026156005 |\n",
       "| station_pressure  |  8 | -1.395318e-03 | 0.008654835 | 0.026156005 |\n",
       "| (Intercept)       |  9 |  6.453579e-02 | 0.007885964 | 0.029480396 |\n",
       "| relative_humidity |  9 |  1.954618e-04 | 0.007885964 | 0.029480396 |\n",
       "| wind_speed        |  9 |  2.222242e-05 | 0.007885964 | 0.029480396 |\n",
       "| station_pressure  |  9 | -2.366334e-03 | 0.007885964 | 0.029480396 |\n",
       "| (Intercept)       | 10 |  7.907938e-02 | 0.007185396 | 0.033316743 |\n",
       "| relative_humidity | 10 |  2.157267e-04 | 0.007185396 | 0.033316743 |\n",
       "| wind_speed        | 10 |  8.290542e-05 | 0.007185396 | 0.033316743 |\n",
       "| station_pressure  | 10 | -2.918719e-03 | 0.007185396 | 0.033316743 |\n",
       "| (Intercept)       | 11 |  9.207433e-02 | 0.006547065 | 0.036573506 |\n",
       "| relative_humidity | 11 |  2.345508e-04 | 0.006547065 | 0.036573506 |\n",
       "| wind_speed        | 11 |  1.393063e-04 | 0.006547065 | 0.036573506 |\n",
       "| station_pressure  | 11 | -3.414685e-03 | 0.006547065 | 0.036573506 |\n",
       "| (Intercept)       | 12 |  1.036785e-01 | 0.005965442 | 0.039334036 |\n",
       "| ⋮ | ⋮ | ⋮ | ⋮ | ⋮ |\n",
       "| (Intercept)       | 56 |  2.001264e-01 | 9.950957e-05 | 0.05399510 |\n",
       "| relative_humidity | 56 |  4.472205e-04 | 9.950957e-05 | 0.05399510 |\n",
       "| dry_bulb_temp_f   | 56 |  5.699009e-06 | 9.950957e-05 | 0.05399510 |\n",
       "| wind_speed        | 56 |  7.822247e-04 | 9.950957e-05 | 0.05399510 |\n",
       "| station_pressure  | 56 | -7.738367e-03 | 9.950957e-05 | 0.05399510 |\n",
       "| (Intercept)       | 57 |  2.000381e-01 | 9.066942e-05 | 0.05399619 |\n",
       "| relative_humidity | 57 |  4.475577e-04 | 9.066942e-05 | 0.05399619 |\n",
       "| dry_bulb_temp_f   | 57 |  5.990071e-06 | 9.066942e-05 | 0.05399619 |\n",
       "| wind_speed        | 57 |  7.834253e-04 | 9.066942e-05 | 0.05399619 |\n",
       "| station_pressure  | 57 | -7.737155e-03 | 9.066942e-05 | 0.05399619 |\n",
       "| (Intercept)       | 58 |  1.999574e-01 | 8.261460e-05 | 0.05399709 |\n",
       "| relative_humidity | 58 |  4.478651e-04 | 8.261460e-05 | 0.05399709 |\n",
       "| dry_bulb_temp_f   | 58 |  6.255363e-06 | 8.261460e-05 | 0.05399709 |\n",
       "| wind_speed        | 58 |  7.845196e-04 | 8.261460e-05 | 0.05399709 |\n",
       "| station_pressure  | 58 | -7.736045e-03 | 8.261460e-05 | 0.05399709 |\n",
       "| (Intercept)       | 59 |  1.998837e-01 | 7.527534e-05 | 0.05399784 |\n",
       "| relative_humidity | 59 |  4.481452e-04 | 7.527534e-05 | 0.05399784 |\n",
       "| dry_bulb_temp_f   | 59 |  6.497160e-06 | 7.527534e-05 | 0.05399784 |\n",
       "| wind_speed        | 59 |  7.855171e-04 | 7.527534e-05 | 0.05399784 |\n",
       "| station_pressure  | 59 | -7.735027e-03 | 7.527534e-05 | 0.05399784 |\n",
       "| (Intercept)       | 60 |  1.998164e-01 | 6.858809e-05 | 0.05399847 |\n",
       "| relative_humidity | 60 |  4.484005e-04 | 6.858809e-05 | 0.05399847 |\n",
       "| dry_bulb_temp_f   | 60 |  6.717537e-06 | 6.858809e-05 | 0.05399847 |\n",
       "| wind_speed        | 60 |  7.864263e-04 | 6.858809e-05 | 0.05399847 |\n",
       "| station_pressure  | 60 | -7.734095e-03 | 6.858809e-05 | 0.05399847 |\n",
       "| (Intercept)       | 61 |  1.997549e-01 | 6.249491e-05 | 0.05399899 |\n",
       "| relative_humidity | 61 |  4.486332e-04 | 6.249491e-05 | 0.05399899 |\n",
       "| dry_bulb_temp_f   | 61 |  6.918386e-06 | 6.249491e-05 | 0.05399899 |\n",
       "| wind_speed        | 61 |  7.872549e-04 | 6.249491e-05 | 0.05399899 |\n",
       "| station_pressure  | 61 | -7.733241e-03 | 6.249491e-05 | 0.05399899 |\n",
       "\n"
      ],
      "text/plain": [
       "    term              step estimate      lambda       dev.ratio  \n",
       "1   (Intercept)        1    6.693325e-03 0.016599197  0.000000000\n",
       "2   (Intercept)        2    4.611716e-03 0.015124570  0.005330902\n",
       "3   relative_humidity  2    3.158604e-05 0.015124570  0.005330902\n",
       "4   (Intercept)        3    2.661856e-03 0.013780945  0.009944233\n",
       "5   relative_humidity  3    6.117295e-05 0.013780945  0.009944233\n",
       "6   (Intercept)        4    8.392719e-04 0.012556684  0.013923911\n",
       "7   relative_humidity  4    8.882860e-05 0.012556684  0.013923911\n",
       "8   (Intercept)        5   -8.609744e-04 0.011441183  0.017346782\n",
       "9   relative_humidity  5    1.146279e-04 0.011441183  0.017346782\n",
       "10  (Intercept)        6   -2.444166e-03 0.010424780  0.020282599\n",
       "11  relative_humidity  6    1.386510e-04 0.010424780  0.020282599\n",
       "12  (Intercept)        7    3.940492e-04 0.009498671  0.022924904\n",
       "13  relative_humidity  7    1.605711e-04 0.009498671  0.022924904\n",
       "14  station_pressure   7   -1.427879e-04 0.009498671  0.022924904\n",
       "15  (Intercept)        8    3.683741e-02 0.008654835  0.026156005\n",
       "16  relative_humidity  8    1.776461e-04 0.008654835  0.026156005\n",
       "17  station_pressure   8   -1.395318e-03 0.008654835  0.026156005\n",
       "18  (Intercept)        9    6.453579e-02 0.007885964  0.029480396\n",
       "19  relative_humidity  9    1.954618e-04 0.007885964  0.029480396\n",
       "20  wind_speed         9    2.222242e-05 0.007885964  0.029480396\n",
       "21  station_pressure   9   -2.366334e-03 0.007885964  0.029480396\n",
       "22  (Intercept)       10    7.907938e-02 0.007185396  0.033316743\n",
       "23  relative_humidity 10    2.157267e-04 0.007185396  0.033316743\n",
       "24  wind_speed        10    8.290542e-05 0.007185396  0.033316743\n",
       "25  station_pressure  10   -2.918719e-03 0.007185396  0.033316743\n",
       "26  (Intercept)       11    9.207433e-02 0.006547065  0.036573506\n",
       "27  relative_humidity 11    2.345508e-04 0.006547065  0.036573506\n",
       "28  wind_speed        11    1.393063e-04 0.006547065  0.036573506\n",
       "29  station_pressure  11   -3.414685e-03 0.006547065  0.036573506\n",
       "30  (Intercept)       12    1.036785e-01 0.005965442  0.039334036\n",
       "⋮   ⋮                 ⋮    ⋮             ⋮            ⋮          \n",
       "217 (Intercept)       56    2.001264e-01 9.950957e-05 0.05399510 \n",
       "218 relative_humidity 56    4.472205e-04 9.950957e-05 0.05399510 \n",
       "219 dry_bulb_temp_f   56    5.699009e-06 9.950957e-05 0.05399510 \n",
       "220 wind_speed        56    7.822247e-04 9.950957e-05 0.05399510 \n",
       "221 station_pressure  56   -7.738367e-03 9.950957e-05 0.05399510 \n",
       "222 (Intercept)       57    2.000381e-01 9.066942e-05 0.05399619 \n",
       "223 relative_humidity 57    4.475577e-04 9.066942e-05 0.05399619 \n",
       "224 dry_bulb_temp_f   57    5.990071e-06 9.066942e-05 0.05399619 \n",
       "225 wind_speed        57    7.834253e-04 9.066942e-05 0.05399619 \n",
       "226 station_pressure  57   -7.737155e-03 9.066942e-05 0.05399619 \n",
       "227 (Intercept)       58    1.999574e-01 8.261460e-05 0.05399709 \n",
       "228 relative_humidity 58    4.478651e-04 8.261460e-05 0.05399709 \n",
       "229 dry_bulb_temp_f   58    6.255363e-06 8.261460e-05 0.05399709 \n",
       "230 wind_speed        58    7.845196e-04 8.261460e-05 0.05399709 \n",
       "231 station_pressure  58   -7.736045e-03 8.261460e-05 0.05399709 \n",
       "232 (Intercept)       59    1.998837e-01 7.527534e-05 0.05399784 \n",
       "233 relative_humidity 59    4.481452e-04 7.527534e-05 0.05399784 \n",
       "234 dry_bulb_temp_f   59    6.497160e-06 7.527534e-05 0.05399784 \n",
       "235 wind_speed        59    7.855171e-04 7.527534e-05 0.05399784 \n",
       "236 station_pressure  59   -7.735027e-03 7.527534e-05 0.05399784 \n",
       "237 (Intercept)       60    1.998164e-01 6.858809e-05 0.05399847 \n",
       "238 relative_humidity 60    4.484005e-04 6.858809e-05 0.05399847 \n",
       "239 dry_bulb_temp_f   60    6.717537e-06 6.858809e-05 0.05399847 \n",
       "240 wind_speed        60    7.864263e-04 6.858809e-05 0.05399847 \n",
       "241 station_pressure  60   -7.734095e-03 6.858809e-05 0.05399847 \n",
       "242 (Intercept)       61    1.997549e-01 6.249491e-05 0.05399899 \n",
       "243 relative_humidity 61    4.486332e-04 6.249491e-05 0.05399899 \n",
       "244 dry_bulb_temp_f   61    6.918386e-06 6.249491e-05 0.05399899 \n",
       "245 wind_speed        61    7.872549e-04 6.249491e-05 0.05399899 \n",
       "246 station_pressure  61   -7.733241e-03 6.249491e-05 0.05399899 "
      ]
     },
     "metadata": {},
     "output_type": "display_data"
    },
    {
     "data": {
      "text/html": [
       "<table>\n",
       "<caption>A tibble: 1 × 3</caption>\n",
       "<thead>\n",
       "\t<tr><th scope=col>.metric</th><th scope=col>.estimator</th><th scope=col>.estimate</th></tr>\n",
       "\t<tr><th scope=col>&lt;chr&gt;</th><th scope=col>&lt;chr&gt;</th><th scope=col>&lt;dbl&gt;</th></tr>\n",
       "</thead>\n",
       "<tbody>\n",
       "\t<tr><td>rmse</td><td>standard</td><td>0.04313579</td></tr>\n",
       "</tbody>\n",
       "</table>\n"
      ],
      "text/latex": [
       "A tibble: 1 × 3\n",
       "\\begin{tabular}{lll}\n",
       " .metric & .estimator & .estimate\\\\\n",
       " <chr> & <chr> & <dbl>\\\\\n",
       "\\hline\n",
       "\t rmse & standard & 0.04313579\\\\\n",
       "\\end{tabular}\n"
      ],
      "text/markdown": [
       "\n",
       "A tibble: 1 × 3\n",
       "\n",
       "| .metric &lt;chr&gt; | .estimator &lt;chr&gt; | .estimate &lt;dbl&gt; |\n",
       "|---|---|---|\n",
       "| rmse | standard | 0.04313579 |\n",
       "\n"
      ],
      "text/plain": [
       "  .metric .estimator .estimate \n",
       "1 rmse    standard   0.04313579"
      ]
     },
     "metadata": {},
     "output_type": "display_data"
    }
   ],
   "source": [
    "#create second improved model-ridge regression\n",
    "weather2recipe <- recipe(precip~., data=train_data)\n",
    "ridge2_spec <- linear_reg(penalty=0.4, mixture= 0) %>%\n",
    "set_engine(\"glmnet\")\n",
    "\n",
    "ridge2_wf<-workflow() %>% add_recipe(weather2recipe)\n",
    "\n",
    "\n",
    "ridge2_fit <- ridge2_wf%>%\n",
    "add_model(ridge2_spec)%>%\n",
    "fit(data=train_data)\n",
    "ridge_fit%>%\n",
    "pull_workflow_fit() %>% \n",
    "tidy()\n",
    "\n",
    "#check model performance\n",
    "train_results <- ridge2_fit %>% predict(new_data=train_data)%>%\n",
    "                    mutate(truth=train_data$precip)\n",
    "ridge2fit_value <- rmse(train_results, truth =truth, estimate=.pred)\n",
    "ridge2fit_value"
   ]
  },
  {
   "cell_type": "markdown",
   "metadata": {},
   "source": [
    "<a id=\"cell10\"></a>\n",
    "## 10. Find Best Model\n",
    "Compare the regression metrics of each model from section 9 to find the best model overall. To do this, \n",
    "\n",
    "1. Evaluate the models on the **testing set** using at least one metric (like MSE, RMSE or R-squared).\n",
    "2. After calculating the metrics on the testing set for each model, print them out in as a table to easily compare. You can use something like:\n",
    "```\n",
    "model_names <- c(\"model_1\", \"model_2\", \"model_3\")\n",
    "train_error <- c(\"model_1_value\", \"model_2_value\", \"model_3_value\")\n",
    "test_error <- c(\"model_1_value\", \"model_2_value\", \"model_3_value\")\n",
    "comparison_df <- data.frame(model_names, train_error, test_error)\n",
    "```\n",
    "3. Finally, from the comparison table you create, conclude which model performed the best.\n"
   ]
  },
  {
   "cell_type": "code",
   "execution_count": 27,
   "metadata": {
    "tags": []
   },
   "outputs": [
    {
     "data": {
      "text/html": [
       "<table>\n",
       "<caption>A tibble: 1 × 3</caption>\n",
       "<thead>\n",
       "\t<tr><th scope=col>.metric</th><th scope=col>.estimator</th><th scope=col>.estimate</th></tr>\n",
       "\t<tr><th scope=col>&lt;chr&gt;</th><th scope=col>&lt;chr&gt;</th><th scope=col>&lt;dbl&gt;</th></tr>\n",
       "</thead>\n",
       "<tbody>\n",
       "\t<tr><td>rmse</td><td>standard</td><td>0.03418214</td></tr>\n",
       "</tbody>\n",
       "</table>\n"
      ],
      "text/latex": [
       "A tibble: 1 × 3\n",
       "\\begin{tabular}{lll}\n",
       " .metric & .estimator & .estimate\\\\\n",
       " <chr> & <chr> & <dbl>\\\\\n",
       "\\hline\n",
       "\t rmse & standard & 0.03418214\\\\\n",
       "\\end{tabular}\n"
      ],
      "text/markdown": [
       "\n",
       "A tibble: 1 × 3\n",
       "\n",
       "| .metric &lt;chr&gt; | .estimator &lt;chr&gt; | .estimate &lt;dbl&gt; |\n",
       "|---|---|---|\n",
       "| rmse | standard | 0.03418214 |\n",
       "\n"
      ],
      "text/plain": [
       "  .metric .estimator .estimate \n",
       "1 rmse    standard   0.03418214"
      ]
     },
     "metadata": {},
     "output_type": "display_data"
    },
    {
     "data": {
      "text/html": [
       "<table>\n",
       "<caption>A tibble: 1 × 3</caption>\n",
       "<thead>\n",
       "\t<tr><th scope=col>.metric</th><th scope=col>.estimator</th><th scope=col>.estimate</th></tr>\n",
       "\t<tr><th scope=col>&lt;chr&gt;</th><th scope=col>&lt;chr&gt;</th><th scope=col>&lt;dbl&gt;</th></tr>\n",
       "</thead>\n",
       "<tbody>\n",
       "\t<tr><td>rmse</td><td>standard</td><td>0.03418214</td></tr>\n",
       "</tbody>\n",
       "</table>\n"
      ],
      "text/latex": [
       "A tibble: 1 × 3\n",
       "\\begin{tabular}{lll}\n",
       " .metric & .estimator & .estimate\\\\\n",
       " <chr> & <chr> & <dbl>\\\\\n",
       "\\hline\n",
       "\t rmse & standard & 0.03418214\\\\\n",
       "\\end{tabular}\n"
      ],
      "text/markdown": [
       "\n",
       "A tibble: 1 × 3\n",
       "\n",
       "| .metric &lt;chr&gt; | .estimator &lt;chr&gt; | .estimate &lt;dbl&gt; |\n",
       "|---|---|---|\n",
       "| rmse | standard | 0.03418214 |\n",
       "\n"
      ],
      "text/plain": [
       "  .metric .estimator .estimate \n",
       "1 rmse    standard   0.03418214"
      ]
     },
     "metadata": {},
     "output_type": "display_data"
    },
    {
     "data": {
      "text/html": [
       "<table>\n",
       "<caption>A data.frame: 2 × 3</caption>\n",
       "<thead>\n",
       "\t<tr><th scope=col>model_names</th><th scope=col>train_error</th><th scope=col>test_error</th></tr>\n",
       "\t<tr><th scope=col>&lt;fct&gt;</th><th scope=col>&lt;fct&gt;</th><th scope=col>&lt;fct&gt;</th></tr>\n",
       "</thead>\n",
       "<tbody>\n",
       "\t<tr><td>ridge_fit </td><td>0.04337058</td><td>0.03418214</td></tr>\n",
       "\t<tr><td>ridge_fit2</td><td>0.04313579</td><td>0.03418214</td></tr>\n",
       "</tbody>\n",
       "</table>\n"
      ],
      "text/latex": [
       "A data.frame: 2 × 3\n",
       "\\begin{tabular}{lll}\n",
       " model\\_names & train\\_error & test\\_error\\\\\n",
       " <fct> & <fct> & <fct>\\\\\n",
       "\\hline\n",
       "\t ridge\\_fit  & 0.04337058 & 0.03418214\\\\\n",
       "\t ridge\\_fit2 & 0.04313579 & 0.03418214\\\\\n",
       "\\end{tabular}\n"
      ],
      "text/markdown": [
       "\n",
       "A data.frame: 2 × 3\n",
       "\n",
       "| model_names &lt;fct&gt; | train_error &lt;fct&gt; | test_error &lt;fct&gt; |\n",
       "|---|---|---|\n",
       "| ridge_fit  | 0.04337058 | 0.03418214 |\n",
       "| ridge_fit2 | 0.04313579 | 0.03418214 |\n",
       "\n"
      ],
      "text/plain": [
       "  model_names train_error test_error\n",
       "1 ridge_fit   0.04337058  0.03418214\n",
       "2 ridge_fit2  0.04313579  0.03418214"
      ]
     },
     "metadata": {},
     "output_type": "display_data"
    }
   ],
   "source": [
    "#Evaluate 1st improved model\n",
    "\n",
    "test_results <- ridge_fit %>% predict(new_data=test_data) %>%\n",
    "                    mutate(truth=test_data$precip)\n",
    "ridgefittest_value <- rmse(test_results, truth =truth, estimate=.pred)\n",
    "ridgefittest_value\n",
    "\n",
    "#Evaluate 2nd improved model\n",
    "train_results <- ridge2_fit %>% predict(new_data=test_data)%>%\n",
    "                    mutate(truth=test_data$precip)\n",
    "ridge2fit_value <- rmse(test_results, truth =truth, estimate=.pred)\n",
    "ridge2fit_value\n",
    "\n",
    "model_names <- c(\"ridge_fit\", \"ridge_fit2\")\n",
    "train_error <- c(\"0.04337058\", \"0.04313579\")\n",
    "test_error <- c(\"0.03418214\", \"0.03418214\")\n",
    "comparison_df <- data.frame(model_names, train_error, test_error)\n",
    "comparison_df"
   ]
  },
  {
   "cell_type": "markdown",
   "metadata": {},
   "source": [
    "## Author(s)\n",
    "\n",
    "<h4> Yiwen Li </h4>\n",
    "\n",
    "## Contributions\n",
    "\n",
    "<h4> Tiffany Zhu </h4>\n",
    "\n",
    "## <h3 align=\"center\"> © IBM Corporation 2021. All rights reserved. <h3/>\n"
   ]
  }
 ],
 "metadata": {
  "kernelspec": {
   "display_name": "R",
   "language": "R",
   "name": "conda-env-r-r"
  },
  "language_info": {
   "codemirror_mode": "r",
   "file_extension": ".r",
   "mimetype": "text/x-r-source",
   "name": "R",
   "pygments_lexer": "r",
   "version": "3.5.1"
  }
 },
 "nbformat": 4,
 "nbformat_minor": 4
}
